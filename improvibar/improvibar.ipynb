{
 "cells": [
  {
   "cell_type": "markdown",
   "metadata": {},
   "source": [
    "# shop results"
   ]
  },
  {
   "cell_type": "markdown",
   "metadata": {},
   "source": [
    "## goal\n",
    "\n",
    "* find factors influencing this shop's results\n",
    "* predict results"
   ]
  },
  {
   "cell_type": "code",
   "execution_count": 1,
   "metadata": {},
   "outputs": [],
   "source": [
    "from itertools import product\n",
    "\n",
    "import numpy as np\n",
    "import pandas as pd\n",
    "import matplotlib.pyplot as plt\n",
    "\n",
    "%matplotlib inline"
   ]
  },
  {
   "cell_type": "markdown",
   "metadata": {},
   "source": [
    "## Load data"
   ]
  },
  {
   "cell_type": "code",
   "execution_count": 2,
   "metadata": {},
   "outputs": [],
   "source": [
    "from datetime import datetime\n",
    "from os import path, scandir\n",
    "\n",
    "daily_datadir = \"./data/CaisseJour/\"\n",
    "datadirs = [path.join(daily_datadir, d.name) for d in scandir(daily_datadir)]\n",
    "data_files = [\n",
    "    path.join(datadir, file.name)\n",
    "    for datadir in datadirs\n",
    "    for file in scandir(datadir)\n",
    "]"
   ]
  },
  {
   "cell_type": "code",
   "execution_count": 3,
   "metadata": {},
   "outputs": [],
   "source": [
    "def parse_caisse(filename, keywords=(\"Chiffre\", \"TVA\", \"nombre\", \"moyen\", \"ticket\")):\n",
    "    \"\"\"Parse file \"caisse jour\"\n",
    "    \n",
    "    Args:\n",
    "        filename (string): file to parse\n",
    "        keywords (list): list of keywords for  one line data\n",
    "    \"\"\"\n",
    "    data = {}\n",
    "    with open(filename, \"br\") as fd:\n",
    "        for line in fd:\n",
    "            line = line.decode(\"Windows-1252\",errors=\"ignore\")\n",
    "            if \"à\" in line:\n",
    "                # try with date\n",
    "                try:\n",
    "                    date = [int(d) for d in  line.split(\" \")[0].split(\"/\")]\n",
    "                except ValueError:\n",
    "                    # \"à\" in cocktail name\n",
    "                    continue\n",
    "                data[\"date\"] = datetime(date[2], date[1], date[0])\n",
    "            elif any(keyword in line for keyword in keywords):\n",
    "                value = line.split(\";\")[1]\n",
    "                value = value.strip(\"€ \\r\\n\")\n",
    "                try:\n",
    "                    # parse french number representation\n",
    "                    value = value.replace(\",\", \".\")\n",
    "                    value = float(value)\n",
    "                except ValueError:\n",
    "                    # not a number, cannot convertto float\n",
    "                    pass\n",
    "                data[line.split(\";\")[0].strip()] = value\n",
    "        #TODO: add small tables\n",
    "    return data"
   ]
  },
  {
   "cell_type": "code",
   "execution_count": 4,
   "metadata": {},
   "outputs": [],
   "source": [
    "daily = pd.DataFrame(parse_caisse(f) for f in data_files)\n",
    "daily.index = daily[\"date\"]  # keep date and index"
   ]
  },
  {
   "cell_type": "code",
   "execution_count": 5,
   "metadata": {},
   "outputs": [
    {
     "data": {
      "text/html": [
       "<div>\n",
       "<style scoped>\n",
       "    .dataframe tbody tr th:only-of-type {\n",
       "        vertical-align: middle;\n",
       "    }\n",
       "\n",
       "    .dataframe tbody tr th {\n",
       "        vertical-align: top;\n",
       "    }\n",
       "\n",
       "    .dataframe thead th {\n",
       "        text-align: right;\n",
       "    }\n",
       "</style>\n",
       "<table border=\"1\" class=\"dataframe\">\n",
       "  <thead>\n",
       "    <tr style=\"text-align: right;\">\n",
       "      <th></th>\n",
       "      <th>Chiffre d'Affaires HT</th>\n",
       "      <th>Chiffre d'Affaires TTC</th>\n",
       "      <th>Coefficient moyen</th>\n",
       "      <th>Nom TVA</th>\n",
       "      <th>Nombre moyen de produits / Ticket</th>\n",
       "      <th>TVA Collecté</th>\n",
       "      <th>TVA Vente 10%</th>\n",
       "      <th>TVA Vente 20%</th>\n",
       "      <th>Ticket moyen TTC</th>\n",
       "      <th>date</th>\n",
       "    </tr>\n",
       "    <tr>\n",
       "      <th>date</th>\n",
       "      <th></th>\n",
       "      <th></th>\n",
       "      <th></th>\n",
       "      <th></th>\n",
       "      <th></th>\n",
       "      <th></th>\n",
       "      <th></th>\n",
       "      <th></th>\n",
       "      <th></th>\n",
       "      <th></th>\n",
       "    </tr>\n",
       "  </thead>\n",
       "  <tbody>\n",
       "    <tr>\n",
       "      <th>2018-11-09</th>\n",
       "      <td>545.26</td>\n",
       "      <td>633.9</td>\n",
       "      <td>0.0</td>\n",
       "      <td>Taux TVA</td>\n",
       "      <td>1.6</td>\n",
       "      <td>88.64</td>\n",
       "      <td>10 %</td>\n",
       "      <td>20 %</td>\n",
       "      <td>10.06</td>\n",
       "      <td>2018-11-09</td>\n",
       "    </tr>\n",
       "    <tr>\n",
       "      <th>2018-11-03</th>\n",
       "      <td>242.34</td>\n",
       "      <td>285.8</td>\n",
       "      <td>0.0</td>\n",
       "      <td>Taux TVA</td>\n",
       "      <td>1.6</td>\n",
       "      <td>43.46</td>\n",
       "      <td>10 %</td>\n",
       "      <td>20 %</td>\n",
       "      <td>10.99</td>\n",
       "      <td>2018-11-03</td>\n",
       "    </tr>\n",
       "    <tr>\n",
       "      <th>2018-11-10</th>\n",
       "      <td>1370.21</td>\n",
       "      <td>1616.0</td>\n",
       "      <td>0.0</td>\n",
       "      <td>Taux TVA</td>\n",
       "      <td>1.8</td>\n",
       "      <td>245.79</td>\n",
       "      <td>10 %</td>\n",
       "      <td>20 %</td>\n",
       "      <td>11.14</td>\n",
       "      <td>2018-11-10</td>\n",
       "    </tr>\n",
       "    <tr>\n",
       "      <th>2018-11-22</th>\n",
       "      <td>153.58</td>\n",
       "      <td>182.0</td>\n",
       "      <td>0.0</td>\n",
       "      <td>Taux TVA</td>\n",
       "      <td>1.2</td>\n",
       "      <td>28.42</td>\n",
       "      <td>10 %</td>\n",
       "      <td>20 %</td>\n",
       "      <td>7.00</td>\n",
       "      <td>2018-11-22</td>\n",
       "    </tr>\n",
       "    <tr>\n",
       "      <th>2018-11-02</th>\n",
       "      <td>394.43</td>\n",
       "      <td>459.7</td>\n",
       "      <td>0.0</td>\n",
       "      <td>Taux TVA</td>\n",
       "      <td>1.5</td>\n",
       "      <td>65.27</td>\n",
       "      <td>10 %</td>\n",
       "      <td>20 %</td>\n",
       "      <td>10.95</td>\n",
       "      <td>2018-11-02</td>\n",
       "    </tr>\n",
       "  </tbody>\n",
       "</table>\n",
       "</div>"
      ],
      "text/plain": [
       "            Chiffre d'Affaires HT  Chiffre d'Affaires TTC  Coefficient moyen  \\\n",
       "date                                                                           \n",
       "2018-11-09                 545.26                   633.9                0.0   \n",
       "2018-11-03                 242.34                   285.8                0.0   \n",
       "2018-11-10                1370.21                  1616.0                0.0   \n",
       "2018-11-22                 153.58                   182.0                0.0   \n",
       "2018-11-02                 394.43                   459.7                0.0   \n",
       "\n",
       "             Nom TVA  Nombre moyen de produits / Ticket  TVA Collecté  \\\n",
       "date                                                                    \n",
       "2018-11-09  Taux TVA                                1.6         88.64   \n",
       "2018-11-03  Taux TVA                                1.6         43.46   \n",
       "2018-11-10  Taux TVA                                1.8        245.79   \n",
       "2018-11-22  Taux TVA                                1.2         28.42   \n",
       "2018-11-02  Taux TVA                                1.5         65.27   \n",
       "\n",
       "           TVA Vente 10% TVA Vente 20%  Ticket moyen TTC       date  \n",
       "date                                                                 \n",
       "2018-11-09          10 %          20 %             10.06 2018-11-09  \n",
       "2018-11-03          10 %          20 %             10.99 2018-11-03  \n",
       "2018-11-10          10 %          20 %             11.14 2018-11-10  \n",
       "2018-11-22          10 %          20 %              7.00 2018-11-22  \n",
       "2018-11-02          10 %          20 %             10.95 2018-11-02  "
      ]
     },
     "execution_count": 5,
     "metadata": {},
     "output_type": "execute_result"
    }
   ],
   "source": [
    "daily.head()"
   ]
  },
  {
   "cell_type": "markdown",
   "metadata": {},
   "source": [
    "## Calendar"
   ]
  },
  {
   "cell_type": "code",
   "execution_count": 6,
   "metadata": {},
   "outputs": [],
   "source": [
    "start_date = min(daily[\"date\"])\n",
    "end_date = max(daily[\"date\"])\n",
    "\n",
    "#start_date = datetime(2018, 09, 01)\n",
    "#end_date = datetime(2019, 09, 01)\n",
    "\n",
    "calendar = pd.DataFrame(pd.date_range(start_date, end_date), columns=(\"date\",))\n",
    "#calendar[\"day\", \"month\", \"year\", \"wod\"] = list(map(lambda x: (x.day, x.month, x.year, x.weekday()), calendar[\"date\"]))\n",
    "calendar[\"day\"] = list(map(lambda x: x.day, calendar[\"date\"]))\n",
    "calendar[\"month\"] = list(map(lambda x: x.month, calendar[\"date\"]))\n",
    "calendar[\"year\"] = list(map(lambda x: x.year, calendar[\"date\"]))\n",
    "calendar[\"dow\"] = list(map(lambda x: x.weekday(), calendar[\"date\"]))"
   ]
  },
  {
   "cell_type": "markdown",
   "metadata": {},
   "source": [
    "### Holidays\n",
    "\n",
    "from https://date.nager.at/PublicHoliday/DownloadCSV/FR/2018"
   ]
  },
  {
   "cell_type": "code",
   "execution_count": 7,
   "metadata": {},
   "outputs": [],
   "source": [
    "datadir = \"./data/calendars\"\n",
    "data_files = [path.join(datadir, file.name) for file in scandir(datadir)]\n",
    "\n",
    "holidays = pd.concat(\n",
    "    [\n",
    "        pd.read_csv(file) \n",
    "        for file in data_files\n",
    "    ]\n",
    ")\n",
    "\n",
    "# reformat date\n",
    "holidays[\"Date\"] = pd.Series(\n",
    "    [\n",
    "        datetime(int(x.split(\"-\")[0]), int(x.split(\"-\")[1]), int(x.split(\"-\")[2]))\n",
    "        for x in holidays[\"Date\"]\n",
    "    ]\n",
    ")"
   ]
  },
  {
   "cell_type": "code",
   "execution_count": 8,
   "metadata": {},
   "outputs": [
    {
     "data": {
      "text/html": [
       "<div>\n",
       "<style scoped>\n",
       "    .dataframe tbody tr th:only-of-type {\n",
       "        vertical-align: middle;\n",
       "    }\n",
       "\n",
       "    .dataframe tbody tr th {\n",
       "        vertical-align: top;\n",
       "    }\n",
       "\n",
       "    .dataframe thead th {\n",
       "        text-align: right;\n",
       "    }\n",
       "</style>\n",
       "<table border=\"1\" class=\"dataframe\">\n",
       "  <thead>\n",
       "    <tr style=\"text-align: right;\">\n",
       "      <th></th>\n",
       "      <th>Date</th>\n",
       "      <th>LocalName</th>\n",
       "      <th>Name</th>\n",
       "      <th>CountryCode</th>\n",
       "      <th>Fixed</th>\n",
       "      <th>Global</th>\n",
       "      <th>LaunchYear</th>\n",
       "    </tr>\n",
       "  </thead>\n",
       "  <tbody>\n",
       "    <tr>\n",
       "      <th>0</th>\n",
       "      <td>2018-01-01</td>\n",
       "      <td>Jour de l'an</td>\n",
       "      <td>New Year's Day</td>\n",
       "      <td>FR</td>\n",
       "      <td>True</td>\n",
       "      <td>True</td>\n",
       "      <td>1967.0</td>\n",
       "    </tr>\n",
       "    <tr>\n",
       "      <th>1</th>\n",
       "      <td>2018-03-30</td>\n",
       "      <td>Vendredi saint</td>\n",
       "      <td>Good Friday</td>\n",
       "      <td>FR</td>\n",
       "      <td>False</td>\n",
       "      <td>False</td>\n",
       "      <td>NaN</td>\n",
       "    </tr>\n",
       "    <tr>\n",
       "      <th>2</th>\n",
       "      <td>2018-04-02</td>\n",
       "      <td>Lundi de Pâques</td>\n",
       "      <td>Easter Monday</td>\n",
       "      <td>FR</td>\n",
       "      <td>False</td>\n",
       "      <td>True</td>\n",
       "      <td>1642.0</td>\n",
       "    </tr>\n",
       "    <tr>\n",
       "      <th>3</th>\n",
       "      <td>2018-05-01</td>\n",
       "      <td>Fête du premier mai</td>\n",
       "      <td>Labour Day</td>\n",
       "      <td>FR</td>\n",
       "      <td>True</td>\n",
       "      <td>True</td>\n",
       "      <td>NaN</td>\n",
       "    </tr>\n",
       "    <tr>\n",
       "      <th>4</th>\n",
       "      <td>2018-05-08</td>\n",
       "      <td>Fête de la Victoire</td>\n",
       "      <td>Victory in Europe Day</td>\n",
       "      <td>FR</td>\n",
       "      <td>True</td>\n",
       "      <td>True</td>\n",
       "      <td>NaN</td>\n",
       "    </tr>\n",
       "  </tbody>\n",
       "</table>\n",
       "</div>"
      ],
      "text/plain": [
       "        Date            LocalName                   Name CountryCode  Fixed  \\\n",
       "0 2018-01-01         Jour de l'an         New Year's Day          FR   True   \n",
       "1 2018-03-30       Vendredi saint            Good Friday          FR  False   \n",
       "2 2018-04-02      Lundi de Pâques          Easter Monday          FR  False   \n",
       "3 2018-05-01  Fête du premier mai             Labour Day          FR   True   \n",
       "4 2018-05-08  Fête de la Victoire  Victory in Europe Day          FR   True   \n",
       "\n",
       "   Global  LaunchYear  \n",
       "0    True      1967.0  \n",
       "1   False         NaN  \n",
       "2    True      1642.0  \n",
       "3    True         NaN  \n",
       "4    True         NaN  "
      ]
     },
     "execution_count": 8,
     "metadata": {},
     "output_type": "execute_result"
    }
   ],
   "source": [
    "holidays.head()"
   ]
  },
  {
   "cell_type": "code",
   "execution_count": 9,
   "metadata": {},
   "outputs": [],
   "source": [
    "calendar[\"public holidays\"] = list(map(lambda x: x in list(holidays[\"Date\"]), calendar[\"date\"]))"
   ]
  },
  {
   "cell_type": "code",
   "execution_count": 10,
   "metadata": {},
   "outputs": [],
   "source": [
    "calendar = calendar.set_index(\"date\")"
   ]
  },
  {
   "cell_type": "code",
   "execution_count": 11,
   "metadata": {},
   "outputs": [
    {
     "data": {
      "text/html": [
       "<div>\n",
       "<style scoped>\n",
       "    .dataframe tbody tr th:only-of-type {\n",
       "        vertical-align: middle;\n",
       "    }\n",
       "\n",
       "    .dataframe tbody tr th {\n",
       "        vertical-align: top;\n",
       "    }\n",
       "\n",
       "    .dataframe thead th {\n",
       "        text-align: right;\n",
       "    }\n",
       "</style>\n",
       "<table border=\"1\" class=\"dataframe\">\n",
       "  <thead>\n",
       "    <tr style=\"text-align: right;\">\n",
       "      <th></th>\n",
       "      <th>day</th>\n",
       "      <th>month</th>\n",
       "      <th>year</th>\n",
       "      <th>dow</th>\n",
       "      <th>public holidays</th>\n",
       "    </tr>\n",
       "    <tr>\n",
       "      <th>date</th>\n",
       "      <th></th>\n",
       "      <th></th>\n",
       "      <th></th>\n",
       "      <th></th>\n",
       "      <th></th>\n",
       "    </tr>\n",
       "  </thead>\n",
       "  <tbody>\n",
       "    <tr>\n",
       "      <th>2018-08-29</th>\n",
       "      <td>29</td>\n",
       "      <td>8</td>\n",
       "      <td>2018</td>\n",
       "      <td>2</td>\n",
       "      <td>False</td>\n",
       "    </tr>\n",
       "    <tr>\n",
       "      <th>2018-08-30</th>\n",
       "      <td>30</td>\n",
       "      <td>8</td>\n",
       "      <td>2018</td>\n",
       "      <td>3</td>\n",
       "      <td>False</td>\n",
       "    </tr>\n",
       "    <tr>\n",
       "      <th>2018-08-31</th>\n",
       "      <td>31</td>\n",
       "      <td>8</td>\n",
       "      <td>2018</td>\n",
       "      <td>4</td>\n",
       "      <td>False</td>\n",
       "    </tr>\n",
       "    <tr>\n",
       "      <th>2018-09-01</th>\n",
       "      <td>1</td>\n",
       "      <td>9</td>\n",
       "      <td>2018</td>\n",
       "      <td>5</td>\n",
       "      <td>False</td>\n",
       "    </tr>\n",
       "    <tr>\n",
       "      <th>2018-09-02</th>\n",
       "      <td>2</td>\n",
       "      <td>9</td>\n",
       "      <td>2018</td>\n",
       "      <td>6</td>\n",
       "      <td>False</td>\n",
       "    </tr>\n",
       "  </tbody>\n",
       "</table>\n",
       "</div>"
      ],
      "text/plain": [
       "            day  month  year  dow  public holidays\n",
       "date                                              \n",
       "2018-08-29   29      8  2018    2            False\n",
       "2018-08-30   30      8  2018    3            False\n",
       "2018-08-31   31      8  2018    4            False\n",
       "2018-09-01    1      9  2018    5            False\n",
       "2018-09-02    2      9  2018    6            False"
      ]
     },
     "execution_count": 11,
     "metadata": {},
     "output_type": "execute_result"
    }
   ],
   "source": [
    "calendar.head()"
   ]
  },
  {
   "cell_type": "markdown",
   "metadata": {},
   "source": [
    "join data"
   ]
  },
  {
   "cell_type": "code",
   "execution_count": 12,
   "metadata": {},
   "outputs": [
    {
     "data": {
      "text/html": [
       "<div>\n",
       "<style scoped>\n",
       "    .dataframe tbody tr th:only-of-type {\n",
       "        vertical-align: middle;\n",
       "    }\n",
       "\n",
       "    .dataframe tbody tr th {\n",
       "        vertical-align: top;\n",
       "    }\n",
       "\n",
       "    .dataframe thead th {\n",
       "        text-align: right;\n",
       "    }\n",
       "</style>\n",
       "<table border=\"1\" class=\"dataframe\">\n",
       "  <thead>\n",
       "    <tr style=\"text-align: right;\">\n",
       "      <th></th>\n",
       "      <th>Chiffre d'Affaires HT</th>\n",
       "      <th>Chiffre d'Affaires TTC</th>\n",
       "      <th>Coefficient moyen</th>\n",
       "      <th>Nom TVA</th>\n",
       "      <th>Nombre moyen de produits / Ticket</th>\n",
       "      <th>TVA Collecté</th>\n",
       "      <th>TVA Vente 10%</th>\n",
       "      <th>TVA Vente 20%</th>\n",
       "      <th>Ticket moyen TTC</th>\n",
       "      <th>date</th>\n",
       "      <th>day</th>\n",
       "      <th>month</th>\n",
       "      <th>year</th>\n",
       "      <th>dow</th>\n",
       "      <th>public holidays</th>\n",
       "    </tr>\n",
       "    <tr>\n",
       "      <th>date</th>\n",
       "      <th></th>\n",
       "      <th></th>\n",
       "      <th></th>\n",
       "      <th></th>\n",
       "      <th></th>\n",
       "      <th></th>\n",
       "      <th></th>\n",
       "      <th></th>\n",
       "      <th></th>\n",
       "      <th></th>\n",
       "      <th></th>\n",
       "      <th></th>\n",
       "      <th></th>\n",
       "      <th></th>\n",
       "      <th></th>\n",
       "    </tr>\n",
       "  </thead>\n",
       "  <tbody>\n",
       "    <tr>\n",
       "      <th>2018-08-29</th>\n",
       "      <td>88.99</td>\n",
       "      <td>105.6</td>\n",
       "      <td>0.0</td>\n",
       "      <td>Taux TVA</td>\n",
       "      <td>1.3</td>\n",
       "      <td>16.61</td>\n",
       "      <td>10 %</td>\n",
       "      <td>20 %</td>\n",
       "      <td>7.04</td>\n",
       "      <td>2018-08-29</td>\n",
       "      <td>29</td>\n",
       "      <td>8</td>\n",
       "      <td>2018</td>\n",
       "      <td>2</td>\n",
       "      <td>False</td>\n",
       "    </tr>\n",
       "    <tr>\n",
       "      <th>2018-08-30</th>\n",
       "      <td>115.37</td>\n",
       "      <td>134.1</td>\n",
       "      <td>0.0</td>\n",
       "      <td>Taux TVA</td>\n",
       "      <td>2.7</td>\n",
       "      <td>18.73</td>\n",
       "      <td>10 %</td>\n",
       "      <td>20 %</td>\n",
       "      <td>19.16</td>\n",
       "      <td>2018-08-30</td>\n",
       "      <td>30</td>\n",
       "      <td>8</td>\n",
       "      <td>2018</td>\n",
       "      <td>3</td>\n",
       "      <td>False</td>\n",
       "    </tr>\n",
       "    <tr>\n",
       "      <th>2018-08-31</th>\n",
       "      <td>91.39</td>\n",
       "      <td>108.3</td>\n",
       "      <td>0.0</td>\n",
       "      <td>Taux TVA</td>\n",
       "      <td>2.1</td>\n",
       "      <td>16.91</td>\n",
       "      <td>10 %</td>\n",
       "      <td>20 %</td>\n",
       "      <td>10.83</td>\n",
       "      <td>2018-08-31</td>\n",
       "      <td>31</td>\n",
       "      <td>8</td>\n",
       "      <td>2018</td>\n",
       "      <td>4</td>\n",
       "      <td>False</td>\n",
       "    </tr>\n",
       "    <tr>\n",
       "      <th>2018-09-01</th>\n",
       "      <td>196.80</td>\n",
       "      <td>231.7</td>\n",
       "      <td>0.0</td>\n",
       "      <td>Taux TVA</td>\n",
       "      <td>2.2</td>\n",
       "      <td>34.90</td>\n",
       "      <td>10 %</td>\n",
       "      <td>20 %</td>\n",
       "      <td>14.48</td>\n",
       "      <td>2018-09-01</td>\n",
       "      <td>1</td>\n",
       "      <td>9</td>\n",
       "      <td>2018</td>\n",
       "      <td>5</td>\n",
       "      <td>False</td>\n",
       "    </tr>\n",
       "    <tr>\n",
       "      <th>2018-09-05</th>\n",
       "      <td>56.00</td>\n",
       "      <td>67.2</td>\n",
       "      <td>0.0</td>\n",
       "      <td>Taux TVA</td>\n",
       "      <td>10.0</td>\n",
       "      <td>11.20</td>\n",
       "      <td>NaN</td>\n",
       "      <td>20 %</td>\n",
       "      <td>67.20</td>\n",
       "      <td>2018-09-05</td>\n",
       "      <td>5</td>\n",
       "      <td>9</td>\n",
       "      <td>2018</td>\n",
       "      <td>2</td>\n",
       "      <td>False</td>\n",
       "    </tr>\n",
       "  </tbody>\n",
       "</table>\n",
       "</div>"
      ],
      "text/plain": [
       "            Chiffre d'Affaires HT  Chiffre d'Affaires TTC  Coefficient moyen  \\\n",
       "date                                                                           \n",
       "2018-08-29                  88.99                   105.6                0.0   \n",
       "2018-08-30                 115.37                   134.1                0.0   \n",
       "2018-08-31                  91.39                   108.3                0.0   \n",
       "2018-09-01                 196.80                   231.7                0.0   \n",
       "2018-09-05                  56.00                    67.2                0.0   \n",
       "\n",
       "             Nom TVA  Nombre moyen de produits / Ticket  TVA Collecté  \\\n",
       "date                                                                    \n",
       "2018-08-29  Taux TVA                                1.3         16.61   \n",
       "2018-08-30  Taux TVA                                2.7         18.73   \n",
       "2018-08-31  Taux TVA                                2.1         16.91   \n",
       "2018-09-01  Taux TVA                                2.2         34.90   \n",
       "2018-09-05  Taux TVA                               10.0         11.20   \n",
       "\n",
       "           TVA Vente 10% TVA Vente 20%  Ticket moyen TTC       date  day  \\\n",
       "date                                                                       \n",
       "2018-08-29          10 %          20 %              7.04 2018-08-29   29   \n",
       "2018-08-30          10 %          20 %             19.16 2018-08-30   30   \n",
       "2018-08-31          10 %          20 %             10.83 2018-08-31   31   \n",
       "2018-09-01          10 %          20 %             14.48 2018-09-01    1   \n",
       "2018-09-05           NaN          20 %             67.20 2018-09-05    5   \n",
       "\n",
       "            month  year  dow  public holidays  \n",
       "date                                           \n",
       "2018-08-29      8  2018    2            False  \n",
       "2018-08-30      8  2018    3            False  \n",
       "2018-08-31      8  2018    4            False  \n",
       "2018-09-01      9  2018    5            False  \n",
       "2018-09-05      9  2018    2            False  "
      ]
     },
     "execution_count": 12,
     "metadata": {},
     "output_type": "execute_result"
    }
   ],
   "source": [
    "# the pandas way\n",
    "daily = daily.join([calendar])\n",
    "\n",
    "# the spark.sql way\n",
    "\n",
    "daily.head()"
   ]
  },
  {
   "cell_type": "markdown",
   "metadata": {},
   "source": [
    "## Weather\n",
    "\n",
    "from meteofrance"
   ]
  },
  {
   "cell_type": "code",
   "execution_count": null,
   "metadata": {},
   "outputs": [],
   "source": []
  },
  {
   "cell_type": "markdown",
   "metadata": {},
   "source": [
    "## Data exploration"
   ]
  },
  {
   "cell_type": "markdown",
   "metadata": {},
   "source": [
    "Describe and restrict features"
   ]
  },
  {
   "cell_type": "code",
   "execution_count": 13,
   "metadata": {},
   "outputs": [],
   "source": [
    "from pandas.plotting import scatter_matrix"
   ]
  },
  {
   "cell_type": "code",
   "execution_count": 14,
   "metadata": {},
   "outputs": [],
   "source": [
    "# data description\n",
    "columns_descr = {\n",
    "    \"Chiffre d'Affaires HT\": \"(float) Income (taxes excluded)\", \n",
    "    \"Chiffre d'Affaires TTC\": \"(float) Income (taxes included)\",\n",
    "    \"Nombre moyen de produits / Ticket\": \"(float) Mean good numbers per transaction\",\n",
    "    \"Ticket moyen TTC\": \"(float) Mean transaction value\", \n",
    "    \"date\": \"(date) date of the day\",\n",
    "    \"dow\": \"(int) day of week, 0..7\",\n",
    "    \"day\": \"(int) day in month\",\n",
    "    \"month\": \"(int) month number\",\n",
    "    \"year\": \" (int) year\",\n",
    "    \"public holidays\": \"(bool) Public holiday in France\",\n",
    "}"
   ]
  },
  {
   "cell_type": "code",
   "execution_count": 15,
   "metadata": {},
   "outputs": [
    {
     "data": {
      "text/html": [
       "<div>\n",
       "<style scoped>\n",
       "    .dataframe tbody tr th:only-of-type {\n",
       "        vertical-align: middle;\n",
       "    }\n",
       "\n",
       "    .dataframe tbody tr th {\n",
       "        vertical-align: top;\n",
       "    }\n",
       "\n",
       "    .dataframe thead th {\n",
       "        text-align: right;\n",
       "    }\n",
       "</style>\n",
       "<table border=\"1\" class=\"dataframe\">\n",
       "  <thead>\n",
       "    <tr style=\"text-align: right;\">\n",
       "      <th></th>\n",
       "      <th>Chiffre d'Affaires HT</th>\n",
       "      <th>Chiffre d'Affaires TTC</th>\n",
       "      <th>Nombre moyen de produits / Ticket</th>\n",
       "      <th>Ticket moyen TTC</th>\n",
       "      <th>date</th>\n",
       "      <th>dow</th>\n",
       "      <th>day</th>\n",
       "      <th>month</th>\n",
       "      <th>year</th>\n",
       "      <th>public holidays</th>\n",
       "    </tr>\n",
       "    <tr>\n",
       "      <th>date</th>\n",
       "      <th></th>\n",
       "      <th></th>\n",
       "      <th></th>\n",
       "      <th></th>\n",
       "      <th></th>\n",
       "      <th></th>\n",
       "      <th></th>\n",
       "      <th></th>\n",
       "      <th></th>\n",
       "      <th></th>\n",
       "    </tr>\n",
       "  </thead>\n",
       "  <tbody>\n",
       "    <tr>\n",
       "      <th>2018-08-29</th>\n",
       "      <td>88.99</td>\n",
       "      <td>105.6</td>\n",
       "      <td>1.3</td>\n",
       "      <td>7.04</td>\n",
       "      <td>2018-08-29</td>\n",
       "      <td>2</td>\n",
       "      <td>29</td>\n",
       "      <td>8</td>\n",
       "      <td>2018</td>\n",
       "      <td>0</td>\n",
       "    </tr>\n",
       "    <tr>\n",
       "      <th>2018-08-30</th>\n",
       "      <td>115.37</td>\n",
       "      <td>134.1</td>\n",
       "      <td>2.7</td>\n",
       "      <td>19.16</td>\n",
       "      <td>2018-08-30</td>\n",
       "      <td>3</td>\n",
       "      <td>30</td>\n",
       "      <td>8</td>\n",
       "      <td>2018</td>\n",
       "      <td>0</td>\n",
       "    </tr>\n",
       "    <tr>\n",
       "      <th>2018-08-31</th>\n",
       "      <td>91.39</td>\n",
       "      <td>108.3</td>\n",
       "      <td>2.1</td>\n",
       "      <td>10.83</td>\n",
       "      <td>2018-08-31</td>\n",
       "      <td>4</td>\n",
       "      <td>31</td>\n",
       "      <td>8</td>\n",
       "      <td>2018</td>\n",
       "      <td>0</td>\n",
       "    </tr>\n",
       "    <tr>\n",
       "      <th>2018-09-01</th>\n",
       "      <td>196.80</td>\n",
       "      <td>231.7</td>\n",
       "      <td>2.2</td>\n",
       "      <td>14.48</td>\n",
       "      <td>2018-09-01</td>\n",
       "      <td>5</td>\n",
       "      <td>1</td>\n",
       "      <td>9</td>\n",
       "      <td>2018</td>\n",
       "      <td>0</td>\n",
       "    </tr>\n",
       "    <tr>\n",
       "      <th>2018-09-05</th>\n",
       "      <td>56.00</td>\n",
       "      <td>67.2</td>\n",
       "      <td>10.0</td>\n",
       "      <td>67.20</td>\n",
       "      <td>2018-09-05</td>\n",
       "      <td>2</td>\n",
       "      <td>5</td>\n",
       "      <td>9</td>\n",
       "      <td>2018</td>\n",
       "      <td>0</td>\n",
       "    </tr>\n",
       "  </tbody>\n",
       "</table>\n",
       "</div>"
      ],
      "text/plain": [
       "            Chiffre d'Affaires HT  Chiffre d'Affaires TTC  \\\n",
       "date                                                        \n",
       "2018-08-29                  88.99                   105.6   \n",
       "2018-08-30                 115.37                   134.1   \n",
       "2018-08-31                  91.39                   108.3   \n",
       "2018-09-01                 196.80                   231.7   \n",
       "2018-09-05                  56.00                    67.2   \n",
       "\n",
       "            Nombre moyen de produits / Ticket  Ticket moyen TTC       date  \\\n",
       "date                                                                         \n",
       "2018-08-29                                1.3              7.04 2018-08-29   \n",
       "2018-08-30                                2.7             19.16 2018-08-30   \n",
       "2018-08-31                                2.1             10.83 2018-08-31   \n",
       "2018-09-01                                2.2             14.48 2018-09-01   \n",
       "2018-09-05                               10.0             67.20 2018-09-05   \n",
       "\n",
       "            dow  day  month  year  public holidays  \n",
       "date                                                \n",
       "2018-08-29    2   29      8  2018                0  \n",
       "2018-08-30    3   30      8  2018                0  \n",
       "2018-08-31    4   31      8  2018                0  \n",
       "2018-09-01    5    1      9  2018                0  \n",
       "2018-09-05    2    5      9  2018                0  "
      ]
     },
     "execution_count": 15,
     "metadata": {},
     "output_type": "execute_result"
    }
   ],
   "source": [
    "cols = columns_descr.keys()\n",
    "daily = daily.loc[:, columns_descr.keys()]\n",
    "daily[\"public holidays\"] = daily[\"public holidays\"].apply(lambda x: 1 if x is True else 0)\n",
    "daily.head()"
   ]
  },
  {
   "cell_type": "code",
   "execution_count": 16,
   "metadata": {},
   "outputs": [
    {
     "data": {
      "text/plain": [
       "<matplotlib.image.AxesImage at 0x7fdc8daf7b38>"
      ]
     },
     "execution_count": 16,
     "metadata": {},
     "output_type": "execute_result"
    },
    {
     "data": {
      "image/png": "[encoded data removed]",
      "text/plain": [
       "<Figure size 288x288 with 1 Axes>"
      ]
     },
     "metadata": {
      "needs_background": "light"
     },
     "output_type": "display_data"
    }
   ],
   "source": [
    "plt.matshow(daily.corr())"
   ]
  },
  {
   "cell_type": "markdown",
   "metadata": {},
   "source": [
    "There are highly correlate features, some may be discarded. Moreover, some features are redondant."
   ]
  },
  {
   "cell_type": "code",
   "execution_count": 17,
   "metadata": {},
   "outputs": [],
   "source": [
    "del columns_descr[\"Chiffre d'Affaires HT\"]"
   ]
  },
  {
   "cell_type": "code",
   "execution_count": 18,
   "metadata": {},
   "outputs": [
    {
     "data": {
      "text/plain": [
       "[\"Chiffre d'Affaires TTC\",\n",
       " 'Nombre moyen de produits / Ticket',\n",
       " 'Ticket moyen TTC',\n",
       " 'date',\n",
       " 'dow',\n",
       " 'day',\n",
       " 'month',\n",
       " 'year',\n",
       " 'public holidays']"
      ]
     },
     "execution_count": 18,
     "metadata": {},
     "output_type": "execute_result"
    }
   ],
   "source": [
    "# extract numeric features\n",
    "num_cols = [\n",
    "    col \n",
    "    for col in columns_descr.keys()\n",
    "    if np.isreal(daily.loc[start_date, col])\n",
    "]\n",
    "num_cols\n",
    "#scatter_matrix(daily)"
   ]
  },
  {
   "cell_type": "code",
   "execution_count": 19,
   "metadata": {},
   "outputs": [
    {
     "data": {
      "text/plain": [
       "array([[<matplotlib.axes._subplots.AxesSubplot object at 0x7fdc8fb319e8>,\n",
       "        <matplotlib.axes._subplots.AxesSubplot object at 0x7fdc8da84400>,\n",
       "        <matplotlib.axes._subplots.AxesSubplot object at 0x7fdc8d9d99b0>,\n",
       "        <matplotlib.axes._subplots.AxesSubplot object at 0x7fdc8d9ec780>,\n",
       "        <matplotlib.axes._subplots.AxesSubplot object at 0x7fdc8d9b24a8>,\n",
       "        <matplotlib.axes._subplots.AxesSubplot object at 0x7fdc8d95aa20>,\n",
       "        <matplotlib.axes._subplots.AxesSubplot object at 0x7fdc8d982f98>,\n",
       "        <matplotlib.axes._subplots.AxesSubplot object at 0x7fdc8d933588>],\n",
       "       [<matplotlib.axes._subplots.AxesSubplot object at 0x7fdc8d9335c0>,\n",
       "        <matplotlib.axes._subplots.AxesSubplot object at 0x7fdc8d90c080>,\n",
       "        <matplotlib.axes._subplots.AxesSubplot object at 0x7fdc8d8b25f8>,\n",
       "        <matplotlib.axes._subplots.AxesSubplot object at 0x7fdc8d858b70>,\n",
       "        <matplotlib.axes._subplots.AxesSubplot object at 0x7fdc8d88a128>,\n",
       "        <matplotlib.axes._subplots.AxesSubplot object at 0x7fdc8d8336a0>,\n",
       "        <matplotlib.axes._subplots.AxesSubplot object at 0x7fdc8d7d9c18>,\n",
       "        <matplotlib.axes._subplots.AxesSubplot object at 0x7fdc8d80b1d0>],\n",
       "       [<matplotlib.axes._subplots.AxesSubplot object at 0x7fdc8d7b3748>,\n",
       "        <matplotlib.axes._subplots.AxesSubplot object at 0x7fdc8d75bcc0>,\n",
       "        <matplotlib.axes._subplots.AxesSubplot object at 0x7fdc8d78b278>,\n",
       "        <matplotlib.axes._subplots.AxesSubplot object at 0x7fdc8d7347f0>,\n",
       "        <matplotlib.axes._subplots.AxesSubplot object at 0x7fdc8d6ddd68>,\n",
       "        <matplotlib.axes._subplots.AxesSubplot object at 0x7fdc8d68d320>,\n",
       "        <matplotlib.axes._subplots.AxesSubplot object at 0x7fdc8d6b3898>,\n",
       "        <matplotlib.axes._subplots.AxesSubplot object at 0x7fdc8d65fe10>],\n",
       "       [<matplotlib.axes._subplots.AxesSubplot object at 0x7fdc8d60f3c8>,\n",
       "        <matplotlib.axes._subplots.AxesSubplot object at 0x7fdc8d636940>,\n",
       "        <matplotlib.axes._subplots.AxesSubplot object at 0x7fdc8d5dfeb8>,\n",
       "        <matplotlib.axes._subplots.AxesSubplot object at 0x7fdc8d590470>,\n",
       "        <matplotlib.axes._subplots.AxesSubplot object at 0x7fdc8d5b59e8>,\n",
       "        <matplotlib.axes._subplots.AxesSubplot object at 0x7fdc8d55ff60>,\n",
       "        <matplotlib.axes._subplots.AxesSubplot object at 0x7fdc8d510518>,\n",
       "        <matplotlib.axes._subplots.AxesSubplot object at 0x7fdc8d536a90>],\n",
       "       [<matplotlib.axes._subplots.AxesSubplot object at 0x7fdc8d4ec048>,\n",
       "        <matplotlib.axes._subplots.AxesSubplot object at 0x7fdc8d4905c0>,\n",
       "        <matplotlib.axes._subplots.AxesSubplot object at 0x7fdc8d4b9b38>,\n",
       "        <matplotlib.axes._subplots.AxesSubplot object at 0x7fdc8d46a0f0>,\n",
       "        <matplotlib.axes._subplots.AxesSubplot object at 0x7fdc8d413668>,\n",
       "        <matplotlib.axes._subplots.AxesSubplot object at 0x7fdc8d43abe0>,\n",
       "        <matplotlib.axes._subplots.AxesSubplot object at 0x7fdc8d3ec198>,\n",
       "        <matplotlib.axes._subplots.AxesSubplot object at 0x7fdc8d393710>],\n",
       "       [<matplotlib.axes._subplots.AxesSubplot object at 0x7fdc8d3b9c88>,\n",
       "        <matplotlib.axes._subplots.AxesSubplot object at 0x7fdc8d36b240>,\n",
       "        <matplotlib.axes._subplots.AxesSubplot object at 0x7fdc8d3157b8>,\n",
       "        <matplotlib.axes._subplots.AxesSubplot object at 0x7fdc8d33dd30>,\n",
       "        <matplotlib.axes._subplots.AxesSubplot object at 0x7fdc8d2ed2e8>,\n",
       "        <matplotlib.axes._subplots.AxesSubplot object at 0x7fdc8d292860>,\n",
       "        <matplotlib.axes._subplots.AxesSubplot object at 0x7fdc8d2bcdd8>,\n",
       "        <matplotlib.axes._subplots.AxesSubplot object at 0x7fdc8d26c390>],\n",
       "       [<matplotlib.axes._subplots.AxesSubplot object at 0x7fdc8d214908>,\n",
       "        <matplotlib.axes._subplots.AxesSubplot object at 0x7fdc8d23fe80>,\n",
       "        <matplotlib.axes._subplots.AxesSubplot object at 0x7fdc8d1ee438>,\n",
       "        <matplotlib.axes._subplots.AxesSubplot object at 0x7fdc8d1969b0>,\n",
       "        <matplotlib.axes._subplots.AxesSubplot object at 0x7fdc8d1c1f28>,\n",
       "        <matplotlib.axes._subplots.AxesSubplot object at 0x7fdc8d1714e0>,\n",
       "        <matplotlib.axes._subplots.AxesSubplot object at 0x7fdc8d117a58>,\n",
       "        <matplotlib.axes._subplots.AxesSubplot object at 0x7fdc8d13efd0>],\n",
       "       [<matplotlib.axes._subplots.AxesSubplot object at 0x7fdc8d0f0588>,\n",
       "        <matplotlib.axes._subplots.AxesSubplot object at 0x7fdc8d098b00>,\n",
       "        <matplotlib.axes._subplots.AxesSubplot object at 0x7fdc8d0c90b8>,\n",
       "        <matplotlib.axes._subplots.AxesSubplot object at 0x7fdc8d072630>,\n",
       "        <matplotlib.axes._subplots.AxesSubplot object at 0x7fdc8d01bba8>,\n",
       "        <matplotlib.axes._subplots.AxesSubplot object at 0x7fdc8d04b160>,\n",
       "        <matplotlib.axes._subplots.AxesSubplot object at 0x7fdc8cff36d8>,\n",
       "        <matplotlib.axes._subplots.AxesSubplot object at 0x7fdc8cf9bc50>]],\n",
       "      dtype=object)"
      ]
     },
     "execution_count": 19,
     "metadata": {},
     "output_type": "execute_result"
    },
    {
     "data": {
      "image/png": "[encoded data removed]",
      "text/plain": [
       "<Figure size 1080x1080 with 64 Axes>"
      ]
     },
     "metadata": {
      "needs_background": "light"
     },
     "output_type": "display_data"
    }
   ],
   "source": [
    "scatter_matrix(daily.loc[:, num_cols], figsize=(15, 15))"
   ]
  },
  {
   "cell_type": "markdown",
   "metadata": {},
   "source": [
    " * The Income seems to vary each month\n",
    " * There are outliers in income\n",
    " * Mean product per transaction and mean transaction number is highly correlated (as expected) except for some days (must be treated separately)\n",
    " "
   ]
  },
  {
   "cell_type": "markdown",
   "metadata": {},
   "source": [
    "### Transaction outliers"
   ]
  },
  {
   "cell_type": "markdown",
   "metadata": {},
   "source": [
    "The goal of this section is to know if this outliers should be discarded."
   ]
  },
  {
   "cell_type": "code",
   "execution_count": null,
   "metadata": {},
   "outputs": [],
   "source": []
  },
  {
   "cell_type": "markdown",
   "metadata": {},
   "source": [
    "###  Per  month income"
   ]
  },
  {
   "cell_type": "code",
   "execution_count": 20,
   "metadata": {},
   "outputs": [
    {
     "data": {
      "image/png": "[encoded data removed]",
      "text/plain": [
       "<Figure size 432x288 with 1 Axes>"
      ]
     },
     "metadata": {
      "needs_background": "light"
     },
     "output_type": "display_data"
    },
    {
     "data": {
      "image/png": "[encoded data removed]",
      "text/plain": [
       "<Figure size 432x288 with 1 Axes>"
      ]
     },
     "metadata": {
      "needs_background": "light"
     },
     "output_type": "display_data"
    },
    {
     "data": {
      "image/png": "[encoded data removed]",
      "text/plain": [
       "<Figure size 432x288 with 1 Axes>"
      ]
     },
     "metadata": {
      "needs_background": "light"
     },
     "output_type": "display_data"
    },
    {
     "data": {
      "image/png": "[encoded data removed]",
      "text/plain": [
       "<Figure size 432x288 with 1 Axes>"
      ]
     },
     "metadata": {
      "needs_background": "light"
     },
     "output_type": "display_data"
    }
   ],
   "source": [
    "xlim = (0, max(daily[\"Chiffre d'Affaires TTC\"]))\n",
    "for year, month in product(range(2018, 2019), range(1, 12)):\n",
    "    cur_data = daily.loc[(daily[\"month\"] == month) & (daily[\"year\"] == year)]\n",
    "    if len(cur_data) == 0:\n",
    "        continue\n",
    "    plt.figure()\n",
    "    #cur_data[\"Chiffre d'Affaires TTC\"].plot(kind=\"box\",) \n",
    "    cur_data[\"Chiffre d'Affaires TTC\"].plot(\n",
    "        kind=\"hist\", \n",
    "        xlim=xlim, \n",
    "        title=\"Income for {}/{}\".format(month, year)\n",
    "    )"
   ]
  },
  {
   "cell_type": "code",
   "execution_count": null,
   "metadata": {},
   "outputs": [],
   "source": []
  }
 ],
 "metadata": {
  "kernelspec": {
   "display_name": "Python 3",
   "language": "python",
   "name": "python3"
  },
  "language_info": {
   "codemirror_mode": {
    "name": "ipython",
    "version": 3
   },
   "file_extension": ".py",
   "mimetype": "text/x-python",
   "name": "python",
   "nbconvert_exporter": "python",
   "pygments_lexer": "ipython3",
   "version": "3.7.2"
  }
 },
 "nbformat": 4,
 "nbformat_minor": 2
}

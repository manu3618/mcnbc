{
 "cells": [
  {
   "cell_type": "markdown",
   "metadata": {},
   "source": [
    "# shop results"
   ]
  },
  {
   "cell_type": "markdown",
   "metadata": {},
   "source": [
    "## goal\n",
    "\n",
    "* find factors influencing this shop's results\n",
    "* predict results"
   ]
  },
  {
   "cell_type": "code",
   "execution_count": 1,
   "metadata": {},
   "outputs": [],
   "source": [
    "from itertools import product\n",
    "\n",
    "import numpy as np\n",
    "import pandas as pd\n",
    "import matplotlib.pyplot as plt\n",
    "import seaborn as sns\n",
    "\n",
    "%matplotlib inline"
   ]
  },
  {
   "cell_type": "markdown",
   "metadata": {},
   "source": [
    "## Load data"
   ]
  },
  {
   "cell_type": "code",
   "execution_count": 2,
   "metadata": {},
   "outputs": [],
   "source": [
    "from datetime import datetime, timedelta\n",
    "from os import path, scandir\n",
    "\n",
    "daily_datadir = \"./data/CaisseJour/\"\n",
    "datadirs = [path.join(daily_datadir, d.name) for d in scandir(daily_datadir)]\n",
    "data_files = [\n",
    "    path.join(datadir, file.name)\n",
    "    for datadir in datadirs\n",
    "    for file in scandir(datadir)\n",
    "]"
   ]
  },
  {
   "cell_type": "code",
   "execution_count": 3,
   "metadata": {},
   "outputs": [],
   "source": [
    "def parse_caisse(filename, keywords=(\"Chiffre\", \"TVA\", \"nombre\", \"moyen\", \"ticket\")):\n",
    "    \"\"\"Parse file \"caisse jour\"\n",
    "    \n",
    "    Args:\n",
    "        filename (string): file to parse\n",
    "        keywords (list): list of keywords for  one line data\n",
    "    \"\"\"\n",
    "    data = {}\n",
    "    with open(filename, \"br\") as fd:\n",
    "        for line in fd:\n",
    "            line = line.decode(\"Windows-1252\",errors=\"ignore\")\n",
    "            if \"à\" in line:\n",
    "                # try with date\n",
    "                try:\n",
    "                    date = [int(d) for d in  line.split(\" \")[0].split(\"/\")]\n",
    "                except ValueError:\n",
    "                    # \"à\" in cocktail name\n",
    "                    continue\n",
    "                data[\"date\"] = datetime(date[2], date[1], date[0])\n",
    "            elif any(keyword in line for keyword in keywords):\n",
    "                value = line.split(\";\")[1]\n",
    "                value = value.strip(\"€ \\r\\n\")\n",
    "                try:\n",
    "                    # parse french number representation\n",
    "                    value = value.replace(\",\", \".\")\n",
    "                    value = float(value)\n",
    "                except ValueError:\n",
    "                    # not a number, cannot convertto float\n",
    "                    pass\n",
    "                data[line.split(\";\")[0].strip()] = value\n",
    "        #TODO: add small tables\n",
    "    return data"
   ]
  },
  {
   "cell_type": "code",
   "execution_count": 4,
   "metadata": {},
   "outputs": [],
   "source": [
    "daily = pd.DataFrame(parse_caisse(f) for f in data_files)\n",
    "daily.index = daily[\"date\"]  # keep date and index\n",
    "open_days = daily[\"date\"]"
   ]
  },
  {
   "cell_type": "code",
   "execution_count": 5,
   "metadata": {},
   "outputs": [
    {
     "data": {
      "text/html": [
       "<div>\n",
       "<style scoped>\n",
       "    .dataframe tbody tr th:only-of-type {\n",
       "        vertical-align: middle;\n",
       "    }\n",
       "\n",
       "    .dataframe tbody tr th {\n",
       "        vertical-align: top;\n",
       "    }\n",
       "\n",
       "    .dataframe thead th {\n",
       "        text-align: right;\n",
       "    }\n",
       "</style>\n",
       "<table border=\"1\" class=\"dataframe\">\n",
       "  <thead>\n",
       "    <tr style=\"text-align: right;\">\n",
       "      <th></th>\n",
       "      <th>Chiffre d'Affaires HT</th>\n",
       "      <th>Chiffre d'Affaires TTC</th>\n",
       "      <th>Coefficient moyen</th>\n",
       "      <th>Nom TVA</th>\n",
       "      <th>Nombre moyen de produits / Ticket</th>\n",
       "      <th>TVA Collecté</th>\n",
       "      <th>TVA Vente 10%</th>\n",
       "      <th>TVA Vente 20%</th>\n",
       "      <th>Ticket moyen TTC</th>\n",
       "      <th>date</th>\n",
       "    </tr>\n",
       "    <tr>\n",
       "      <th>date</th>\n",
       "      <th></th>\n",
       "      <th></th>\n",
       "      <th></th>\n",
       "      <th></th>\n",
       "      <th></th>\n",
       "      <th></th>\n",
       "      <th></th>\n",
       "      <th></th>\n",
       "      <th></th>\n",
       "      <th></th>\n",
       "    </tr>\n",
       "  </thead>\n",
       "  <tbody>\n",
       "    <tr>\n",
       "      <th>2018-11-09</th>\n",
       "      <td>545.26</td>\n",
       "      <td>633.9</td>\n",
       "      <td>0.0</td>\n",
       "      <td>Taux TVA</td>\n",
       "      <td>1.6</td>\n",
       "      <td>88.64</td>\n",
       "      <td>10 %</td>\n",
       "      <td>20 %</td>\n",
       "      <td>10.06</td>\n",
       "      <td>2018-11-09</td>\n",
       "    </tr>\n",
       "    <tr>\n",
       "      <th>2018-11-03</th>\n",
       "      <td>242.34</td>\n",
       "      <td>285.8</td>\n",
       "      <td>0.0</td>\n",
       "      <td>Taux TVA</td>\n",
       "      <td>1.6</td>\n",
       "      <td>43.46</td>\n",
       "      <td>10 %</td>\n",
       "      <td>20 %</td>\n",
       "      <td>10.99</td>\n",
       "      <td>2018-11-03</td>\n",
       "    </tr>\n",
       "    <tr>\n",
       "      <th>2018-11-10</th>\n",
       "      <td>1370.21</td>\n",
       "      <td>1616.0</td>\n",
       "      <td>0.0</td>\n",
       "      <td>Taux TVA</td>\n",
       "      <td>1.8</td>\n",
       "      <td>245.79</td>\n",
       "      <td>10 %</td>\n",
       "      <td>20 %</td>\n",
       "      <td>11.14</td>\n",
       "      <td>2018-11-10</td>\n",
       "    </tr>\n",
       "    <tr>\n",
       "      <th>2018-11-22</th>\n",
       "      <td>153.58</td>\n",
       "      <td>182.0</td>\n",
       "      <td>0.0</td>\n",
       "      <td>Taux TVA</td>\n",
       "      <td>1.2</td>\n",
       "      <td>28.42</td>\n",
       "      <td>10 %</td>\n",
       "      <td>20 %</td>\n",
       "      <td>7.00</td>\n",
       "      <td>2018-11-22</td>\n",
       "    </tr>\n",
       "    <tr>\n",
       "      <th>2018-11-02</th>\n",
       "      <td>394.43</td>\n",
       "      <td>459.7</td>\n",
       "      <td>0.0</td>\n",
       "      <td>Taux TVA</td>\n",
       "      <td>1.5</td>\n",
       "      <td>65.27</td>\n",
       "      <td>10 %</td>\n",
       "      <td>20 %</td>\n",
       "      <td>10.95</td>\n",
       "      <td>2018-11-02</td>\n",
       "    </tr>\n",
       "  </tbody>\n",
       "</table>\n",
       "</div>"
      ],
      "text/plain": [
       "            Chiffre d'Affaires HT  Chiffre d'Affaires TTC  Coefficient moyen  \\\n",
       "date                                                                           \n",
       "2018-11-09                 545.26                   633.9                0.0   \n",
       "2018-11-03                 242.34                   285.8                0.0   \n",
       "2018-11-10                1370.21                  1616.0                0.0   \n",
       "2018-11-22                 153.58                   182.0                0.0   \n",
       "2018-11-02                 394.43                   459.7                0.0   \n",
       "\n",
       "             Nom TVA  Nombre moyen de produits / Ticket  TVA Collecté  \\\n",
       "date                                                                    \n",
       "2018-11-09  Taux TVA                                1.6         88.64   \n",
       "2018-11-03  Taux TVA                                1.6         43.46   \n",
       "2018-11-10  Taux TVA                                1.8        245.79   \n",
       "2018-11-22  Taux TVA                                1.2         28.42   \n",
       "2018-11-02  Taux TVA                                1.5         65.27   \n",
       "\n",
       "           TVA Vente 10% TVA Vente 20%  Ticket moyen TTC       date  \n",
       "date                                                                 \n",
       "2018-11-09          10 %          20 %             10.06 2018-11-09  \n",
       "2018-11-03          10 %          20 %             10.99 2018-11-03  \n",
       "2018-11-10          10 %          20 %             11.14 2018-11-10  \n",
       "2018-11-22          10 %          20 %              7.00 2018-11-22  \n",
       "2018-11-02          10 %          20 %             10.95 2018-11-02  "
      ]
     },
     "execution_count": 5,
     "metadata": {},
     "output_type": "execute_result"
    }
   ],
   "source": [
    "daily.head()"
   ]
  },
  {
   "cell_type": "markdown",
   "metadata": {},
   "source": [
    "## Calendar"
   ]
  },
  {
   "cell_type": "code",
   "execution_count": 6,
   "metadata": {},
   "outputs": [],
   "source": [
    "start_date = min(daily[\"date\"])\n",
    "end_date = max(daily[\"date\"])\n",
    "\n",
    "#start_date = datetime(2018, 09, 01)\n",
    "#end_date = datetime(2019, 09, 01)"
   ]
  },
  {
   "cell_type": "code",
   "execution_count": 7,
   "metadata": {},
   "outputs": [],
   "source": [
    "def date_to_monthweek(date):\n",
    "    \"\"\"Return the week number of the month, i.e. the number of mondays before this date.\n",
    "    \n",
    "    Args:\n",
    "        date: (datetime.datetime)\n",
    "        \n",
    "    Return:\n",
    "        int: the week number\n",
    "    \"\"\"\n",
    "    return len(\n",
    "        [\n",
    "            day\n",
    "            for day in pd.date_range(datetime(date.year, date.month, 1), date)\n",
    "            if day.weekday() == 0\n",
    "        ]\n",
    "    )"
   ]
  },
  {
   "cell_type": "code",
   "execution_count": 8,
   "metadata": {},
   "outputs": [],
   "source": [
    "calendar = pd.DataFrame(pd.date_range(start_date, end_date), columns=(\"date\",))\n",
    "#calendar[\"day\", \"month\", \"year\", \"wod\"] = list(map(lambda x: (x.day, x.month, x.year, x.weekday()), calendar[\"date\"]))\n",
    "calendar[\"day\"] = list(map(lambda x: x.day, calendar[\"date\"]))\n",
    "calendar[\"month\"] = list(map(lambda x: x.month, calendar[\"date\"]))\n",
    "calendar[\"year\"] = list(map(lambda x: x.year, calendar[\"date\"]))\n",
    "calendar[\"dow\"] = list(map(lambda x: x.weekday(), calendar[\"date\"]))\n",
    "calendar[\"week number\"] = list(map(lambda x: x.isocalendar()[1], calendar[\"date\"]))\n",
    "calendar[\"month week number\"] = list(map(date_to_monthweek, calendar[\"date\"]))"
   ]
  },
  {
   "cell_type": "markdown",
   "metadata": {},
   "source": [
    "### Holidays\n",
    "\n",
    "from https://date.nager.at/PublicHoliday/DownloadCSV/FR/2018"
   ]
  },
  {
   "cell_type": "code",
   "execution_count": 9,
   "metadata": {},
   "outputs": [],
   "source": [
    "datadir = \"./data/calendars\"\n",
    "data_files = [path.join(datadir, file.name) for file in scandir(datadir)]\n",
    "\n",
    "holidays = pd.concat(\n",
    "    [\n",
    "        pd.read_csv(file) \n",
    "        for file in data_files\n",
    "    ]\n",
    ")\n",
    "\n",
    "# reformat date\n",
    "holidays[\"Date\"] = pd.Series(\n",
    "    [\n",
    "        datetime(int(x.split(\"-\")[0]), int(x.split(\"-\")[1]), int(x.split(\"-\")[2]))\n",
    "        for x in holidays[\"Date\"]\n",
    "    ]\n",
    ")"
   ]
  },
  {
   "cell_type": "code",
   "execution_count": 10,
   "metadata": {},
   "outputs": [
    {
     "data": {
      "text/html": [
       "<div>\n",
       "<style scoped>\n",
       "    .dataframe tbody tr th:only-of-type {\n",
       "        vertical-align: middle;\n",
       "    }\n",
       "\n",
       "    .dataframe tbody tr th {\n",
       "        vertical-align: top;\n",
       "    }\n",
       "\n",
       "    .dataframe thead th {\n",
       "        text-align: right;\n",
       "    }\n",
       "</style>\n",
       "<table border=\"1\" class=\"dataframe\">\n",
       "  <thead>\n",
       "    <tr style=\"text-align: right;\">\n",
       "      <th></th>\n",
       "      <th>Date</th>\n",
       "      <th>LocalName</th>\n",
       "      <th>Name</th>\n",
       "      <th>CountryCode</th>\n",
       "      <th>Fixed</th>\n",
       "      <th>Global</th>\n",
       "      <th>LaunchYear</th>\n",
       "    </tr>\n",
       "  </thead>\n",
       "  <tbody>\n",
       "    <tr>\n",
       "      <th>0</th>\n",
       "      <td>2018-01-01</td>\n",
       "      <td>Jour de l'an</td>\n",
       "      <td>New Year's Day</td>\n",
       "      <td>FR</td>\n",
       "      <td>True</td>\n",
       "      <td>True</td>\n",
       "      <td>1967.0</td>\n",
       "    </tr>\n",
       "    <tr>\n",
       "      <th>1</th>\n",
       "      <td>2018-03-30</td>\n",
       "      <td>Vendredi saint</td>\n",
       "      <td>Good Friday</td>\n",
       "      <td>FR</td>\n",
       "      <td>False</td>\n",
       "      <td>False</td>\n",
       "      <td>NaN</td>\n",
       "    </tr>\n",
       "    <tr>\n",
       "      <th>2</th>\n",
       "      <td>2018-04-02</td>\n",
       "      <td>Lundi de Pâques</td>\n",
       "      <td>Easter Monday</td>\n",
       "      <td>FR</td>\n",
       "      <td>False</td>\n",
       "      <td>True</td>\n",
       "      <td>1642.0</td>\n",
       "    </tr>\n",
       "    <tr>\n",
       "      <th>3</th>\n",
       "      <td>2018-05-01</td>\n",
       "      <td>Fête du premier mai</td>\n",
       "      <td>Labour Day</td>\n",
       "      <td>FR</td>\n",
       "      <td>True</td>\n",
       "      <td>True</td>\n",
       "      <td>NaN</td>\n",
       "    </tr>\n",
       "    <tr>\n",
       "      <th>4</th>\n",
       "      <td>2018-05-08</td>\n",
       "      <td>Fête de la Victoire</td>\n",
       "      <td>Victory in Europe Day</td>\n",
       "      <td>FR</td>\n",
       "      <td>True</td>\n",
       "      <td>True</td>\n",
       "      <td>NaN</td>\n",
       "    </tr>\n",
       "  </tbody>\n",
       "</table>\n",
       "</div>"
      ],
      "text/plain": [
       "        Date            LocalName                   Name CountryCode  Fixed  \\\n",
       "0 2018-01-01         Jour de l'an         New Year's Day          FR   True   \n",
       "1 2018-03-30       Vendredi saint            Good Friday          FR  False   \n",
       "2 2018-04-02      Lundi de Pâques          Easter Monday          FR  False   \n",
       "3 2018-05-01  Fête du premier mai             Labour Day          FR   True   \n",
       "4 2018-05-08  Fête de la Victoire  Victory in Europe Day          FR   True   \n",
       "\n",
       "   Global  LaunchYear  \n",
       "0    True      1967.0  \n",
       "1   False         NaN  \n",
       "2    True      1642.0  \n",
       "3    True         NaN  \n",
       "4    True         NaN  "
      ]
     },
     "execution_count": 10,
     "metadata": {},
     "output_type": "execute_result"
    }
   ],
   "source": [
    "holidays.head()"
   ]
  },
  {
   "cell_type": "code",
   "execution_count": 11,
   "metadata": {},
   "outputs": [],
   "source": [
    "calendar[\"public holidays\"] = list(map(lambda x: x in list(holidays[\"Date\"]), calendar[\"date\"]))"
   ]
  },
  {
   "cell_type": "code",
   "execution_count": 12,
   "metadata": {},
   "outputs": [],
   "source": [
    "calendar = calendar.set_index(\"date\")"
   ]
  },
  {
   "cell_type": "code",
   "execution_count": 13,
   "metadata": {},
   "outputs": [
    {
     "data": {
      "text/html": [
       "<div>\n",
       "<style scoped>\n",
       "    .dataframe tbody tr th:only-of-type {\n",
       "        vertical-align: middle;\n",
       "    }\n",
       "\n",
       "    .dataframe tbody tr th {\n",
       "        vertical-align: top;\n",
       "    }\n",
       "\n",
       "    .dataframe thead th {\n",
       "        text-align: right;\n",
       "    }\n",
       "</style>\n",
       "<table border=\"1\" class=\"dataframe\">\n",
       "  <thead>\n",
       "    <tr style=\"text-align: right;\">\n",
       "      <th></th>\n",
       "      <th>day</th>\n",
       "      <th>month</th>\n",
       "      <th>year</th>\n",
       "      <th>dow</th>\n",
       "      <th>week number</th>\n",
       "      <th>month week number</th>\n",
       "      <th>public holidays</th>\n",
       "    </tr>\n",
       "    <tr>\n",
       "      <th>date</th>\n",
       "      <th></th>\n",
       "      <th></th>\n",
       "      <th></th>\n",
       "      <th></th>\n",
       "      <th></th>\n",
       "      <th></th>\n",
       "      <th></th>\n",
       "    </tr>\n",
       "  </thead>\n",
       "  <tbody>\n",
       "    <tr>\n",
       "      <th>2018-08-29</th>\n",
       "      <td>29</td>\n",
       "      <td>8</td>\n",
       "      <td>2018</td>\n",
       "      <td>2</td>\n",
       "      <td>35</td>\n",
       "      <td>4</td>\n",
       "      <td>False</td>\n",
       "    </tr>\n",
       "    <tr>\n",
       "      <th>2018-08-30</th>\n",
       "      <td>30</td>\n",
       "      <td>8</td>\n",
       "      <td>2018</td>\n",
       "      <td>3</td>\n",
       "      <td>35</td>\n",
       "      <td>4</td>\n",
       "      <td>False</td>\n",
       "    </tr>\n",
       "    <tr>\n",
       "      <th>2018-08-31</th>\n",
       "      <td>31</td>\n",
       "      <td>8</td>\n",
       "      <td>2018</td>\n",
       "      <td>4</td>\n",
       "      <td>35</td>\n",
       "      <td>4</td>\n",
       "      <td>False</td>\n",
       "    </tr>\n",
       "    <tr>\n",
       "      <th>2018-09-01</th>\n",
       "      <td>1</td>\n",
       "      <td>9</td>\n",
       "      <td>2018</td>\n",
       "      <td>5</td>\n",
       "      <td>35</td>\n",
       "      <td>0</td>\n",
       "      <td>False</td>\n",
       "    </tr>\n",
       "    <tr>\n",
       "      <th>2018-09-02</th>\n",
       "      <td>2</td>\n",
       "      <td>9</td>\n",
       "      <td>2018</td>\n",
       "      <td>6</td>\n",
       "      <td>35</td>\n",
       "      <td>0</td>\n",
       "      <td>False</td>\n",
       "    </tr>\n",
       "  </tbody>\n",
       "</table>\n",
       "</div>"
      ],
      "text/plain": [
       "            day  month  year  dow  week number  month week number  \\\n",
       "date                                                                \n",
       "2018-08-29   29      8  2018    2           35                  4   \n",
       "2018-08-30   30      8  2018    3           35                  4   \n",
       "2018-08-31   31      8  2018    4           35                  4   \n",
       "2018-09-01    1      9  2018    5           35                  0   \n",
       "2018-09-02    2      9  2018    6           35                  0   \n",
       "\n",
       "            public holidays  \n",
       "date                         \n",
       "2018-08-29            False  \n",
       "2018-08-30            False  \n",
       "2018-08-31            False  \n",
       "2018-09-01            False  \n",
       "2018-09-02            False  "
      ]
     },
     "execution_count": 13,
     "metadata": {},
     "output_type": "execute_result"
    }
   ],
   "source": [
    "calendar.head()"
   ]
  },
  {
   "cell_type": "markdown",
   "metadata": {},
   "source": [
    "join data"
   ]
  },
  {
   "cell_type": "code",
   "execution_count": 14,
   "metadata": {},
   "outputs": [
    {
     "data": {
      "text/html": [
       "<div>\n",
       "<style scoped>\n",
       "    .dataframe tbody tr th:only-of-type {\n",
       "        vertical-align: middle;\n",
       "    }\n",
       "\n",
       "    .dataframe tbody tr th {\n",
       "        vertical-align: top;\n",
       "    }\n",
       "\n",
       "    .dataframe thead th {\n",
       "        text-align: right;\n",
       "    }\n",
       "</style>\n",
       "<table border=\"1\" class=\"dataframe\">\n",
       "  <thead>\n",
       "    <tr style=\"text-align: right;\">\n",
       "      <th></th>\n",
       "      <th>Chiffre d'Affaires HT</th>\n",
       "      <th>Chiffre d'Affaires TTC</th>\n",
       "      <th>Coefficient moyen</th>\n",
       "      <th>Nom TVA</th>\n",
       "      <th>Nombre moyen de produits / Ticket</th>\n",
       "      <th>TVA Collecté</th>\n",
       "      <th>TVA Vente 10%</th>\n",
       "      <th>TVA Vente 20%</th>\n",
       "      <th>Ticket moyen TTC</th>\n",
       "      <th>date</th>\n",
       "      <th>day</th>\n",
       "      <th>month</th>\n",
       "      <th>year</th>\n",
       "      <th>dow</th>\n",
       "      <th>week number</th>\n",
       "      <th>month week number</th>\n",
       "      <th>public holidays</th>\n",
       "    </tr>\n",
       "    <tr>\n",
       "      <th>date</th>\n",
       "      <th></th>\n",
       "      <th></th>\n",
       "      <th></th>\n",
       "      <th></th>\n",
       "      <th></th>\n",
       "      <th></th>\n",
       "      <th></th>\n",
       "      <th></th>\n",
       "      <th></th>\n",
       "      <th></th>\n",
       "      <th></th>\n",
       "      <th></th>\n",
       "      <th></th>\n",
       "      <th></th>\n",
       "      <th></th>\n",
       "      <th></th>\n",
       "      <th></th>\n",
       "    </tr>\n",
       "  </thead>\n",
       "  <tbody>\n",
       "    <tr>\n",
       "      <th>2018-08-29</th>\n",
       "      <td>88.99</td>\n",
       "      <td>105.6</td>\n",
       "      <td>0.0</td>\n",
       "      <td>Taux TVA</td>\n",
       "      <td>1.3</td>\n",
       "      <td>16.61</td>\n",
       "      <td>10 %</td>\n",
       "      <td>20 %</td>\n",
       "      <td>7.04</td>\n",
       "      <td>2018-08-29</td>\n",
       "      <td>29</td>\n",
       "      <td>8</td>\n",
       "      <td>2018</td>\n",
       "      <td>2</td>\n",
       "      <td>35</td>\n",
       "      <td>4</td>\n",
       "      <td>False</td>\n",
       "    </tr>\n",
       "    <tr>\n",
       "      <th>2018-08-30</th>\n",
       "      <td>115.37</td>\n",
       "      <td>134.1</td>\n",
       "      <td>0.0</td>\n",
       "      <td>Taux TVA</td>\n",
       "      <td>2.7</td>\n",
       "      <td>18.73</td>\n",
       "      <td>10 %</td>\n",
       "      <td>20 %</td>\n",
       "      <td>19.16</td>\n",
       "      <td>2018-08-30</td>\n",
       "      <td>30</td>\n",
       "      <td>8</td>\n",
       "      <td>2018</td>\n",
       "      <td>3</td>\n",
       "      <td>35</td>\n",
       "      <td>4</td>\n",
       "      <td>False</td>\n",
       "    </tr>\n",
       "    <tr>\n",
       "      <th>2018-08-31</th>\n",
       "      <td>91.39</td>\n",
       "      <td>108.3</td>\n",
       "      <td>0.0</td>\n",
       "      <td>Taux TVA</td>\n",
       "      <td>2.1</td>\n",
       "      <td>16.91</td>\n",
       "      <td>10 %</td>\n",
       "      <td>20 %</td>\n",
       "      <td>10.83</td>\n",
       "      <td>2018-08-31</td>\n",
       "      <td>31</td>\n",
       "      <td>8</td>\n",
       "      <td>2018</td>\n",
       "      <td>4</td>\n",
       "      <td>35</td>\n",
       "      <td>4</td>\n",
       "      <td>False</td>\n",
       "    </tr>\n",
       "    <tr>\n",
       "      <th>2018-09-01</th>\n",
       "      <td>196.80</td>\n",
       "      <td>231.7</td>\n",
       "      <td>0.0</td>\n",
       "      <td>Taux TVA</td>\n",
       "      <td>2.2</td>\n",
       "      <td>34.90</td>\n",
       "      <td>10 %</td>\n",
       "      <td>20 %</td>\n",
       "      <td>14.48</td>\n",
       "      <td>2018-09-01</td>\n",
       "      <td>1</td>\n",
       "      <td>9</td>\n",
       "      <td>2018</td>\n",
       "      <td>5</td>\n",
       "      <td>35</td>\n",
       "      <td>0</td>\n",
       "      <td>False</td>\n",
       "    </tr>\n",
       "    <tr>\n",
       "      <th>2018-09-05</th>\n",
       "      <td>56.00</td>\n",
       "      <td>67.2</td>\n",
       "      <td>0.0</td>\n",
       "      <td>Taux TVA</td>\n",
       "      <td>10.0</td>\n",
       "      <td>11.20</td>\n",
       "      <td>NaN</td>\n",
       "      <td>20 %</td>\n",
       "      <td>67.20</td>\n",
       "      <td>2018-09-05</td>\n",
       "      <td>5</td>\n",
       "      <td>9</td>\n",
       "      <td>2018</td>\n",
       "      <td>2</td>\n",
       "      <td>36</td>\n",
       "      <td>1</td>\n",
       "      <td>False</td>\n",
       "    </tr>\n",
       "  </tbody>\n",
       "</table>\n",
       "</div>"
      ],
      "text/plain": [
       "            Chiffre d'Affaires HT  Chiffre d'Affaires TTC  Coefficient moyen  \\\n",
       "date                                                                           \n",
       "2018-08-29                  88.99                   105.6                0.0   \n",
       "2018-08-30                 115.37                   134.1                0.0   \n",
       "2018-08-31                  91.39                   108.3                0.0   \n",
       "2018-09-01                 196.80                   231.7                0.0   \n",
       "2018-09-05                  56.00                    67.2                0.0   \n",
       "\n",
       "             Nom TVA  Nombre moyen de produits / Ticket  TVA Collecté  \\\n",
       "date                                                                    \n",
       "2018-08-29  Taux TVA                                1.3         16.61   \n",
       "2018-08-30  Taux TVA                                2.7         18.73   \n",
       "2018-08-31  Taux TVA                                2.1         16.91   \n",
       "2018-09-01  Taux TVA                                2.2         34.90   \n",
       "2018-09-05  Taux TVA                               10.0         11.20   \n",
       "\n",
       "           TVA Vente 10% TVA Vente 20%  Ticket moyen TTC       date  day  \\\n",
       "date                                                                       \n",
       "2018-08-29          10 %          20 %              7.04 2018-08-29   29   \n",
       "2018-08-30          10 %          20 %             19.16 2018-08-30   30   \n",
       "2018-08-31          10 %          20 %             10.83 2018-08-31   31   \n",
       "2018-09-01          10 %          20 %             14.48 2018-09-01    1   \n",
       "2018-09-05           NaN          20 %             67.20 2018-09-05    5   \n",
       "\n",
       "            month  year  dow  week number  month week number  public holidays  \n",
       "date                                                                           \n",
       "2018-08-29      8  2018    2           35                  4            False  \n",
       "2018-08-30      8  2018    3           35                  4            False  \n",
       "2018-08-31      8  2018    4           35                  4            False  \n",
       "2018-09-01      9  2018    5           35                  0            False  \n",
       "2018-09-05      9  2018    2           36                  1            False  "
      ]
     },
     "execution_count": 14,
     "metadata": {},
     "output_type": "execute_result"
    }
   ],
   "source": [
    "# the pandas way\n",
    "daily = daily.join([calendar])\n",
    "\n",
    "# the spark.sql way\n",
    "# TODO\n",
    "\n",
    "daily.head()"
   ]
  },
  {
   "cell_type": "markdown",
   "metadata": {},
   "source": [
    "## Weather\n",
    "\n",
    "from meteofrance"
   ]
  },
  {
   "cell_type": "code",
   "execution_count": null,
   "metadata": {},
   "outputs": [],
   "source": []
  },
  {
   "cell_type": "markdown",
   "metadata": {},
   "source": [
    "### Programation"
   ]
  },
  {
   "cell_type": "code",
   "execution_count": 15,
   "metadata": {},
   "outputs": [],
   "source": [
    "import icalendar"
   ]
  },
  {
   "cell_type": "code",
   "execution_count": 16,
   "metadata": {},
   "outputs": [],
   "source": [
    "icalfile = \"./data/prog/Programmation.ics\"\n",
    "\n",
    "columns = (\"DTSTAMP\", \"UID\", \"SUMMARY\", \"DTSTART\", \"DTEND\")"
   ]
  },
  {
   "cell_type": "code",
   "execution_count": 17,
   "metadata": {},
   "outputs": [],
   "source": [
    "with open(icalfile, \"rb\") as fd:\n",
    "    icalcontent = fd.read()\n",
    "    \n",
    "events_cal = icalendar.Calendar().from_ical(icalcontent)"
   ]
  },
  {
   "cell_type": "code",
   "execution_count": 18,
   "metadata": {},
   "outputs": [
    {
     "data": {
      "text/html": [
       "<div>\n",
       "<style scoped>\n",
       "    .dataframe tbody tr th:only-of-type {\n",
       "        vertical-align: middle;\n",
       "    }\n",
       "\n",
       "    .dataframe tbody tr th {\n",
       "        vertical-align: top;\n",
       "    }\n",
       "\n",
       "    .dataframe thead th {\n",
       "        text-align: right;\n",
       "    }\n",
       "</style>\n",
       "<table border=\"1\" class=\"dataframe\">\n",
       "  <thead>\n",
       "    <tr style=\"text-align: right;\">\n",
       "      <th></th>\n",
       "      <th>DTEND</th>\n",
       "      <th>DTSTAMP</th>\n",
       "      <th>DTSTART</th>\n",
       "      <th>STATUS</th>\n",
       "      <th>SUMMARY</th>\n",
       "      <th>UID</th>\n",
       "      <th>SEQUENCE</th>\n",
       "      <th>CREATED</th>\n",
       "      <th>LAST-MODIFIED</th>\n",
       "      <th>CLASS</th>\n",
       "      <th>TRANSP</th>\n",
       "      <th>X-LIC-ERROR</th>\n",
       "      <th>DESCRIPTION</th>\n",
       "      <th>DURATION</th>\n",
       "      <th>RRULE</th>\n",
       "      <th>RECURRENCE-ID</th>\n",
       "    </tr>\n",
       "  </thead>\n",
       "  <tbody>\n",
       "    <tr>\n",
       "      <th>0</th>\n",
       "      <td>20190405T200000</td>\n",
       "      <td>20190316T170758Z</td>\n",
       "      <td>20190405T190000</td>\n",
       "      <td>CONFIRMED</td>\n",
       "      <td>Régie à faire homme/femme</td>\n",
       "      <td>bce54aba-6566-48ab-a31d-8318feab67f6</td>\n",
       "      <td>NaN</td>\n",
       "      <td>NaN</td>\n",
       "      <td>NaN</td>\n",
       "      <td>NaN</td>\n",
       "      <td>NaN</td>\n",
       "      <td>NaN</td>\n",
       "      <td>NaN</td>\n",
       "      <td>NaN</td>\n",
       "      <td>NaN</td>\n",
       "      <td>NaN</td>\n",
       "    </tr>\n",
       "    <tr>\n",
       "      <th>0</th>\n",
       "      <td>20181202T180000</td>\n",
       "      <td>20181017T124115Z</td>\n",
       "      <td>20181202T160000</td>\n",
       "      <td>CONFIRMED</td>\n",
       "      <td>Cours arbitrage anne</td>\n",
       "      <td>bdb52aeb-3bae-4bfd-b2dd-47cdb4dc1cfd</td>\n",
       "      <td>NaN</td>\n",
       "      <td>NaN</td>\n",
       "      <td>NaN</td>\n",
       "      <td>NaN</td>\n",
       "      <td>NaN</td>\n",
       "      <td>NaN</td>\n",
       "      <td>NaN</td>\n",
       "      <td>NaN</td>\n",
       "      <td>NaN</td>\n",
       "      <td>NaN</td>\n",
       "    </tr>\n",
       "    <tr>\n",
       "      <th>0</th>\n",
       "      <td>20181213T173000</td>\n",
       "      <td>20181210T025524Z</td>\n",
       "      <td>20181213T160000</td>\n",
       "      <td>CONFIRMED</td>\n",
       "      <td>Show sculpteur</td>\n",
       "      <td>bdf96d8c-dadc-47a6-ac64-05b3d0716502</td>\n",
       "      <td>NaN</td>\n",
       "      <td>NaN</td>\n",
       "      <td>NaN</td>\n",
       "      <td>NaN</td>\n",
       "      <td>NaN</td>\n",
       "      <td>NaN</td>\n",
       "      <td>NaN</td>\n",
       "      <td>NaN</td>\n",
       "      <td>NaN</td>\n",
       "      <td>NaN</td>\n",
       "    </tr>\n",
       "    <tr>\n",
       "      <th>0</th>\n",
       "      <td>20181115T203000</td>\n",
       "      <td>20181029T181925Z</td>\n",
       "      <td>20181115T193000</td>\n",
       "      <td>CONFIRMED</td>\n",
       "      <td>Ligue d'improvisation de la réunion -Improrun</td>\n",
       "      <td>be17ad5d-99ab-4a06-9160-3ccde3dca03b</td>\n",
       "      <td>2</td>\n",
       "      <td>NaN</td>\n",
       "      <td>NaN</td>\n",
       "      <td>NaN</td>\n",
       "      <td>NaN</td>\n",
       "      <td>NaN</td>\n",
       "      <td>NaN</td>\n",
       "      <td>NaN</td>\n",
       "      <td>NaN</td>\n",
       "      <td>NaN</td>\n",
       "    </tr>\n",
       "    <tr>\n",
       "      <th>0</th>\n",
       "      <td>20190623T210000</td>\n",
       "      <td>20190303T114938Z</td>\n",
       "      <td>20190623T193000</td>\n",
       "      <td>CONFIRMED</td>\n",
       "      <td>Clown improvisé</td>\n",
       "      <td>bfb42f8b-06d8-4ccd-88eb-57beee4218b1</td>\n",
       "      <td>NaN</td>\n",
       "      <td>NaN</td>\n",
       "      <td>NaN</td>\n",
       "      <td>NaN</td>\n",
       "      <td>NaN</td>\n",
       "      <td>NaN</td>\n",
       "      <td>NaN</td>\n",
       "      <td>NaN</td>\n",
       "      <td>NaN</td>\n",
       "      <td>NaN</td>\n",
       "    </tr>\n",
       "  </tbody>\n",
       "</table>\n",
       "</div>"
      ],
      "text/plain": [
       "             DTEND           DTSTAMP          DTSTART     STATUS  \\\n",
       "0  20190405T200000  20190316T170758Z  20190405T190000  CONFIRMED   \n",
       "0  20181202T180000  20181017T124115Z  20181202T160000  CONFIRMED   \n",
       "0  20181213T173000  20181210T025524Z  20181213T160000  CONFIRMED   \n",
       "0  20181115T203000  20181029T181925Z  20181115T193000  CONFIRMED   \n",
       "0  20190623T210000  20190303T114938Z  20190623T193000  CONFIRMED   \n",
       "\n",
       "                                         SUMMARY  \\\n",
       "0                      Régie à faire homme/femme   \n",
       "0                           Cours arbitrage anne   \n",
       "0                                 Show sculpteur   \n",
       "0  Ligue d'improvisation de la réunion -Improrun   \n",
       "0                                Clown improvisé   \n",
       "\n",
       "                                    UID SEQUENCE CREATED LAST-MODIFIED CLASS  \\\n",
       "0  bce54aba-6566-48ab-a31d-8318feab67f6      NaN     NaN           NaN   NaN   \n",
       "0  bdb52aeb-3bae-4bfd-b2dd-47cdb4dc1cfd      NaN     NaN           NaN   NaN   \n",
       "0  bdf96d8c-dadc-47a6-ac64-05b3d0716502      NaN     NaN           NaN   NaN   \n",
       "0  be17ad5d-99ab-4a06-9160-3ccde3dca03b        2     NaN           NaN   NaN   \n",
       "0  bfb42f8b-06d8-4ccd-88eb-57beee4218b1      NaN     NaN           NaN   NaN   \n",
       "\n",
       "  TRANSP X-LIC-ERROR DESCRIPTION DURATION RRULE RECURRENCE-ID  \n",
       "0    NaN         NaN         NaN      NaN   NaN           NaN  \n",
       "0    NaN         NaN         NaN      NaN   NaN           NaN  \n",
       "0    NaN         NaN         NaN      NaN   NaN           NaN  \n",
       "0    NaN         NaN         NaN      NaN   NaN           NaN  \n",
       "0    NaN         NaN         NaN      NaN   NaN           NaN  "
      ]
     },
     "execution_count": 18,
     "metadata": {},
     "output_type": "execute_result"
    }
   ],
   "source": [
    "events = pd.DataFrame()\n",
    "for evt in events_cal.walk('vevent'):\n",
    "    \n",
    "    # rebuild event\n",
    "    elt = {}\n",
    "    for k, v in dict(evt).items():\n",
    "        elt[k] = evt[k].to_ical().decode()\n",
    "    events = events.append(pd.DataFrame([elt]), sort=False)\n",
    "\n",
    "events.head()"
   ]
  },
  {
   "cell_type": "code",
   "execution_count": 19,
   "metadata": {},
   "outputs": [
    {
     "data": {
      "text/html": [
       "<div>\n",
       "<style scoped>\n",
       "    .dataframe tbody tr th:only-of-type {\n",
       "        vertical-align: middle;\n",
       "    }\n",
       "\n",
       "    .dataframe tbody tr th {\n",
       "        vertical-align: top;\n",
       "    }\n",
       "\n",
       "    .dataframe thead th {\n",
       "        text-align: right;\n",
       "    }\n",
       "</style>\n",
       "<table border=\"1\" class=\"dataframe\">\n",
       "  <thead>\n",
       "    <tr style=\"text-align: right;\">\n",
       "      <th></th>\n",
       "      <th>DTEND</th>\n",
       "      <th>DTSTAMP</th>\n",
       "      <th>DTSTART</th>\n",
       "      <th>STATUS</th>\n",
       "      <th>SUMMARY</th>\n",
       "      <th>UID</th>\n",
       "      <th>SEQUENCE</th>\n",
       "      <th>CREATED</th>\n",
       "      <th>LAST-MODIFIED</th>\n",
       "      <th>CLASS</th>\n",
       "      <th>TRANSP</th>\n",
       "      <th>X-LIC-ERROR</th>\n",
       "      <th>DESCRIPTION</th>\n",
       "      <th>DURATION</th>\n",
       "      <th>RRULE</th>\n",
       "      <th>RECURRENCE-ID</th>\n",
       "    </tr>\n",
       "  </thead>\n",
       "  <tbody>\n",
       "    <tr>\n",
       "      <th>0</th>\n",
       "      <td>2019-04-05 20:00:00</td>\n",
       "      <td>2019-03-16 17:07:58+00:00</td>\n",
       "      <td>2019-04-05 19:00:00</td>\n",
       "      <td>CONFIRMED</td>\n",
       "      <td>Régie à faire homme/femme</td>\n",
       "      <td>bce54aba-6566-48ab-a31d-8318feab67f6</td>\n",
       "      <td>NaN</td>\n",
       "      <td>NaN</td>\n",
       "      <td>NaN</td>\n",
       "      <td>NaN</td>\n",
       "      <td>NaN</td>\n",
       "      <td>NaN</td>\n",
       "      <td>NaN</td>\n",
       "      <td>NaN</td>\n",
       "      <td>NaN</td>\n",
       "      <td>NaN</td>\n",
       "    </tr>\n",
       "    <tr>\n",
       "      <th>0</th>\n",
       "      <td>2018-12-02 18:00:00</td>\n",
       "      <td>2018-10-17 12:41:15+00:00</td>\n",
       "      <td>2018-12-02 16:00:00</td>\n",
       "      <td>CONFIRMED</td>\n",
       "      <td>Cours arbitrage anne</td>\n",
       "      <td>bdb52aeb-3bae-4bfd-b2dd-47cdb4dc1cfd</td>\n",
       "      <td>NaN</td>\n",
       "      <td>NaN</td>\n",
       "      <td>NaN</td>\n",
       "      <td>NaN</td>\n",
       "      <td>NaN</td>\n",
       "      <td>NaN</td>\n",
       "      <td>NaN</td>\n",
       "      <td>NaN</td>\n",
       "      <td>NaN</td>\n",
       "      <td>NaN</td>\n",
       "    </tr>\n",
       "    <tr>\n",
       "      <th>0</th>\n",
       "      <td>2018-12-13 17:30:00</td>\n",
       "      <td>2018-12-10 02:55:24+00:00</td>\n",
       "      <td>2018-12-13 16:00:00</td>\n",
       "      <td>CONFIRMED</td>\n",
       "      <td>Show sculpteur</td>\n",
       "      <td>bdf96d8c-dadc-47a6-ac64-05b3d0716502</td>\n",
       "      <td>NaN</td>\n",
       "      <td>NaN</td>\n",
       "      <td>NaN</td>\n",
       "      <td>NaN</td>\n",
       "      <td>NaN</td>\n",
       "      <td>NaN</td>\n",
       "      <td>NaN</td>\n",
       "      <td>NaN</td>\n",
       "      <td>NaN</td>\n",
       "      <td>NaN</td>\n",
       "    </tr>\n",
       "    <tr>\n",
       "      <th>0</th>\n",
       "      <td>2018-11-15 20:30:00</td>\n",
       "      <td>2018-10-29 18:19:25+00:00</td>\n",
       "      <td>2018-11-15 19:30:00</td>\n",
       "      <td>CONFIRMED</td>\n",
       "      <td>Ligue d'improvisation de la réunion -Improrun</td>\n",
       "      <td>be17ad5d-99ab-4a06-9160-3ccde3dca03b</td>\n",
       "      <td>2</td>\n",
       "      <td>NaN</td>\n",
       "      <td>NaN</td>\n",
       "      <td>NaN</td>\n",
       "      <td>NaN</td>\n",
       "      <td>NaN</td>\n",
       "      <td>NaN</td>\n",
       "      <td>NaN</td>\n",
       "      <td>NaN</td>\n",
       "      <td>NaN</td>\n",
       "    </tr>\n",
       "    <tr>\n",
       "      <th>0</th>\n",
       "      <td>2019-06-23 21:00:00</td>\n",
       "      <td>2019-03-03 11:49:38+00:00</td>\n",
       "      <td>2019-06-23 19:30:00</td>\n",
       "      <td>CONFIRMED</td>\n",
       "      <td>Clown improvisé</td>\n",
       "      <td>bfb42f8b-06d8-4ccd-88eb-57beee4218b1</td>\n",
       "      <td>NaN</td>\n",
       "      <td>NaN</td>\n",
       "      <td>NaN</td>\n",
       "      <td>NaN</td>\n",
       "      <td>NaN</td>\n",
       "      <td>NaN</td>\n",
       "      <td>NaN</td>\n",
       "      <td>NaN</td>\n",
       "      <td>NaN</td>\n",
       "      <td>NaN</td>\n",
       "    </tr>\n",
       "  </tbody>\n",
       "</table>\n",
       "</div>"
      ],
      "text/plain": [
       "                 DTEND                    DTSTAMP              DTSTART  \\\n",
       "0  2019-04-05 20:00:00  2019-03-16 17:07:58+00:00  2019-04-05 19:00:00   \n",
       "0  2018-12-02 18:00:00  2018-10-17 12:41:15+00:00  2018-12-02 16:00:00   \n",
       "0  2018-12-13 17:30:00  2018-12-10 02:55:24+00:00  2018-12-13 16:00:00   \n",
       "0  2018-11-15 20:30:00  2018-10-29 18:19:25+00:00  2018-11-15 19:30:00   \n",
       "0  2019-06-23 21:00:00  2019-03-03 11:49:38+00:00  2019-06-23 19:30:00   \n",
       "\n",
       "      STATUS                                        SUMMARY  \\\n",
       "0  CONFIRMED                      Régie à faire homme/femme   \n",
       "0  CONFIRMED                           Cours arbitrage anne   \n",
       "0  CONFIRMED                                 Show sculpteur   \n",
       "0  CONFIRMED  Ligue d'improvisation de la réunion -Improrun   \n",
       "0  CONFIRMED                                Clown improvisé   \n",
       "\n",
       "                                    UID SEQUENCE CREATED LAST-MODIFIED CLASS  \\\n",
       "0  bce54aba-6566-48ab-a31d-8318feab67f6      NaN     NaN           NaN   NaN   \n",
       "0  bdb52aeb-3bae-4bfd-b2dd-47cdb4dc1cfd      NaN     NaN           NaN   NaN   \n",
       "0  bdf96d8c-dadc-47a6-ac64-05b3d0716502      NaN     NaN           NaN   NaN   \n",
       "0  be17ad5d-99ab-4a06-9160-3ccde3dca03b        2     NaN           NaN   NaN   \n",
       "0  bfb42f8b-06d8-4ccd-88eb-57beee4218b1      NaN     NaN           NaN   NaN   \n",
       "\n",
       "  TRANSP X-LIC-ERROR DESCRIPTION DURATION RRULE RECURRENCE-ID  \n",
       "0    NaN         NaN         NaN      NaN   NaN           NaN  \n",
       "0    NaN         NaN         NaN      NaN   NaN           NaN  \n",
       "0    NaN         NaN         NaN      NaN   NaN           NaN  \n",
       "0    NaN         NaN         NaN      NaN   NaN           NaN  \n",
       "0    NaN         NaN         NaN      NaN   NaN           NaN  "
      ]
     },
     "execution_count": 19,
     "metadata": {},
     "output_type": "execute_result"
    }
   ],
   "source": [
    "# parse date\n",
    "date_cols = [col for col in events.columns if col.startswith(\"DT\")]\n",
    "\n",
    "for col in date_cols:\n",
    "    events[col] = events[col].apply(pd.to_datetime)\n",
    "\n",
    "events.head()"
   ]
  },
  {
   "cell_type": "markdown",
   "metadata": {},
   "source": [
    "duration are not all filled"
   ]
  },
  {
   "cell_type": "code",
   "execution_count": 20,
   "metadata": {},
   "outputs": [
    {
     "data": {
      "text/plain": [
       "array([nan, 'PT5H30M', 'PT1H', 'PT2H30M', 'PT4H', 'PT2H', 'PT3H',\n",
       "       'PT1H30M', 'PT9H'], dtype=object)"
      ]
     },
     "execution_count": 20,
     "metadata": {},
     "output_type": "execute_result"
    }
   ],
   "source": [
    "events[\"DURATION\"].unique()"
   ]
  },
  {
   "cell_type": "code",
   "execution_count": 21,
   "metadata": {},
   "outputs": [
    {
     "data": {
      "text/html": [
       "<div>\n",
       "<style scoped>\n",
       "    .dataframe tbody tr th:only-of-type {\n",
       "        vertical-align: middle;\n",
       "    }\n",
       "\n",
       "    .dataframe tbody tr th {\n",
       "        vertical-align: top;\n",
       "    }\n",
       "\n",
       "    .dataframe thead th {\n",
       "        text-align: right;\n",
       "    }\n",
       "</style>\n",
       "<table border=\"1\" class=\"dataframe\">\n",
       "  <thead>\n",
       "    <tr style=\"text-align: right;\">\n",
       "      <th></th>\n",
       "      <th>DTEND</th>\n",
       "      <th>DTSTAMP</th>\n",
       "      <th>DTSTART</th>\n",
       "      <th>STATUS</th>\n",
       "      <th>SUMMARY</th>\n",
       "      <th>UID</th>\n",
       "      <th>SEQUENCE</th>\n",
       "      <th>CREATED</th>\n",
       "      <th>LAST-MODIFIED</th>\n",
       "      <th>CLASS</th>\n",
       "      <th>TRANSP</th>\n",
       "      <th>X-LIC-ERROR</th>\n",
       "      <th>DESCRIPTION</th>\n",
       "      <th>DURATION</th>\n",
       "      <th>RRULE</th>\n",
       "      <th>RECURRENCE-ID</th>\n",
       "    </tr>\n",
       "  </thead>\n",
       "  <tbody>\n",
       "    <tr>\n",
       "      <th>0</th>\n",
       "      <td>NaT</td>\n",
       "      <td>2019-01-31 02:52:00+00:00</td>\n",
       "      <td>2019-05-31 20:00:00</td>\n",
       "      <td>CONFIRMED</td>\n",
       "      <td>Festival impronautes</td>\n",
       "      <td>c2f430a8-bffe-4561-9975-f7c056b21cbd</td>\n",
       "      <td>NaN</td>\n",
       "      <td>NaN</td>\n",
       "      <td>NaN</td>\n",
       "      <td>NaN</td>\n",
       "      <td>NaN</td>\n",
       "      <td>NaN</td>\n",
       "      <td>NaN</td>\n",
       "      <td>PT5H30M</td>\n",
       "      <td>FREQ=DAILY;COUNT=2</td>\n",
       "      <td>NaN</td>\n",
       "    </tr>\n",
       "    <tr>\n",
       "      <th>0</th>\n",
       "      <td>NaT</td>\n",
       "      <td>2018-11-12 10:55:55+00:00</td>\n",
       "      <td>2019-01-17 21:30:00</td>\n",
       "      <td>CONFIRMED</td>\n",
       "      <td>Catch impro</td>\n",
       "      <td>d1150a69-6fee-41c2-8502-d7c7b1060176</td>\n",
       "      <td>NaN</td>\n",
       "      <td>NaN</td>\n",
       "      <td>NaN</td>\n",
       "      <td>NaN</td>\n",
       "      <td>NaN</td>\n",
       "      <td>NaN</td>\n",
       "      <td>NaN</td>\n",
       "      <td>PT1H</td>\n",
       "      <td>FREQ=MONTHLY;UNTIL=20190205T202959Z;BYDAY=1TU</td>\n",
       "      <td>NaN</td>\n",
       "    </tr>\n",
       "    <tr>\n",
       "      <th>0</th>\n",
       "      <td>NaT</td>\n",
       "      <td>2019-03-05 11:14:57+00:00</td>\n",
       "      <td>2019-08-22 21:30:00</td>\n",
       "      <td>CONFIRMED</td>\n",
       "      <td>Catch impro</td>\n",
       "      <td>e6bee811-07ba-4bbf-9acb-d436c3f3cfe8</td>\n",
       "      <td>1</td>\n",
       "      <td>NaN</td>\n",
       "      <td>NaN</td>\n",
       "      <td>NaN</td>\n",
       "      <td>NaN</td>\n",
       "      <td>NaN</td>\n",
       "      <td>NaN</td>\n",
       "      <td>PT1H</td>\n",
       "      <td>FREQ=MONTHLY;UNTIL=20190822T192959Z;BYDAY=3TU</td>\n",
       "      <td>NaN</td>\n",
       "    </tr>\n",
       "    <tr>\n",
       "      <th>0</th>\n",
       "      <td>NaT</td>\n",
       "      <td>2019-03-30 10:25:29+00:00</td>\n",
       "      <td>2019-04-02 21:30:00</td>\n",
       "      <td>CONFIRMED</td>\n",
       "      <td>Jam</td>\n",
       "      <td>ef7cee84-36e3-40ca-9399-f3a01d8bc32a</td>\n",
       "      <td>1</td>\n",
       "      <td>NaN</td>\n",
       "      <td>NaN</td>\n",
       "      <td>NaN</td>\n",
       "      <td>NaN</td>\n",
       "      <td>NaN</td>\n",
       "      <td>NaN</td>\n",
       "      <td>PT2H30M</td>\n",
       "      <td>FREQ=MONTHLY;UNTIL=20190702T192959Z;BYDAY=1TU</td>\n",
       "      <td>NaN</td>\n",
       "    </tr>\n",
       "    <tr>\n",
       "      <th>0</th>\n",
       "      <td>NaT</td>\n",
       "      <td>2018-11-12 10:55:54+00:00</td>\n",
       "      <td>2019-07-04 21:30:00</td>\n",
       "      <td>CONFIRMED</td>\n",
       "      <td>Catch impro</td>\n",
       "      <td>f76df687-daf1-4285-b5b8-6003a1326262</td>\n",
       "      <td>NaN</td>\n",
       "      <td>NaN</td>\n",
       "      <td>NaN</td>\n",
       "      <td>NaN</td>\n",
       "      <td>NaN</td>\n",
       "      <td>NaN</td>\n",
       "      <td>NaN</td>\n",
       "      <td>PT1H</td>\n",
       "      <td>FREQ=MONTHLY;UNTIL=20190806T192959Z;BYDAY=1TU</td>\n",
       "      <td>NaN</td>\n",
       "    </tr>\n",
       "  </tbody>\n",
       "</table>\n",
       "</div>"
      ],
      "text/plain": [
       "  DTEND                    DTSTAMP              DTSTART     STATUS  \\\n",
       "0   NaT  2019-01-31 02:52:00+00:00  2019-05-31 20:00:00  CONFIRMED   \n",
       "0   NaT  2018-11-12 10:55:55+00:00  2019-01-17 21:30:00  CONFIRMED   \n",
       "0   NaT  2019-03-05 11:14:57+00:00  2019-08-22 21:30:00  CONFIRMED   \n",
       "0   NaT  2019-03-30 10:25:29+00:00  2019-04-02 21:30:00  CONFIRMED   \n",
       "0   NaT  2018-11-12 10:55:54+00:00  2019-07-04 21:30:00  CONFIRMED   \n",
       "\n",
       "                SUMMARY                                   UID SEQUENCE  \\\n",
       "0  Festival impronautes  c2f430a8-bffe-4561-9975-f7c056b21cbd      NaN   \n",
       "0           Catch impro  d1150a69-6fee-41c2-8502-d7c7b1060176      NaN   \n",
       "0           Catch impro  e6bee811-07ba-4bbf-9acb-d436c3f3cfe8        1   \n",
       "0                   Jam  ef7cee84-36e3-40ca-9399-f3a01d8bc32a        1   \n",
       "0           Catch impro  f76df687-daf1-4285-b5b8-6003a1326262      NaN   \n",
       "\n",
       "  CREATED LAST-MODIFIED CLASS TRANSP X-LIC-ERROR DESCRIPTION DURATION  \\\n",
       "0     NaN           NaN   NaN    NaN         NaN         NaN  PT5H30M   \n",
       "0     NaN           NaN   NaN    NaN         NaN         NaN     PT1H   \n",
       "0     NaN           NaN   NaN    NaN         NaN         NaN     PT1H   \n",
       "0     NaN           NaN   NaN    NaN         NaN         NaN  PT2H30M   \n",
       "0     NaN           NaN   NaN    NaN         NaN         NaN     PT1H   \n",
       "\n",
       "                                           RRULE RECURRENCE-ID  \n",
       "0                             FREQ=DAILY;COUNT=2           NaN  \n",
       "0  FREQ=MONTHLY;UNTIL=20190205T202959Z;BYDAY=1TU           NaN  \n",
       "0  FREQ=MONTHLY;UNTIL=20190822T192959Z;BYDAY=3TU           NaN  \n",
       "0  FREQ=MONTHLY;UNTIL=20190702T192959Z;BYDAY=1TU           NaN  \n",
       "0  FREQ=MONTHLY;UNTIL=20190806T192959Z;BYDAY=1TU           NaN  "
      ]
     },
     "execution_count": 21,
     "metadata": {},
     "output_type": "execute_result"
    }
   ],
   "source": [
    "events[~events[\"DURATION\"].isnull()].head()"
   ]
  },
  {
   "cell_type": "code",
   "execution_count": 22,
   "metadata": {},
   "outputs": [
    {
     "data": {
      "text/html": [
       "<div>\n",
       "<style scoped>\n",
       "    .dataframe tbody tr th:only-of-type {\n",
       "        vertical-align: middle;\n",
       "    }\n",
       "\n",
       "    .dataframe tbody tr th {\n",
       "        vertical-align: top;\n",
       "    }\n",
       "\n",
       "    .dataframe thead th {\n",
       "        text-align: right;\n",
       "    }\n",
       "</style>\n",
       "<table border=\"1\" class=\"dataframe\">\n",
       "  <thead>\n",
       "    <tr style=\"text-align: right;\">\n",
       "      <th></th>\n",
       "      <th>DTEND</th>\n",
       "      <th>DTSTAMP</th>\n",
       "      <th>DTSTART</th>\n",
       "      <th>STATUS</th>\n",
       "      <th>SUMMARY</th>\n",
       "      <th>UID</th>\n",
       "      <th>SEQUENCE</th>\n",
       "      <th>CREATED</th>\n",
       "      <th>LAST-MODIFIED</th>\n",
       "      <th>CLASS</th>\n",
       "      <th>TRANSP</th>\n",
       "      <th>X-LIC-ERROR</th>\n",
       "      <th>DESCRIPTION</th>\n",
       "      <th>DURATION</th>\n",
       "      <th>RRULE</th>\n",
       "      <th>RECURRENCE-ID</th>\n",
       "    </tr>\n",
       "  </thead>\n",
       "  <tbody>\n",
       "  </tbody>\n",
       "</table>\n",
       "</div>"
      ],
      "text/plain": [
       "Empty DataFrame\n",
       "Columns: [DTEND, DTSTAMP, DTSTART, STATUS, SUMMARY, UID, SEQUENCE, CREATED, LAST-MODIFIED, CLASS, TRANSP, X-LIC-ERROR, DESCRIPTION, DURATION, RRULE, RECURRENCE-ID]\n",
       "Index: []"
      ]
     },
     "execution_count": 22,
     "metadata": {},
     "output_type": "execute_result"
    }
   ],
   "source": [
    "events[events[\"DTEND\"].isnull() & events[\"DURATION\"].isnull()]"
   ]
  },
  {
   "cell_type": "markdown",
   "metadata": {},
   "source": [
    "either duration or end is filled."
   ]
  },
  {
   "cell_type": "code",
   "execution_count": 23,
   "metadata": {},
   "outputs": [],
   "source": [
    "def compute_dtend(row):\n",
    "    \"\"\"Return DTEND value\n",
    "    \"\"\"\n",
    "    if row[\"DTEND\"] not in (pd.NaT,  np.NaN):\n",
    "        return row[\"DTEND\"]\n",
    "    dur = row[\"DURATION\"].strip(\"PTM\")\n",
    "    parsed = dur.split(\"H\")\n",
    "    hour = parsed[0]\n",
    "    minutes = parsed[1] if parsed[1] else \"0\"\n",
    "    return row[\"DTSTART\"] + timedelta(int(hour), int(minutes))\n",
    "\n"
   ]
  },
  {
   "cell_type": "code",
   "execution_count": 24,
   "metadata": {},
   "outputs": [
    {
     "data": {
      "text/html": [
       "<div>\n",
       "<style scoped>\n",
       "    .dataframe tbody tr th:only-of-type {\n",
       "        vertical-align: middle;\n",
       "    }\n",
       "\n",
       "    .dataframe tbody tr th {\n",
       "        vertical-align: top;\n",
       "    }\n",
       "\n",
       "    .dataframe thead th {\n",
       "        text-align: right;\n",
       "    }\n",
       "</style>\n",
       "<table border=\"1\" class=\"dataframe\">\n",
       "  <thead>\n",
       "    <tr style=\"text-align: right;\">\n",
       "      <th></th>\n",
       "      <th>DTEND</th>\n",
       "      <th>DTSTAMP</th>\n",
       "      <th>DTSTART</th>\n",
       "      <th>STATUS</th>\n",
       "      <th>SUMMARY</th>\n",
       "      <th>UID</th>\n",
       "      <th>SEQUENCE</th>\n",
       "      <th>CREATED</th>\n",
       "      <th>LAST-MODIFIED</th>\n",
       "      <th>CLASS</th>\n",
       "      <th>TRANSP</th>\n",
       "      <th>X-LIC-ERROR</th>\n",
       "      <th>DESCRIPTION</th>\n",
       "      <th>DURATION</th>\n",
       "      <th>RRULE</th>\n",
       "      <th>RECURRENCE-ID</th>\n",
       "    </tr>\n",
       "  </thead>\n",
       "  <tbody>\n",
       "  </tbody>\n",
       "</table>\n",
       "</div>"
      ],
      "text/plain": [
       "Empty DataFrame\n",
       "Columns: [DTEND, DTSTAMP, DTSTART, STATUS, SUMMARY, UID, SEQUENCE, CREATED, LAST-MODIFIED, CLASS, TRANSP, X-LIC-ERROR, DESCRIPTION, DURATION, RRULE, RECURRENCE-ID]\n",
       "Index: []"
      ]
     },
     "execution_count": 24,
     "metadata": {},
     "output_type": "execute_result"
    }
   ],
   "source": [
    "events[\"DTEND\"] = events.apply(compute_dtend, axis=1)\n",
    "events[events[\"DTEND\"].isnull()]"
   ]
  },
  {
   "cell_type": "code",
   "execution_count": 25,
   "metadata": {},
   "outputs": [
    {
     "data": {
      "text/html": [
       "<div>\n",
       "<style scoped>\n",
       "    .dataframe tbody tr th:only-of-type {\n",
       "        vertical-align: middle;\n",
       "    }\n",
       "\n",
       "    .dataframe tbody tr th {\n",
       "        vertical-align: top;\n",
       "    }\n",
       "\n",
       "    .dataframe thead th {\n",
       "        text-align: right;\n",
       "    }\n",
       "</style>\n",
       "<table border=\"1\" class=\"dataframe\">\n",
       "  <thead>\n",
       "    <tr style=\"text-align: right;\">\n",
       "      <th></th>\n",
       "      <th>DTEND</th>\n",
       "      <th>DTSTAMP</th>\n",
       "      <th>DTSTART</th>\n",
       "      <th>STATUS</th>\n",
       "      <th>SUMMARY</th>\n",
       "      <th>UID</th>\n",
       "      <th>SEQUENCE</th>\n",
       "      <th>CREATED</th>\n",
       "      <th>LAST-MODIFIED</th>\n",
       "      <th>CLASS</th>\n",
       "      <th>TRANSP</th>\n",
       "      <th>X-LIC-ERROR</th>\n",
       "      <th>DESCRIPTION</th>\n",
       "      <th>DURATION</th>\n",
       "      <th>RRULE</th>\n",
       "      <th>RECURRENCE-ID</th>\n",
       "    </tr>\n",
       "  </thead>\n",
       "  <tbody>\n",
       "    <tr>\n",
       "      <th>0</th>\n",
       "      <td>2019-04-05 20:00:00</td>\n",
       "      <td>2019-03-16 17:07:58+00:00</td>\n",
       "      <td>2019-04-05 19:00:00</td>\n",
       "      <td>CONFIRMED</td>\n",
       "      <td>Régie à faire homme/femme</td>\n",
       "      <td>bce54aba-6566-48ab-a31d-8318feab67f6</td>\n",
       "      <td>NaN</td>\n",
       "      <td>NaN</td>\n",
       "      <td>NaN</td>\n",
       "      <td>NaN</td>\n",
       "      <td>NaN</td>\n",
       "      <td>NaN</td>\n",
       "      <td>NaN</td>\n",
       "      <td>01:00:00</td>\n",
       "      <td>NaN</td>\n",
       "      <td>NaN</td>\n",
       "    </tr>\n",
       "    <tr>\n",
       "      <th>0</th>\n",
       "      <td>2018-12-02 18:00:00</td>\n",
       "      <td>2018-10-17 12:41:15+00:00</td>\n",
       "      <td>2018-12-02 16:00:00</td>\n",
       "      <td>CONFIRMED</td>\n",
       "      <td>Cours arbitrage anne</td>\n",
       "      <td>bdb52aeb-3bae-4bfd-b2dd-47cdb4dc1cfd</td>\n",
       "      <td>NaN</td>\n",
       "      <td>NaN</td>\n",
       "      <td>NaN</td>\n",
       "      <td>NaN</td>\n",
       "      <td>NaN</td>\n",
       "      <td>NaN</td>\n",
       "      <td>NaN</td>\n",
       "      <td>02:00:00</td>\n",
       "      <td>NaN</td>\n",
       "      <td>NaN</td>\n",
       "    </tr>\n",
       "    <tr>\n",
       "      <th>0</th>\n",
       "      <td>2018-12-13 17:30:00</td>\n",
       "      <td>2018-12-10 02:55:24+00:00</td>\n",
       "      <td>2018-12-13 16:00:00</td>\n",
       "      <td>CONFIRMED</td>\n",
       "      <td>Show sculpteur</td>\n",
       "      <td>bdf96d8c-dadc-47a6-ac64-05b3d0716502</td>\n",
       "      <td>NaN</td>\n",
       "      <td>NaN</td>\n",
       "      <td>NaN</td>\n",
       "      <td>NaN</td>\n",
       "      <td>NaN</td>\n",
       "      <td>NaN</td>\n",
       "      <td>NaN</td>\n",
       "      <td>01:30:00</td>\n",
       "      <td>NaN</td>\n",
       "      <td>NaN</td>\n",
       "    </tr>\n",
       "    <tr>\n",
       "      <th>0</th>\n",
       "      <td>2018-11-15 20:30:00</td>\n",
       "      <td>2018-10-29 18:19:25+00:00</td>\n",
       "      <td>2018-11-15 19:30:00</td>\n",
       "      <td>CONFIRMED</td>\n",
       "      <td>Ligue d'improvisation de la réunion -Improrun</td>\n",
       "      <td>be17ad5d-99ab-4a06-9160-3ccde3dca03b</td>\n",
       "      <td>2</td>\n",
       "      <td>NaN</td>\n",
       "      <td>NaN</td>\n",
       "      <td>NaN</td>\n",
       "      <td>NaN</td>\n",
       "      <td>NaN</td>\n",
       "      <td>NaN</td>\n",
       "      <td>01:00:00</td>\n",
       "      <td>NaN</td>\n",
       "      <td>NaN</td>\n",
       "    </tr>\n",
       "    <tr>\n",
       "      <th>0</th>\n",
       "      <td>2019-06-23 21:00:00</td>\n",
       "      <td>2019-03-03 11:49:38+00:00</td>\n",
       "      <td>2019-06-23 19:30:00</td>\n",
       "      <td>CONFIRMED</td>\n",
       "      <td>Clown improvisé</td>\n",
       "      <td>bfb42f8b-06d8-4ccd-88eb-57beee4218b1</td>\n",
       "      <td>NaN</td>\n",
       "      <td>NaN</td>\n",
       "      <td>NaN</td>\n",
       "      <td>NaN</td>\n",
       "      <td>NaN</td>\n",
       "      <td>NaN</td>\n",
       "      <td>NaN</td>\n",
       "      <td>01:30:00</td>\n",
       "      <td>NaN</td>\n",
       "      <td>NaN</td>\n",
       "    </tr>\n",
       "    <tr>\n",
       "      <th>0</th>\n",
       "      <td>2019-05-18 22:30:00</td>\n",
       "      <td>2019-04-05 09:29:17+00:00</td>\n",
       "      <td>2019-05-18 21:30:00</td>\n",
       "      <td>CONFIRMED</td>\n",
       "      <td>Poupak Armando diaz</td>\n",
       "      <td>c05f84dd-b656-420d-b1e1-1db1eb1c1acd</td>\n",
       "      <td>NaN</td>\n",
       "      <td>NaN</td>\n",
       "      <td>NaN</td>\n",
       "      <td>NaN</td>\n",
       "      <td>NaN</td>\n",
       "      <td>NaN</td>\n",
       "      <td>NaN</td>\n",
       "      <td>01:00:00</td>\n",
       "      <td>NaN</td>\n",
       "      <td>NaN</td>\n",
       "    </tr>\n",
       "    <tr>\n",
       "      <th>0</th>\n",
       "      <td>2019-03-16 21:00:00</td>\n",
       "      <td>2018-11-09 10:51:22+00:00</td>\n",
       "      <td>2019-03-16 20:00:00</td>\n",
       "      <td>CONFIRMED</td>\n",
       "      <td>The chimp</td>\n",
       "      <td>c07a0d60-712e-4187-aae2-8d6341337b39</td>\n",
       "      <td>NaN</td>\n",
       "      <td>NaN</td>\n",
       "      <td>NaN</td>\n",
       "      <td>NaN</td>\n",
       "      <td>NaN</td>\n",
       "      <td>NaN</td>\n",
       "      <td>NaN</td>\n",
       "      <td>01:00:00</td>\n",
       "      <td>NaN</td>\n",
       "      <td>NaN</td>\n",
       "    </tr>\n",
       "    <tr>\n",
       "      <th>0</th>\n",
       "      <td>2019-02-05 23:30:00</td>\n",
       "      <td>2019-01-30 10:02:05+00:00</td>\n",
       "      <td>2019-02-05 21:30:00</td>\n",
       "      <td>CONFIRMED</td>\n",
       "      <td>Les kikoos</td>\n",
       "      <td>c14d9ddf-846d-4ed5-870b-eeafa22db6ab</td>\n",
       "      <td>2</td>\n",
       "      <td>NaN</td>\n",
       "      <td>NaN</td>\n",
       "      <td>NaN</td>\n",
       "      <td>NaN</td>\n",
       "      <td>NaN</td>\n",
       "      <td>NaN</td>\n",
       "      <td>02:00:00</td>\n",
       "      <td>NaN</td>\n",
       "      <td>NaN</td>\n",
       "    </tr>\n",
       "    <tr>\n",
       "      <th>0</th>\n",
       "      <td>2019-03-24 21:30:00</td>\n",
       "      <td>2018-09-17 02:31:27+00:00</td>\n",
       "      <td>2019-03-24 20:30:00</td>\n",
       "      <td>CONFIRMED</td>\n",
       "      <td>Non sens</td>\n",
       "      <td>c3859781-fe0f-44b0-836b-e4b2d14a7706</td>\n",
       "      <td>NaN</td>\n",
       "      <td>NaN</td>\n",
       "      <td>NaN</td>\n",
       "      <td>NaN</td>\n",
       "      <td>NaN</td>\n",
       "      <td>NaN</td>\n",
       "      <td>NaN</td>\n",
       "      <td>01:00:00</td>\n",
       "      <td>NaN</td>\n",
       "      <td>NaN</td>\n",
       "    </tr>\n",
       "    <tr>\n",
       "      <th>0</th>\n",
       "      <td>2019-03-09 22:30:00</td>\n",
       "      <td>2019-01-10 03:57:59+00:00</td>\n",
       "      <td>2019-03-09 21:30:00</td>\n",
       "      <td>CONFIRMED</td>\n",
       "      <td>Improcondriaques</td>\n",
       "      <td>c4243203-c595-4fbf-85fd-207d51ebeedd</td>\n",
       "      <td>NaN</td>\n",
       "      <td>NaN</td>\n",
       "      <td>NaN</td>\n",
       "      <td>NaN</td>\n",
       "      <td>NaN</td>\n",
       "      <td>NaN</td>\n",
       "      <td>NaN</td>\n",
       "      <td>01:00:00</td>\n",
       "      <td>NaN</td>\n",
       "      <td>NaN</td>\n",
       "    </tr>\n",
       "  </tbody>\n",
       "</table>\n",
       "</div>"
      ],
      "text/plain": [
       "                 DTEND                    DTSTAMP              DTSTART  \\\n",
       "0  2019-04-05 20:00:00  2019-03-16 17:07:58+00:00  2019-04-05 19:00:00   \n",
       "0  2018-12-02 18:00:00  2018-10-17 12:41:15+00:00  2018-12-02 16:00:00   \n",
       "0  2018-12-13 17:30:00  2018-12-10 02:55:24+00:00  2018-12-13 16:00:00   \n",
       "0  2018-11-15 20:30:00  2018-10-29 18:19:25+00:00  2018-11-15 19:30:00   \n",
       "0  2019-06-23 21:00:00  2019-03-03 11:49:38+00:00  2019-06-23 19:30:00   \n",
       "0  2019-05-18 22:30:00  2019-04-05 09:29:17+00:00  2019-05-18 21:30:00   \n",
       "0  2019-03-16 21:00:00  2018-11-09 10:51:22+00:00  2019-03-16 20:00:00   \n",
       "0  2019-02-05 23:30:00  2019-01-30 10:02:05+00:00  2019-02-05 21:30:00   \n",
       "0  2019-03-24 21:30:00  2018-09-17 02:31:27+00:00  2019-03-24 20:30:00   \n",
       "0  2019-03-09 22:30:00  2019-01-10 03:57:59+00:00  2019-03-09 21:30:00   \n",
       "\n",
       "      STATUS                                        SUMMARY  \\\n",
       "0  CONFIRMED                      Régie à faire homme/femme   \n",
       "0  CONFIRMED                           Cours arbitrage anne   \n",
       "0  CONFIRMED                                 Show sculpteur   \n",
       "0  CONFIRMED  Ligue d'improvisation de la réunion -Improrun   \n",
       "0  CONFIRMED                                Clown improvisé   \n",
       "0  CONFIRMED                            Poupak Armando diaz   \n",
       "0  CONFIRMED                                      The chimp   \n",
       "0  CONFIRMED                                     Les kikoos   \n",
       "0  CONFIRMED                                       Non sens   \n",
       "0  CONFIRMED                               Improcondriaques   \n",
       "\n",
       "                                    UID SEQUENCE CREATED LAST-MODIFIED CLASS  \\\n",
       "0  bce54aba-6566-48ab-a31d-8318feab67f6      NaN     NaN           NaN   NaN   \n",
       "0  bdb52aeb-3bae-4bfd-b2dd-47cdb4dc1cfd      NaN     NaN           NaN   NaN   \n",
       "0  bdf96d8c-dadc-47a6-ac64-05b3d0716502      NaN     NaN           NaN   NaN   \n",
       "0  be17ad5d-99ab-4a06-9160-3ccde3dca03b        2     NaN           NaN   NaN   \n",
       "0  bfb42f8b-06d8-4ccd-88eb-57beee4218b1      NaN     NaN           NaN   NaN   \n",
       "0  c05f84dd-b656-420d-b1e1-1db1eb1c1acd      NaN     NaN           NaN   NaN   \n",
       "0  c07a0d60-712e-4187-aae2-8d6341337b39      NaN     NaN           NaN   NaN   \n",
       "0  c14d9ddf-846d-4ed5-870b-eeafa22db6ab        2     NaN           NaN   NaN   \n",
       "0  c3859781-fe0f-44b0-836b-e4b2d14a7706      NaN     NaN           NaN   NaN   \n",
       "0  c4243203-c595-4fbf-85fd-207d51ebeedd      NaN     NaN           NaN   NaN   \n",
       "\n",
       "  TRANSP X-LIC-ERROR DESCRIPTION DURATION RRULE RECURRENCE-ID  \n",
       "0    NaN         NaN         NaN 01:00:00   NaN           NaN  \n",
       "0    NaN         NaN         NaN 02:00:00   NaN           NaN  \n",
       "0    NaN         NaN         NaN 01:30:00   NaN           NaN  \n",
       "0    NaN         NaN         NaN 01:00:00   NaN           NaN  \n",
       "0    NaN         NaN         NaN 01:30:00   NaN           NaN  \n",
       "0    NaN         NaN         NaN 01:00:00   NaN           NaN  \n",
       "0    NaN         NaN         NaN 01:00:00   NaN           NaN  \n",
       "0    NaN         NaN         NaN 02:00:00   NaN           NaN  \n",
       "0    NaN         NaN         NaN 01:00:00   NaN           NaN  \n",
       "0    NaN         NaN         NaN 01:00:00   NaN           NaN  "
      ]
     },
     "execution_count": 25,
     "metadata": {},
     "output_type": "execute_result"
    }
   ],
   "source": [
    "events[\"DURATION\"] = events[\"DTEND\"] - events[\"DTSTART\"]\n",
    "events.head(10)"
   ]
  },
  {
   "cell_type": "code",
   "execution_count": 26,
   "metadata": {},
   "outputs": [],
   "source": [
    "events[\"DATE\"] = events[\"DTSTART\"].apply(lambda x: x.date())"
   ]
  },
  {
   "cell_type": "code",
   "execution_count": 27,
   "metadata": {},
   "outputs": [],
   "source": [
    "import csv\n",
    "\n",
    "with open(\"./data/prog/type_spectacle.csv\", \"r\") as fd:\n",
    "    reader = csv.DictReader(fd)\n",
    "    type_spectacle = {\n",
    "        row[\"nom troupe\"]: row[\"type spectacle\"].lower() \n",
    "        for row in reader\n",
    "    }"
   ]
  },
  {
   "cell_type": "code",
   "execution_count": 28,
   "metadata": {},
   "outputs": [
    {
     "data": {
      "text/html": [
       "<div>\n",
       "<style scoped>\n",
       "    .dataframe tbody tr th:only-of-type {\n",
       "        vertical-align: middle;\n",
       "    }\n",
       "\n",
       "    .dataframe tbody tr th {\n",
       "        vertical-align: top;\n",
       "    }\n",
       "\n",
       "    .dataframe thead th {\n",
       "        text-align: right;\n",
       "    }\n",
       "</style>\n",
       "<table border=\"1\" class=\"dataframe\">\n",
       "  <thead>\n",
       "    <tr style=\"text-align: right;\">\n",
       "      <th></th>\n",
       "      <th>DTEND</th>\n",
       "      <th>DTSTAMP</th>\n",
       "      <th>DTSTART</th>\n",
       "      <th>STATUS</th>\n",
       "      <th>SUMMARY</th>\n",
       "      <th>UID</th>\n",
       "      <th>SEQUENCE</th>\n",
       "      <th>CREATED</th>\n",
       "      <th>LAST-MODIFIED</th>\n",
       "      <th>CLASS</th>\n",
       "      <th>TRANSP</th>\n",
       "      <th>X-LIC-ERROR</th>\n",
       "      <th>DESCRIPTION</th>\n",
       "      <th>DURATION</th>\n",
       "      <th>RRULE</th>\n",
       "      <th>RECURRENCE-ID</th>\n",
       "      <th>DATE</th>\n",
       "      <th>TYPE</th>\n",
       "    </tr>\n",
       "  </thead>\n",
       "  <tbody>\n",
       "    <tr>\n",
       "      <th>0</th>\n",
       "      <td>2019-04-05 20:00:00</td>\n",
       "      <td>2019-03-16 17:07:58+00:00</td>\n",
       "      <td>2019-04-05 19:00:00</td>\n",
       "      <td>CONFIRMED</td>\n",
       "      <td>Régie à faire homme/femme</td>\n",
       "      <td>bce54aba-6566-48ab-a31d-8318feab67f6</td>\n",
       "      <td>NaN</td>\n",
       "      <td>NaN</td>\n",
       "      <td>NaN</td>\n",
       "      <td>NaN</td>\n",
       "      <td>NaN</td>\n",
       "      <td>NaN</td>\n",
       "      <td>NaN</td>\n",
       "      <td>01:00:00</td>\n",
       "      <td>NaN</td>\n",
       "      <td>NaN</td>\n",
       "      <td>2019-04-05</td>\n",
       "      <td>long form</td>\n",
       "    </tr>\n",
       "    <tr>\n",
       "      <th>0</th>\n",
       "      <td>2018-12-02 18:00:00</td>\n",
       "      <td>2018-10-17 12:41:15+00:00</td>\n",
       "      <td>2018-12-02 16:00:00</td>\n",
       "      <td>CONFIRMED</td>\n",
       "      <td>Cours arbitrage anne</td>\n",
       "      <td>bdb52aeb-3bae-4bfd-b2dd-47cdb4dc1cfd</td>\n",
       "      <td>NaN</td>\n",
       "      <td>NaN</td>\n",
       "      <td>NaN</td>\n",
       "      <td>NaN</td>\n",
       "      <td>NaN</td>\n",
       "      <td>NaN</td>\n",
       "      <td>NaN</td>\n",
       "      <td>02:00:00</td>\n",
       "      <td>NaN</td>\n",
       "      <td>NaN</td>\n",
       "      <td>2018-12-02</td>\n",
       "      <td>cours</td>\n",
       "    </tr>\n",
       "    <tr>\n",
       "      <th>0</th>\n",
       "      <td>2018-12-13 17:30:00</td>\n",
       "      <td>2018-12-10 02:55:24+00:00</td>\n",
       "      <td>2018-12-13 16:00:00</td>\n",
       "      <td>CONFIRMED</td>\n",
       "      <td>Show sculpteur</td>\n",
       "      <td>bdf96d8c-dadc-47a6-ac64-05b3d0716502</td>\n",
       "      <td>NaN</td>\n",
       "      <td>NaN</td>\n",
       "      <td>NaN</td>\n",
       "      <td>NaN</td>\n",
       "      <td>NaN</td>\n",
       "      <td>NaN</td>\n",
       "      <td>NaN</td>\n",
       "      <td>01:30:00</td>\n",
       "      <td>NaN</td>\n",
       "      <td>NaN</td>\n",
       "      <td>2018-12-13</td>\n",
       "      <td>autre</td>\n",
       "    </tr>\n",
       "    <tr>\n",
       "      <th>0</th>\n",
       "      <td>2018-11-15 20:30:00</td>\n",
       "      <td>2018-10-29 18:19:25+00:00</td>\n",
       "      <td>2018-11-15 19:30:00</td>\n",
       "      <td>CONFIRMED</td>\n",
       "      <td>Ligue d'improvisation de la réunion -Improrun</td>\n",
       "      <td>be17ad5d-99ab-4a06-9160-3ccde3dca03b</td>\n",
       "      <td>2</td>\n",
       "      <td>NaN</td>\n",
       "      <td>NaN</td>\n",
       "      <td>NaN</td>\n",
       "      <td>NaN</td>\n",
       "      <td>NaN</td>\n",
       "      <td>NaN</td>\n",
       "      <td>01:00:00</td>\n",
       "      <td>NaN</td>\n",
       "      <td>NaN</td>\n",
       "      <td>2018-11-15</td>\n",
       "      <td>international</td>\n",
       "    </tr>\n",
       "    <tr>\n",
       "      <th>0</th>\n",
       "      <td>2019-06-23 21:00:00</td>\n",
       "      <td>2019-03-03 11:49:38+00:00</td>\n",
       "      <td>2019-06-23 19:30:00</td>\n",
       "      <td>CONFIRMED</td>\n",
       "      <td>Clown improvisé</td>\n",
       "      <td>bfb42f8b-06d8-4ccd-88eb-57beee4218b1</td>\n",
       "      <td>NaN</td>\n",
       "      <td>NaN</td>\n",
       "      <td>NaN</td>\n",
       "      <td>NaN</td>\n",
       "      <td>NaN</td>\n",
       "      <td>NaN</td>\n",
       "      <td>NaN</td>\n",
       "      <td>01:30:00</td>\n",
       "      <td>NaN</td>\n",
       "      <td>NaN</td>\n",
       "      <td>2019-06-23</td>\n",
       "      <td>clown</td>\n",
       "    </tr>\n",
       "  </tbody>\n",
       "</table>\n",
       "</div>"
      ],
      "text/plain": [
       "                 DTEND                    DTSTAMP              DTSTART  \\\n",
       "0  2019-04-05 20:00:00  2019-03-16 17:07:58+00:00  2019-04-05 19:00:00   \n",
       "0  2018-12-02 18:00:00  2018-10-17 12:41:15+00:00  2018-12-02 16:00:00   \n",
       "0  2018-12-13 17:30:00  2018-12-10 02:55:24+00:00  2018-12-13 16:00:00   \n",
       "0  2018-11-15 20:30:00  2018-10-29 18:19:25+00:00  2018-11-15 19:30:00   \n",
       "0  2019-06-23 21:00:00  2019-03-03 11:49:38+00:00  2019-06-23 19:30:00   \n",
       "\n",
       "      STATUS                                        SUMMARY  \\\n",
       "0  CONFIRMED                      Régie à faire homme/femme   \n",
       "0  CONFIRMED                           Cours arbitrage anne   \n",
       "0  CONFIRMED                                 Show sculpteur   \n",
       "0  CONFIRMED  Ligue d'improvisation de la réunion -Improrun   \n",
       "0  CONFIRMED                                Clown improvisé   \n",
       "\n",
       "                                    UID SEQUENCE CREATED LAST-MODIFIED CLASS  \\\n",
       "0  bce54aba-6566-48ab-a31d-8318feab67f6      NaN     NaN           NaN   NaN   \n",
       "0  bdb52aeb-3bae-4bfd-b2dd-47cdb4dc1cfd      NaN     NaN           NaN   NaN   \n",
       "0  bdf96d8c-dadc-47a6-ac64-05b3d0716502      NaN     NaN           NaN   NaN   \n",
       "0  be17ad5d-99ab-4a06-9160-3ccde3dca03b        2     NaN           NaN   NaN   \n",
       "0  bfb42f8b-06d8-4ccd-88eb-57beee4218b1      NaN     NaN           NaN   NaN   \n",
       "\n",
       "  TRANSP X-LIC-ERROR DESCRIPTION DURATION RRULE RECURRENCE-ID        DATE  \\\n",
       "0    NaN         NaN         NaN 01:00:00   NaN           NaN  2019-04-05   \n",
       "0    NaN         NaN         NaN 02:00:00   NaN           NaN  2018-12-02   \n",
       "0    NaN         NaN         NaN 01:30:00   NaN           NaN  2018-12-13   \n",
       "0    NaN         NaN         NaN 01:00:00   NaN           NaN  2018-11-15   \n",
       "0    NaN         NaN         NaN 01:30:00   NaN           NaN  2019-06-23   \n",
       "\n",
       "            TYPE  \n",
       "0      long form  \n",
       "0          cours  \n",
       "0          autre  \n",
       "0  international  \n",
       "0          clown  "
      ]
     },
     "execution_count": 28,
     "metadata": {},
     "output_type": "execute_result"
    }
   ],
   "source": [
    "events[\"TYPE\"] = events[\"SUMMARY\"].apply(lambda x: type_spectacle[x])\n",
    "events.head()"
   ]
  },
  {
   "cell_type": "code",
   "execution_count": 29,
   "metadata": {},
   "outputs": [
    {
     "data": {
      "text/plain": [
       "array(['long form', 'cours', 'autre', 'international', 'clown',\n",
       "       \"tête d'affiche\", 'chanson improvisée', 'cabaret', 'match', 'ko',\n",
       "       'impro a l’américaine', 'scène ouverte', 'flamenco', 'concert',\n",
       "       'catch'], dtype=object)"
      ]
     },
     "execution_count": 29,
     "metadata": {},
     "output_type": "execute_result"
    }
   ],
   "source": [
    "events[\"TYPE\"].unique()"
   ]
  },
  {
   "cell_type": "markdown",
   "metadata": {},
   "source": [
    "## Data exploration"
   ]
  },
  {
   "cell_type": "markdown",
   "metadata": {},
   "source": [
    "Describe and restrict features"
   ]
  },
  {
   "cell_type": "code",
   "execution_count": 30,
   "metadata": {},
   "outputs": [],
   "source": [
    "from pandas.plotting import scatter_matrix"
   ]
  },
  {
   "cell_type": "code",
   "execution_count": 31,
   "metadata": {},
   "outputs": [],
   "source": [
    "# data description\n",
    "columns_descr = {\n",
    "    \"Chiffre d'Affaires HT\": \"(float) Income (taxes excluded)\", \n",
    "    \"Chiffre d'Affaires TTC\": \"(float) Income (taxes included)\",\n",
    "    \"Nombre moyen de produits / Ticket\": \"(float) Mean good numbers per transaction\",\n",
    "    \"Ticket moyen TTC\": \"(float) Mean transaction value\", \n",
    "    \"date\": \"(date) date of the day\",\n",
    "    \"dow\": \"(int) day of week, 0..7\",\n",
    "    \"day\": \"(int) day in month\",\n",
    "    \"month\": \"(int) month number\",\n",
    "    \"week number\": \"(int) iso week number (0..53)\",\n",
    "    \"month week number\": \"(int) month week number (0..5)\",\n",
    "    \"year\": \" (int) year\",\n",
    "    \"public holidays\": \"(bool) Public holiday in France\",\n",
    "}"
   ]
  },
  {
   "cell_type": "code",
   "execution_count": 32,
   "metadata": {},
   "outputs": [
    {
     "data": {
      "text/html": [
       "<div>\n",
       "<style scoped>\n",
       "    .dataframe tbody tr th:only-of-type {\n",
       "        vertical-align: middle;\n",
       "    }\n",
       "\n",
       "    .dataframe tbody tr th {\n",
       "        vertical-align: top;\n",
       "    }\n",
       "\n",
       "    .dataframe thead th {\n",
       "        text-align: right;\n",
       "    }\n",
       "</style>\n",
       "<table border=\"1\" class=\"dataframe\">\n",
       "  <thead>\n",
       "    <tr style=\"text-align: right;\">\n",
       "      <th></th>\n",
       "      <th>Chiffre d'Affaires HT</th>\n",
       "      <th>Chiffre d'Affaires TTC</th>\n",
       "      <th>Nombre moyen de produits / Ticket</th>\n",
       "      <th>Ticket moyen TTC</th>\n",
       "      <th>date</th>\n",
       "      <th>dow</th>\n",
       "      <th>day</th>\n",
       "      <th>month</th>\n",
       "      <th>week number</th>\n",
       "      <th>month week number</th>\n",
       "      <th>year</th>\n",
       "      <th>public holidays</th>\n",
       "    </tr>\n",
       "    <tr>\n",
       "      <th>date</th>\n",
       "      <th></th>\n",
       "      <th></th>\n",
       "      <th></th>\n",
       "      <th></th>\n",
       "      <th></th>\n",
       "      <th></th>\n",
       "      <th></th>\n",
       "      <th></th>\n",
       "      <th></th>\n",
       "      <th></th>\n",
       "      <th></th>\n",
       "      <th></th>\n",
       "    </tr>\n",
       "  </thead>\n",
       "  <tbody>\n",
       "    <tr>\n",
       "      <th>2018-08-29</th>\n",
       "      <td>88.99</td>\n",
       "      <td>105.6</td>\n",
       "      <td>1.3</td>\n",
       "      <td>7.04</td>\n",
       "      <td>2018-08-29</td>\n",
       "      <td>2</td>\n",
       "      <td>29</td>\n",
       "      <td>8</td>\n",
       "      <td>35</td>\n",
       "      <td>4</td>\n",
       "      <td>2018</td>\n",
       "      <td>0</td>\n",
       "    </tr>\n",
       "    <tr>\n",
       "      <th>2018-08-30</th>\n",
       "      <td>115.37</td>\n",
       "      <td>134.1</td>\n",
       "      <td>2.7</td>\n",
       "      <td>19.16</td>\n",
       "      <td>2018-08-30</td>\n",
       "      <td>3</td>\n",
       "      <td>30</td>\n",
       "      <td>8</td>\n",
       "      <td>35</td>\n",
       "      <td>4</td>\n",
       "      <td>2018</td>\n",
       "      <td>0</td>\n",
       "    </tr>\n",
       "    <tr>\n",
       "      <th>2018-08-31</th>\n",
       "      <td>91.39</td>\n",
       "      <td>108.3</td>\n",
       "      <td>2.1</td>\n",
       "      <td>10.83</td>\n",
       "      <td>2018-08-31</td>\n",
       "      <td>4</td>\n",
       "      <td>31</td>\n",
       "      <td>8</td>\n",
       "      <td>35</td>\n",
       "      <td>4</td>\n",
       "      <td>2018</td>\n",
       "      <td>0</td>\n",
       "    </tr>\n",
       "    <tr>\n",
       "      <th>2018-09-01</th>\n",
       "      <td>196.80</td>\n",
       "      <td>231.7</td>\n",
       "      <td>2.2</td>\n",
       "      <td>14.48</td>\n",
       "      <td>2018-09-01</td>\n",
       "      <td>5</td>\n",
       "      <td>1</td>\n",
       "      <td>9</td>\n",
       "      <td>35</td>\n",
       "      <td>0</td>\n",
       "      <td>2018</td>\n",
       "      <td>0</td>\n",
       "    </tr>\n",
       "    <tr>\n",
       "      <th>2018-09-05</th>\n",
       "      <td>56.00</td>\n",
       "      <td>67.2</td>\n",
       "      <td>10.0</td>\n",
       "      <td>67.20</td>\n",
       "      <td>2018-09-05</td>\n",
       "      <td>2</td>\n",
       "      <td>5</td>\n",
       "      <td>9</td>\n",
       "      <td>36</td>\n",
       "      <td>1</td>\n",
       "      <td>2018</td>\n",
       "      <td>0</td>\n",
       "    </tr>\n",
       "  </tbody>\n",
       "</table>\n",
       "</div>"
      ],
      "text/plain": [
       "            Chiffre d'Affaires HT  Chiffre d'Affaires TTC  \\\n",
       "date                                                        \n",
       "2018-08-29                  88.99                   105.6   \n",
       "2018-08-30                 115.37                   134.1   \n",
       "2018-08-31                  91.39                   108.3   \n",
       "2018-09-01                 196.80                   231.7   \n",
       "2018-09-05                  56.00                    67.2   \n",
       "\n",
       "            Nombre moyen de produits / Ticket  Ticket moyen TTC       date  \\\n",
       "date                                                                         \n",
       "2018-08-29                                1.3              7.04 2018-08-29   \n",
       "2018-08-30                                2.7             19.16 2018-08-30   \n",
       "2018-08-31                                2.1             10.83 2018-08-31   \n",
       "2018-09-01                                2.2             14.48 2018-09-01   \n",
       "2018-09-05                               10.0             67.20 2018-09-05   \n",
       "\n",
       "            dow  day  month  week number  month week number  year  \\\n",
       "date                                                                \n",
       "2018-08-29    2   29      8           35                  4  2018   \n",
       "2018-08-30    3   30      8           35                  4  2018   \n",
       "2018-08-31    4   31      8           35                  4  2018   \n",
       "2018-09-01    5    1      9           35                  0  2018   \n",
       "2018-09-05    2    5      9           36                  1  2018   \n",
       "\n",
       "            public holidays  \n",
       "date                         \n",
       "2018-08-29                0  \n",
       "2018-08-30                0  \n",
       "2018-08-31                0  \n",
       "2018-09-01                0  \n",
       "2018-09-05                0  "
      ]
     },
     "execution_count": 32,
     "metadata": {},
     "output_type": "execute_result"
    }
   ],
   "source": [
    "cols = columns_descr.keys()\n",
    "daily = daily.loc[:, columns_descr.keys()]\n",
    "daily[\"public holidays\"] = daily[\"public holidays\"].apply(lambda x: 1 if x is True else 0)\n",
    "daily.head()"
   ]
  },
  {
   "cell_type": "code",
   "execution_count": 33,
   "metadata": {},
   "outputs": [
    {
     "data": {
      "text/plain": [
       "<matplotlib.image.AxesImage at 0x7fb64a3d7dd8>"
      ]
     },
     "execution_count": 33,
     "metadata": {},
     "output_type": "execute_result"
    },
    {
     "data": {
      "image/png": "[encoded data removed]",
      "text/plain": [
       "<Figure size 288x288 with 1 Axes>"
      ]
     },
     "metadata": {
      "needs_background": "light"
     },
     "output_type": "display_data"
    }
   ],
   "source": [
    "plt.matshow(daily.corr())"
   ]
  },
  {
   "cell_type": "markdown",
   "metadata": {},
   "source": [
    "There are highly correlate features, some may be discarded. Moreover, some features are redondant."
   ]
  },
  {
   "cell_type": "code",
   "execution_count": 34,
   "metadata": {},
   "outputs": [],
   "source": [
    "del columns_descr[\"Chiffre d'Affaires HT\"]"
   ]
  },
  {
   "cell_type": "code",
   "execution_count": 35,
   "metadata": {},
   "outputs": [
    {
     "data": {
      "text/plain": [
       "[\"Chiffre d'Affaires TTC\",\n",
       " 'Nombre moyen de produits / Ticket',\n",
       " 'Ticket moyen TTC',\n",
       " 'date',\n",
       " 'dow',\n",
       " 'day',\n",
       " 'month',\n",
       " 'week number',\n",
       " 'month week number',\n",
       " 'year',\n",
       " 'public holidays']"
      ]
     },
     "execution_count": 35,
     "metadata": {},
     "output_type": "execute_result"
    }
   ],
   "source": [
    "# extract numeric features\n",
    "num_cols = [\n",
    "    col \n",
    "    for col in columns_descr.keys()\n",
    "    if np.isreal(daily.loc[start_date, col])\n",
    "]\n",
    "num_cols\n",
    "#scatter_matrix(daily)"
   ]
  },
  {
   "cell_type": "code",
   "execution_count": 36,
   "metadata": {},
   "outputs": [
    {
     "data": {
      "text/plain": [
       "array([[<matplotlib.axes._subplots.AxesSubplot object at 0x7fb64a40fe80>,\n",
       "        <matplotlib.axes._subplots.AxesSubplot object at 0x7fb648032dd8>,\n",
       "        <matplotlib.axes._subplots.AxesSubplot object at 0x7fb647fde390>,\n",
       "        <matplotlib.axes._subplots.AxesSubplot object at 0x7fb647f80908>,\n",
       "        <matplotlib.axes._subplots.AxesSubplot object at 0x7fb647fa9e80>,\n",
       "        <matplotlib.axes._subplots.AxesSubplot object at 0x7fb647f59438>,\n",
       "        <matplotlib.axes._subplots.AxesSubplot object at 0x7fb647eff9b0>,\n",
       "        <matplotlib.axes._subplots.AxesSubplot object at 0x7fb647f29f60>,\n",
       "        <matplotlib.axes._subplots.AxesSubplot object at 0x7fb647f29f98>,\n",
       "        <matplotlib.axes._subplots.AxesSubplot object at 0x7fb647e80a58>],\n",
       "       [<matplotlib.axes._subplots.AxesSubplot object at 0x7fb647ea8fd0>,\n",
       "        <matplotlib.axes._subplots.AxesSubplot object at 0x7fb647e58588>,\n",
       "        <matplotlib.axes._subplots.AxesSubplot object at 0x7fb647dfdb00>,\n",
       "        <matplotlib.axes._subplots.AxesSubplot object at 0x7fb647e300b8>,\n",
       "        <matplotlib.axes._subplots.AxesSubplot object at 0x7fb647dd7630>,\n",
       "        <matplotlib.axes._subplots.AxesSubplot object at 0x7fb647d7fba8>,\n",
       "        <matplotlib.axes._subplots.AxesSubplot object at 0x7fb647daf160>,\n",
       "        <matplotlib.axes._subplots.AxesSubplot object at 0x7fb647d556d8>,\n",
       "        <matplotlib.axes._subplots.AxesSubplot object at 0x7fb647cfdc50>,\n",
       "        <matplotlib.axes._subplots.AxesSubplot object at 0x7fb647d2f208>],\n",
       "       [<matplotlib.axes._subplots.AxesSubplot object at 0x7fb647cd6780>,\n",
       "        <matplotlib.axes._subplots.AxesSubplot object at 0x7fb647c7ccf8>,\n",
       "        <matplotlib.axes._subplots.AxesSubplot object at 0x7fb647cae2b0>,\n",
       "        <matplotlib.axes._subplots.AxesSubplot object at 0x7fb647c54828>,\n",
       "        <matplotlib.axes._subplots.AxesSubplot object at 0x7fb647bfbda0>,\n",
       "        <matplotlib.axes._subplots.AxesSubplot object at 0x7fb647c2b358>,\n",
       "        <matplotlib.axes._subplots.AxesSubplot object at 0x7fb647bd28d0>,\n",
       "        <matplotlib.axes._subplots.AxesSubplot object at 0x7fb647b7ae48>,\n",
       "        <matplotlib.axes._subplots.AxesSubplot object at 0x7fb647bab400>,\n",
       "        <matplotlib.axes._subplots.AxesSubplot object at 0x7fb647b50908>],\n",
       "       [<matplotlib.axes._subplots.AxesSubplot object at 0x7fb647af8e80>,\n",
       "        <matplotlib.axes._subplots.AxesSubplot object at 0x7fb647b22438>,\n",
       "        <matplotlib.axes._subplots.AxesSubplot object at 0x7fb647ac79b0>,\n",
       "        <matplotlib.axes._subplots.AxesSubplot object at 0x7fb647aeef28>,\n",
       "        <matplotlib.axes._subplots.AxesSubplot object at 0x7fb647a9f4e0>,\n",
       "        <matplotlib.axes._subplots.AxesSubplot object at 0x7fb647a46a58>,\n",
       "        <matplotlib.axes._subplots.AxesSubplot object at 0x7fb647a6ffd0>,\n",
       "        <matplotlib.axes._subplots.AxesSubplot object at 0x7fb647a1f588>,\n",
       "        <matplotlib.axes._subplots.AxesSubplot object at 0x7fb6479c8b00>,\n",
       "        <matplotlib.axes._subplots.AxesSubplot object at 0x7fb6479780b8>],\n",
       "       [<matplotlib.axes._subplots.AxesSubplot object at 0x7fb6479a1630>,\n",
       "        <matplotlib.axes._subplots.AxesSubplot object at 0x7fb647949ba8>,\n",
       "        <matplotlib.axes._subplots.AxesSubplot object at 0x7fb6478f8160>,\n",
       "        <matplotlib.axes._subplots.AxesSubplot object at 0x7fb6479206d8>,\n",
       "        <matplotlib.axes._subplots.AxesSubplot object at 0x7fb6478c8c50>,\n",
       "        <matplotlib.axes._subplots.AxesSubplot object at 0x7fb64787a208>,\n",
       "        <matplotlib.axes._subplots.AxesSubplot object at 0x7fb6478a2780>,\n",
       "        <matplotlib.axes._subplots.AxesSubplot object at 0x7fb647848cf8>,\n",
       "        <matplotlib.axes._subplots.AxesSubplot object at 0x7fb6477fc2b0>,\n",
       "        <matplotlib.axes._subplots.AxesSubplot object at 0x7fb647822828>],\n",
       "       [<matplotlib.axes._subplots.AxesSubplot object at 0x7fb6477ccda0>,\n",
       "        <matplotlib.axes._subplots.AxesSubplot object at 0x7fb64777d358>,\n",
       "        <matplotlib.axes._subplots.AxesSubplot object at 0x7fb6477a58d0>,\n",
       "        <matplotlib.axes._subplots.AxesSubplot object at 0x7fb64774ce48>,\n",
       "        <matplotlib.axes._subplots.AxesSubplot object at 0x7fb6476ff400>,\n",
       "        <matplotlib.axes._subplots.AxesSubplot object at 0x7fb647723978>,\n",
       "        <matplotlib.axes._subplots.AxesSubplot object at 0x7fb6476ceef0>,\n",
       "        <matplotlib.axes._subplots.AxesSubplot object at 0x7fb64767e4a8>,\n",
       "        <matplotlib.axes._subplots.AxesSubplot object at 0x7fb6476a5a20>,\n",
       "        <matplotlib.axes._subplots.AxesSubplot object at 0x7fb64764ef98>],\n",
       "       [<matplotlib.axes._subplots.AxesSubplot object at 0x7fb647600550>,\n",
       "        <matplotlib.axes._subplots.AxesSubplot object at 0x7fb647627ac8>,\n",
       "        <matplotlib.axes._subplots.AxesSubplot object at 0x7fb6475d8080>,\n",
       "        <matplotlib.axes._subplots.AxesSubplot object at 0x7fb6475825f8>,\n",
       "        <matplotlib.axes._subplots.AxesSubplot object at 0x7fb6475a8b70>,\n",
       "        <matplotlib.axes._subplots.AxesSubplot object at 0x7fb647559128>,\n",
       "        <matplotlib.axes._subplots.AxesSubplot object at 0x7fb6475016a0>,\n",
       "        <matplotlib.axes._subplots.AxesSubplot object at 0x7fb64752bc18>,\n",
       "        <matplotlib.axes._subplots.AxesSubplot object at 0x7fb6474da1d0>,\n",
       "        <matplotlib.axes._subplots.AxesSubplot object at 0x7fb647482748>],\n",
       "       [<matplotlib.axes._subplots.AxesSubplot object at 0x7fb6474abcc0>,\n",
       "        <matplotlib.axes._subplots.AxesSubplot object at 0x7fb64745a278>,\n",
       "        <matplotlib.axes._subplots.AxesSubplot object at 0x7fb6474027f0>,\n",
       "        <matplotlib.axes._subplots.AxesSubplot object at 0x7fb64742dd68>,\n",
       "        <matplotlib.axes._subplots.AxesSubplot object at 0x7fb6473dd320>,\n",
       "        <matplotlib.axes._subplots.AxesSubplot object at 0x7fb647383898>,\n",
       "        <matplotlib.axes._subplots.AxesSubplot object at 0x7fb6473ade10>,\n",
       "        <matplotlib.axes._subplots.AxesSubplot object at 0x7fb64735d3c8>,\n",
       "        <matplotlib.axes._subplots.AxesSubplot object at 0x7fb647303940>,\n",
       "        <matplotlib.axes._subplots.AxesSubplot object at 0x7fb64732deb8>],\n",
       "       [<matplotlib.axes._subplots.AxesSubplot object at 0x7fb6472dd470>,\n",
       "        <matplotlib.axes._subplots.AxesSubplot object at 0x7fb6472869e8>,\n",
       "        <matplotlib.axes._subplots.AxesSubplot object at 0x7fb6472aff60>,\n",
       "        <matplotlib.axes._subplots.AxesSubplot object at 0x7fb647261518>,\n",
       "        <matplotlib.axes._subplots.AxesSubplot object at 0x7fb647205a90>,\n",
       "        <matplotlib.axes._subplots.AxesSubplot object at 0x7fb6471b9048>,\n",
       "        <matplotlib.axes._subplots.AxesSubplot object at 0x7fb6471de5c0>,\n",
       "        <matplotlib.axes._subplots.AxesSubplot object at 0x7fb647187b38>,\n",
       "        <matplotlib.axes._subplots.AxesSubplot object at 0x7fb6471380f0>,\n",
       "        <matplotlib.axes._subplots.AxesSubplot object at 0x7fb647162668>],\n",
       "       [<matplotlib.axes._subplots.AxesSubplot object at 0x7fb647109be0>,\n",
       "        <matplotlib.axes._subplots.AxesSubplot object at 0x7fb6470bb198>,\n",
       "        <matplotlib.axes._subplots.AxesSubplot object at 0x7fb6470e0710>,\n",
       "        <matplotlib.axes._subplots.AxesSubplot object at 0x7fb64708ac88>,\n",
       "        <matplotlib.axes._subplots.AxesSubplot object at 0x7fb64703a240>,\n",
       "        <matplotlib.axes._subplots.AxesSubplot object at 0x7fb6470637b8>,\n",
       "        <matplotlib.axes._subplots.AxesSubplot object at 0x7fb64700cd30>,\n",
       "        <matplotlib.axes._subplots.AxesSubplot object at 0x7fb646fbb2e8>,\n",
       "        <matplotlib.axes._subplots.AxesSubplot object at 0x7fb646fe2860>,\n",
       "        <matplotlib.axes._subplots.AxesSubplot object at 0x7fb646f8edd8>]],\n",
       "      dtype=object)"
      ]
     },
     "execution_count": 36,
     "metadata": {},
     "output_type": "execute_result"
    },
    {
     "data": {
      "image/png": "[encoded data removed]",
      "text/plain": [
       "<Figure size 1080x1080 with 100 Axes>"
      ]
     },
     "metadata": {
      "needs_background": "light"
     },
     "output_type": "display_data"
    }
   ],
   "source": [
    "scatter_matrix(daily.loc[:, num_cols], figsize=(15, 15))"
   ]
  },
  {
   "cell_type": "markdown",
   "metadata": {},
   "source": [
    " * The Income seems to vary each month\n",
    " * There are outliers in income\n",
    " * Mean product per transaction and mean transaction number is highly correlated (as expected) except for some days (must be treated separately)\n",
    " "
   ]
  },
  {
   "cell_type": "code",
   "execution_count": 37,
   "metadata": {},
   "outputs": [
    {
     "data": {
      "text/plain": [
       "<seaborn.axisgrid.JointGrid at 0x7fb6463c9ba8>"
      ]
     },
     "execution_count": 37,
     "metadata": {},
     "output_type": "execute_result"
    },
    {
     "data": {
      "image/png": "[encoded data removed]",
      "text/plain": [
       "<Figure size 432x432 with 3 Axes>"
      ]
     },
     "metadata": {
      "needs_background": "light"
     },
     "output_type": "display_data"
    }
   ],
   "source": [
    "sns.jointplot(\n",
    "    data=daily,\n",
    "    x=\"Ticket moyen TTC\",\n",
    "    y=\"Nombre moyen de produits / Ticket\", \n",
    ")"
   ]
  },
  {
   "cell_type": "markdown",
   "metadata": {},
   "source": [
    "* 3 days with higher mean transaction\n",
    "* 1 day with the mean product price is higher than usual"
   ]
  },
  {
   "cell_type": "markdown",
   "metadata": {},
   "source": [
    "### Transaction outliers"
   ]
  },
  {
   "cell_type": "markdown",
   "metadata": {},
   "source": [
    "The goal of this section is to know if this outliers should be discarded."
   ]
  },
  {
   "cell_type": "code",
   "execution_count": 38,
   "metadata": {},
   "outputs": [
    {
     "data": {
      "text/html": [
       "<div>\n",
       "<style scoped>\n",
       "    .dataframe tbody tr th:only-of-type {\n",
       "        vertical-align: middle;\n",
       "    }\n",
       "\n",
       "    .dataframe tbody tr th {\n",
       "        vertical-align: top;\n",
       "    }\n",
       "\n",
       "    .dataframe thead th {\n",
       "        text-align: right;\n",
       "    }\n",
       "</style>\n",
       "<table border=\"1\" class=\"dataframe\">\n",
       "  <thead>\n",
       "    <tr style=\"text-align: right;\">\n",
       "      <th></th>\n",
       "      <th>Chiffre d'Affaires HT</th>\n",
       "      <th>Chiffre d'Affaires TTC</th>\n",
       "      <th>Nombre moyen de produits / Ticket</th>\n",
       "      <th>Ticket moyen TTC</th>\n",
       "      <th>date</th>\n",
       "      <th>dow</th>\n",
       "      <th>day</th>\n",
       "      <th>month</th>\n",
       "      <th>week number</th>\n",
       "      <th>month week number</th>\n",
       "      <th>year</th>\n",
       "      <th>public holidays</th>\n",
       "    </tr>\n",
       "    <tr>\n",
       "      <th>date</th>\n",
       "      <th></th>\n",
       "      <th></th>\n",
       "      <th></th>\n",
       "      <th></th>\n",
       "      <th></th>\n",
       "      <th></th>\n",
       "      <th></th>\n",
       "      <th></th>\n",
       "      <th></th>\n",
       "      <th></th>\n",
       "      <th></th>\n",
       "      <th></th>\n",
       "    </tr>\n",
       "  </thead>\n",
       "  <tbody>\n",
       "    <tr>\n",
       "      <th>2018-09-05</th>\n",
       "      <td>56.00</td>\n",
       "      <td>67.2</td>\n",
       "      <td>10.0</td>\n",
       "      <td>67.2</td>\n",
       "      <td>2018-09-05</td>\n",
       "      <td>2</td>\n",
       "      <td>5</td>\n",
       "      <td>9</td>\n",
       "      <td>36</td>\n",
       "      <td>1</td>\n",
       "      <td>2018</td>\n",
       "      <td>0</td>\n",
       "    </tr>\n",
       "    <tr>\n",
       "      <th>2018-12-02</th>\n",
       "      <td>79.47</td>\n",
       "      <td>93.0</td>\n",
       "      <td>4.0</td>\n",
       "      <td>93.0</td>\n",
       "      <td>2018-12-02</td>\n",
       "      <td>6</td>\n",
       "      <td>2</td>\n",
       "      <td>12</td>\n",
       "      <td>48</td>\n",
       "      <td>0</td>\n",
       "      <td>2018</td>\n",
       "      <td>0</td>\n",
       "    </tr>\n",
       "    <tr>\n",
       "      <th>2019-01-05</th>\n",
       "      <td>361.99</td>\n",
       "      <td>433.8</td>\n",
       "      <td>58.0</td>\n",
       "      <td>433.8</td>\n",
       "      <td>2019-01-05</td>\n",
       "      <td>5</td>\n",
       "      <td>5</td>\n",
       "      <td>1</td>\n",
       "      <td>1</td>\n",
       "      <td>0</td>\n",
       "      <td>2019</td>\n",
       "      <td>0</td>\n",
       "    </tr>\n",
       "  </tbody>\n",
       "</table>\n",
       "</div>"
      ],
      "text/plain": [
       "            Chiffre d'Affaires HT  Chiffre d'Affaires TTC  \\\n",
       "date                                                        \n",
       "2018-09-05                  56.00                    67.2   \n",
       "2018-12-02                  79.47                    93.0   \n",
       "2019-01-05                 361.99                   433.8   \n",
       "\n",
       "            Nombre moyen de produits / Ticket  Ticket moyen TTC       date  \\\n",
       "date                                                                         \n",
       "2018-09-05                               10.0              67.2 2018-09-05   \n",
       "2018-12-02                                4.0              93.0 2018-12-02   \n",
       "2019-01-05                               58.0             433.8 2019-01-05   \n",
       "\n",
       "            dow  day  month  week number  month week number  year  \\\n",
       "date                                                                \n",
       "2018-09-05    2    5      9           36                  1  2018   \n",
       "2018-12-02    6    2     12           48                  0  2018   \n",
       "2019-01-05    5    5      1            1                  0  2019   \n",
       "\n",
       "            public holidays  \n",
       "date                         \n",
       "2018-09-05                0  \n",
       "2018-12-02                0  \n",
       "2019-01-05                0  "
      ]
     },
     "execution_count": 38,
     "metadata": {},
     "output_type": "execute_result"
    }
   ],
   "source": [
    "daily.loc[daily[\"Ticket moyen TTC\"] > 60]"
   ]
  },
  {
   "cell_type": "markdown",
   "metadata": {},
   "source": [
    "One of this 3 outlier correspond to a privatisation. This individual will be discarded."
   ]
  },
  {
   "cell_type": "code",
   "execution_count": 39,
   "metadata": {},
   "outputs": [],
   "source": [
    "daily = daily.loc[daily[\"Ticket moyen TTC\"] < 60]\n",
    "# daily.head()"
   ]
  },
  {
   "cell_type": "markdown",
   "metadata": {},
   "source": [
    "The opening day should alsobe discarded"
   ]
  },
  {
   "cell_type": "code",
   "execution_count": 40,
   "metadata": {},
   "outputs": [
    {
     "data": {
      "text/plain": [
       "Chiffre d'Affaires HT                            1983.69\n",
       "Chiffre d'Affaires TTC                              2339\n",
       "Nombre moyen de produits / Ticket                    1.5\n",
       "Ticket moyen TTC                                    8.57\n",
       "date                                 2018-09-08 00:00:00\n",
       "dow                                                    5\n",
       "day                                                    8\n",
       "month                                                  9\n",
       "week number                                           36\n",
       "month week number                                      1\n",
       "year                                                2018\n",
       "public holidays                                        0\n",
       "Name: 2018-09-08 00:00:00, dtype: object"
      ]
     },
     "execution_count": 40,
     "metadata": {},
     "output_type": "execute_result"
    }
   ],
   "source": [
    "daily.loc[\"2018-09-08\"]"
   ]
  },
  {
   "cell_type": "code",
   "execution_count": 41,
   "metadata": {},
   "outputs": [],
   "source": [
    "daily = daily[daily[\"date\"] != \"2018-09-08\"]"
   ]
  },
  {
   "cell_type": "markdown",
   "metadata": {},
   "source": [
    "###  Per  month income"
   ]
  },
  {
   "cell_type": "code",
   "execution_count": 42,
   "metadata": {},
   "outputs": [
    {
     "data": {
      "image/png": "[encoded data removed]",
      "text/plain": [
       "<Figure size 432x288 with 1 Axes>"
      ]
     },
     "metadata": {
      "needs_background": "light"
     },
     "output_type": "display_data"
    },
    {
     "data": {
      "image/png": "[encoded data removed]",
      "text/plain": [
       "<Figure size 432x288 with 1 Axes>"
      ]
     },
     "metadata": {
      "needs_background": "light"
     },
     "output_type": "display_data"
    },
    {
     "data": {
      "image/png": "[encoded data removed]",
      "text/plain": [
       "<Figure size 432x288 with 1 Axes>"
      ]
     },
     "metadata": {
      "needs_background": "light"
     },
     "output_type": "display_data"
    },
    {
     "data": {
      "image/png": "[encoded data removed]",
      "text/plain": [
       "<Figure size 432x288 with 1 Axes>"
      ]
     },
     "metadata": {
      "needs_background": "light"
     },
     "output_type": "display_data"
    },
    {
     "data": {
      "image/png": "[encoded data removed]",
      "text/plain": [
       "<Figure size 432x288 with 1 Axes>"
      ]
     },
     "metadata": {
      "needs_background": "light"
     },
     "output_type": "display_data"
    },
    {
     "data": {
      "image/png": "[encoded data removed]",
      "text/plain": [
       "<Figure size 432x288 with 1 Axes>"
      ]
     },
     "metadata": {
      "needs_background": "light"
     },
     "output_type": "display_data"
    }
   ],
   "source": [
    "xlim = (0, max(daily[\"Chiffre d'Affaires TTC\"]))\n",
    "for year, month in product(range(2018, 2020), range(1, 13)):\n",
    "    cur_data = daily.loc[(daily[\"month\"] == month) & (daily[\"year\"] == year)]\n",
    "    if len(cur_data) == 0:\n",
    "        continue\n",
    "    plt.figure()\n",
    "    #cur_data[\"Chiffre d'Affaires TTC\"].plot(kind=\"box\",) \n",
    "    cur_data[\"Chiffre d'Affaires TTC\"].plot(\n",
    "        kind=\"hist\", \n",
    "        xlim=xlim, \n",
    "        title=\"Income for {}/{}\".format(month, year),\n",
    "        bins=20       \n",
    "    )"
   ]
  },
  {
   "cell_type": "markdown",
   "metadata": {},
   "source": [
    "For almost all month, there is one and only one day with high income"
   ]
  },
  {
   "cell_type": "code",
   "execution_count": 43,
   "metadata": {},
   "outputs": [
    {
     "data": {
      "text/html": [
       "<div>\n",
       "<style scoped>\n",
       "    .dataframe tbody tr th:only-of-type {\n",
       "        vertical-align: middle;\n",
       "    }\n",
       "\n",
       "    .dataframe tbody tr th {\n",
       "        vertical-align: top;\n",
       "    }\n",
       "\n",
       "    .dataframe thead th {\n",
       "        text-align: right;\n",
       "    }\n",
       "</style>\n",
       "<table border=\"1\" class=\"dataframe\">\n",
       "  <thead>\n",
       "    <tr style=\"text-align: right;\">\n",
       "      <th></th>\n",
       "      <th>Chiffre d'Affaires HT</th>\n",
       "      <th>Chiffre d'Affaires TTC</th>\n",
       "      <th>Nombre moyen de produits / Ticket</th>\n",
       "      <th>Ticket moyen TTC</th>\n",
       "      <th>date</th>\n",
       "      <th>dow</th>\n",
       "      <th>day</th>\n",
       "      <th>month</th>\n",
       "      <th>week number</th>\n",
       "      <th>month week number</th>\n",
       "      <th>year</th>\n",
       "      <th>public holidays</th>\n",
       "    </tr>\n",
       "    <tr>\n",
       "      <th>date</th>\n",
       "      <th></th>\n",
       "      <th></th>\n",
       "      <th></th>\n",
       "      <th></th>\n",
       "      <th></th>\n",
       "      <th></th>\n",
       "      <th></th>\n",
       "      <th></th>\n",
       "      <th></th>\n",
       "      <th></th>\n",
       "      <th></th>\n",
       "      <th></th>\n",
       "    </tr>\n",
       "  </thead>\n",
       "  <tbody>\n",
       "    <tr>\n",
       "      <th>2018-10-31</th>\n",
       "      <td>1392.13</td>\n",
       "      <td>1659.2</td>\n",
       "      <td>1.6</td>\n",
       "      <td>9.88</td>\n",
       "      <td>2018-10-31</td>\n",
       "      <td>2</td>\n",
       "      <td>31</td>\n",
       "      <td>10</td>\n",
       "      <td>44</td>\n",
       "      <td>5</td>\n",
       "      <td>2018</td>\n",
       "      <td>0</td>\n",
       "    </tr>\n",
       "    <tr>\n",
       "      <th>2018-11-10</th>\n",
       "      <td>1370.21</td>\n",
       "      <td>1616.0</td>\n",
       "      <td>1.8</td>\n",
       "      <td>11.14</td>\n",
       "      <td>2018-11-10</td>\n",
       "      <td>5</td>\n",
       "      <td>10</td>\n",
       "      <td>11</td>\n",
       "      <td>45</td>\n",
       "      <td>1</td>\n",
       "      <td>2018</td>\n",
       "      <td>0</td>\n",
       "    </tr>\n",
       "    <tr>\n",
       "      <th>2018-12-13</th>\n",
       "      <td>1373.43</td>\n",
       "      <td>1632.4</td>\n",
       "      <td>1.9</td>\n",
       "      <td>12.75</td>\n",
       "      <td>2018-12-13</td>\n",
       "      <td>3</td>\n",
       "      <td>13</td>\n",
       "      <td>12</td>\n",
       "      <td>50</td>\n",
       "      <td>2</td>\n",
       "      <td>2018</td>\n",
       "      <td>0</td>\n",
       "    </tr>\n",
       "  </tbody>\n",
       "</table>\n",
       "</div>"
      ],
      "text/plain": [
       "            Chiffre d'Affaires HT  Chiffre d'Affaires TTC  \\\n",
       "date                                                        \n",
       "2018-10-31                1392.13                  1659.2   \n",
       "2018-11-10                1370.21                  1616.0   \n",
       "2018-12-13                1373.43                  1632.4   \n",
       "\n",
       "            Nombre moyen de produits / Ticket  Ticket moyen TTC       date  \\\n",
       "date                                                                         \n",
       "2018-10-31                                1.6              9.88 2018-10-31   \n",
       "2018-11-10                                1.8             11.14 2018-11-10   \n",
       "2018-12-13                                1.9             12.75 2018-12-13   \n",
       "\n",
       "            dow  day  month  week number  month week number  year  \\\n",
       "date                                                                \n",
       "2018-10-31    2   31     10           44                  5  2018   \n",
       "2018-11-10    5   10     11           45                  1  2018   \n",
       "2018-12-13    3   13     12           50                  2  2018   \n",
       "\n",
       "            public holidays  \n",
       "date                         \n",
       "2018-10-31                0  \n",
       "2018-11-10                0  \n",
       "2018-12-13                0  "
      ]
     },
     "execution_count": 43,
     "metadata": {},
     "output_type": "execute_result"
    }
   ],
   "source": [
    "daily[daily[\"Chiffre d'Affaires TTC\"] > 1500]"
   ]
  },
  {
   "cell_type": "markdown",
   "metadata": {},
   "source": [
    "Each month, one event help raising the income:\n",
    "* 2018-09-08: opening\n",
    "* 2018-10-31: halloween\n",
    "* 2018-11-10: Nabla & JM\n",
    "* 2018-12-13: Christmas co-plateau\n",
    "* 2018-01-05: privatisation"
   ]
  },
  {
   "cell_type": "code",
   "execution_count": 44,
   "metadata": {},
   "outputs": [
    {
     "data": {
      "image/png": "[encoded data removed]",
      "text/plain": [
       "<Figure size 432x288 with 1 Axes>"
      ]
     },
     "metadata": {
      "needs_background": "light"
     },
     "output_type": "display_data"
    },
    {
     "data": {
      "image/png": "[encoded data removed]",
      "text/plain": [
       "<Figure size 432x288 with 1 Axes>"
      ]
     },
     "metadata": {
      "needs_background": "light"
     },
     "output_type": "display_data"
    },
    {
     "data": {
      "image/png": "[encoded data removed]",
      "text/plain": [
       "<Figure size 432x288 with 1 Axes>"
      ]
     },
     "metadata": {
      "needs_background": "light"
     },
     "output_type": "display_data"
    },
    {
     "data": {
      "image/png": "[encoded data removed]",
      "text/plain": [
       "<Figure size 432x288 with 1 Axes>"
      ]
     },
     "metadata": {
      "needs_background": "light"
     },
     "output_type": "display_data"
    },
    {
     "data": {
      "image/png": "[encoded data removed]",
      "text/plain": [
       "<Figure size 432x288 with 1 Axes>"
      ]
     },
     "metadata": {
      "needs_background": "light"
     },
     "output_type": "display_data"
    },
    {
     "data": {
      "image/png": "[encoded data removed]",
      "text/plain": [
       "<Figure size 432x288 with 1 Axes>"
      ]
     },
     "metadata": {
      "needs_background": "light"
     },
     "output_type": "display_data"
    },
    {
     "data": {
      "image/png": "[encoded data removed]",
      "text/plain": [
       "<Figure size 432x288 with 1 Axes>"
      ]
     },
     "metadata": {
      "needs_background": "light"
     },
     "output_type": "display_data"
    }
   ],
   "source": [
    "for title, group in daily.groupby(\"dow\"):\n",
    "    plt.figure()\n",
    "    group[\"Chiffre d'Affaires TTC\"].plot(kind=\"hist\", title=title)"
   ]
  },
  {
   "cell_type": "code",
   "execution_count": 45,
   "metadata": {},
   "outputs": [],
   "source": [
    "t = daily.loc[:, [\"dow\", \"Chiffre d'Affaires TTC\"]]\n",
    "t = t.groupby(\"dow\").describe()"
   ]
  },
  {
   "cell_type": "code",
   "execution_count": 46,
   "metadata": {},
   "outputs": [
    {
     "data": {
      "text/plain": [
       "<matplotlib.axes._subplots.AxesSubplot at 0x7fb64450aa90>"
      ]
     },
     "execution_count": 46,
     "metadata": {},
     "output_type": "execute_result"
    },
    {
     "data": {
      "image/png": "[encoded data removed]",
      "text/plain": [
       "<Figure size 432x288 with 1 Axes>"
      ]
     },
     "metadata": {
      "needs_background": "light"
     },
     "output_type": "display_data"
    },
    {
     "data": {
      "image/png": "[encoded data removed]",
      "text/plain": [
       "<Figure size 432x288 with 1 Axes>"
      ]
     },
     "metadata": {
      "needs_background": "light"
     },
     "output_type": "display_data"
    }
   ],
   "source": [
    "daily.boxplot(column=\"Chiffre d'Affaires TTC\", by=\"dow\")\n",
    "daily.boxplot(column=\"Chiffre d'Affaires TTC\", by=\"month\")"
   ]
  },
  {
   "cell_type": "code",
   "execution_count": 47,
   "metadata": {},
   "outputs": [],
   "source": [
    "t = daily.loc[:, [\"month\", \"Chiffre d'Affaires TTC\"]]\n",
    "t = t.groupby(\"month\").describe()"
   ]
  },
  {
   "cell_type": "code",
   "execution_count": 48,
   "metadata": {},
   "outputs": [],
   "source": [
    "t = daily.loc[:, [\"day\", \"Chiffre d'Affaires TTC\"]]\n",
    "t = t.groupby(\"day\").describe()"
   ]
  },
  {
   "cell_type": "code",
   "execution_count": 49,
   "metadata": {},
   "outputs": [
    {
     "data": {
      "text/plain": [
       "<matplotlib.axes._subplots.AxesSubplot at 0x7fb6442e16d8>"
      ]
     },
     "execution_count": 49,
     "metadata": {},
     "output_type": "execute_result"
    },
    {
     "data": {
      "image/png": "[encoded data removed]",
      "text/plain": [
       "<Figure size 432x288 with 1 Axes>"
      ]
     },
     "metadata": {
      "needs_background": "light"
     },
     "output_type": "display_data"
    }
   ],
   "source": [
    "daily[\"Chiffre d'Affaires TTC\"].plot()"
   ]
  },
  {
   "cell_type": "markdown",
   "metadata": {},
   "source": [
    "This graph denote weekly seasonalities"
   ]
  },
  {
   "cell_type": "code",
   "execution_count": 50,
   "metadata": {},
   "outputs": [
    {
     "data": {
      "text/plain": [
       "<matplotlib.axes._subplots.AxesSubplot at 0x7fb6442372b0>"
      ]
     },
     "execution_count": 50,
     "metadata": {},
     "output_type": "execute_result"
    },
    {
     "data": {
      "image/png": "[encoded data removed]",
      "text/plain": [
       "<Figure size 432x288 with 1 Axes>"
      ]
     },
     "metadata": {
      "needs_background": "light"
     },
     "output_type": "display_data"
    }
   ],
   "source": [
    "t = daily.loc[:, [\"month week number\", \"Chiffre d'Affaires TTC\"]]\n",
    "t = t.groupby(\"month week number\").describe()\n",
    "#t.plot(figsize=(15,7))\n",
    "# t.iloc[:, [4, 5, 6]].plot(figsize=(15,7))\n",
    "daily.boxplot(column=\"Chiffre d'Affaires TTC\", by=\"month week number\")"
   ]
  },
  {
   "cell_type": "code",
   "execution_count": 51,
   "metadata": {},
   "outputs": [
    {
     "data": {
      "text/plain": [
       "<matplotlib.axes._subplots.AxesSubplot at 0x7fb64418c5c0>"
      ]
     },
     "execution_count": 51,
     "metadata": {},
     "output_type": "execute_result"
    },
    {
     "data": {
      "image/png": "[encoded data removed]",
      "text/plain": [
       "<Figure size 1080x504 with 1 Axes>"
      ]
     },
     "metadata": {
      "needs_background": "light"
     },
     "output_type": "display_data"
    }
   ],
   "source": [
    "t = daily.loc[:, [\"month week number\", \"dow\", \"Chiffre d'Affaires TTC\"]]\n",
    "t = t.groupby([\"month week number\", \"dow\"]).describe()\n",
    "\n",
    "# t.iloc[:, [4, 5, 6]].plot(figsize=(15,7))\n",
    "daily.boxplot(column=\"Chiffre d'Affaires TTC\", by=[\"month week number\", \"dow\"], figsize=(15, 7))"
   ]
  },
  {
   "cell_type": "markdown",
   "metadata": {},
   "source": [
    "The 1st friday after the 1st monday of each month is really a good day."
   ]
  },
  {
   "cell_type": "code",
   "execution_count": null,
   "metadata": {},
   "outputs": [],
   "source": []
  },
  {
   "cell_type": "markdown",
   "metadata": {},
   "source": [
    "## Predictions"
   ]
  },
  {
   "cell_type": "markdown",
   "metadata": {},
   "source": [
    "### time series analisis"
   ]
  },
  {
   "cell_type": "code",
   "execution_count": 52,
   "metadata": {},
   "outputs": [],
   "source": [
    "from datetime import timedelta\n",
    "from numpy.linalg import LinAlgError\n",
    "from sklearn.linear_model import LinearRegression\n",
    "# from statsmodels.tsa.arima_model import ARMA\n",
    "from statsmodels.tsa.ar_model import AR\n",
    "from statsmodels.tsa.seasonal import seasonal_decompose"
   ]
  },
  {
   "cell_type": "markdown",
   "metadata": {},
   "source": [
    "clean serie"
   ]
  },
  {
   "cell_type": "code",
   "execution_count": null,
   "metadata": {},
   "outputs": [],
   "source": []
  },
  {
   "cell_type": "code",
   "execution_count": 53,
   "metadata": {},
   "outputs": [
    {
     "data": {
      "text/plain": [
       "count     156.000000\n",
       "mean      439.831859\n",
       "std       378.640107\n",
       "min         0.000000\n",
       "25%       130.450000\n",
       "50%       399.350000\n",
       "75%       664.200000\n",
       "max      1659.200000\n",
       "Name: Chiffre d'Affaires TTC, dtype: float64"
      ]
     },
     "execution_count": 53,
     "metadata": {},
     "output_type": "execute_result"
    }
   ],
   "source": [
    "t = daily[\"Chiffre d'Affaires TTC\"].resample('1D').mean()\n",
    "t = t.interpolate()\n",
    "\n",
    "zeros = pd.Series(0, index=[d for d in pd.date_range(start_date, end_date) if d not in open_days])\n",
    "for day in zeros.index:\n",
    "    t[day] = 0\n",
    "\n",
    "cleaned_daily = t\n",
    "cleaned_daily.describe()"
   ]
  },
  {
   "cell_type": "code",
   "execution_count": 54,
   "metadata": {},
   "outputs": [
    {
     "data": {
      "text/plain": [
       "<matplotlib.axes._subplots.AxesSubplot at 0x7fb6447112e8>"
      ]
     },
     "execution_count": 54,
     "metadata": {},
     "output_type": "execute_result"
    },
    {
     "data": {
      "image/png": "[encoded data removed]",
      "text/plain": [
       "<Figure size 432x288 with 1 Axes>"
      ]
     },
     "metadata": {
      "needs_background": "light"
     },
     "output_type": "display_data"
    }
   ],
   "source": [
    "cleaned_daily.plot()"
   ]
  },
  {
   "cell_type": "code",
   "execution_count": 55,
   "metadata": {},
   "outputs": [],
   "source": [
    "split_date =pd.date_range(start_date, end_date, 5)[3]\n",
    "daily_X_train_test = pd.DataFrame(cleaned_daily)\n",
    "daily_X_train, daily_X_test = (\n",
    "    daily_X_train_test[daily_X_train_test.index < split_date], \n",
    "    daily_X_train_test[daily_X_train_test.index >= split_date]\n",
    ")"
   ]
  },
  {
   "cell_type": "markdown",
   "metadata": {},
   "source": [
    "detrend"
   ]
  },
  {
   "cell_type": "code",
   "execution_count": 56,
   "metadata": {},
   "outputs": [
    {
     "ename": "ValueError",
     "evalue": "Length of values does not match length of index",
     "output_type": "error",
     "traceback": [
      "\u001b[0;31m---------------------------------------------------------------------------\u001b[0m",
      "\u001b[0;31mValueError\u001b[0m                                Traceback (most recent call last)",
      "\u001b[0;32m<ipython-input-56-b9fc9bb687d4>\u001b[0m in \u001b[0;36m<module>\u001b[0;34m\u001b[0m\n\u001b[1;32m      4\u001b[0m \u001b[0;34m\u001b[0m\u001b[0m\n\u001b[1;32m      5\u001b[0m \u001b[0;34m\u001b[0m\u001b[0m\n\u001b[0;32m----> 6\u001b[0;31m \u001b[0mdaily_X_train\u001b[0m\u001b[0;34m[\u001b[0m\u001b[0;34m\"trend\"\u001b[0m\u001b[0;34m]\u001b[0m \u001b[0;34m=\u001b[0m \u001b[0mtrend\u001b[0m\u001b[0;34m\u001b[0m\u001b[0;34m\u001b[0m\u001b[0m\n\u001b[0m\u001b[1;32m      7\u001b[0m \u001b[0;31m# daily_X_train[\"detrend\"] = cleaned_daily - trend\u001b[0m\u001b[0;34m\u001b[0m\u001b[0;34m\u001b[0m\u001b[0;34m\u001b[0m\u001b[0m\n\u001b[1;32m      8\u001b[0m \u001b[0mdaily_X_train\u001b[0m\u001b[0;34m.\u001b[0m\u001b[0mdescribe\u001b[0m\u001b[0;34m(\u001b[0m\u001b[0;34m)\u001b[0m\u001b[0;34m\u001b[0m\u001b[0;34m\u001b[0m\u001b[0m\n",
      "\u001b[0;32m~/.venvs/notebook/lib/python3.7/site-packages/pandas/core/frame.py\u001b[0m in \u001b[0;36m__setitem__\u001b[0;34m(self, key, value)\u001b[0m\n\u001b[1;32m   3368\u001b[0m         \u001b[0;32melse\u001b[0m\u001b[0;34m:\u001b[0m\u001b[0;34m\u001b[0m\u001b[0;34m\u001b[0m\u001b[0m\n\u001b[1;32m   3369\u001b[0m             \u001b[0;31m# set column\u001b[0m\u001b[0;34m\u001b[0m\u001b[0;34m\u001b[0m\u001b[0;34m\u001b[0m\u001b[0m\n\u001b[0;32m-> 3370\u001b[0;31m             \u001b[0mself\u001b[0m\u001b[0;34m.\u001b[0m\u001b[0m_set_item\u001b[0m\u001b[0;34m(\u001b[0m\u001b[0mkey\u001b[0m\u001b[0;34m,\u001b[0m \u001b[0mvalue\u001b[0m\u001b[0;34m)\u001b[0m\u001b[0;34m\u001b[0m\u001b[0;34m\u001b[0m\u001b[0m\n\u001b[0m\u001b[1;32m   3371\u001b[0m \u001b[0;34m\u001b[0m\u001b[0m\n\u001b[1;32m   3372\u001b[0m     \u001b[0;32mdef\u001b[0m \u001b[0m_setitem_slice\u001b[0m\u001b[0;34m(\u001b[0m\u001b[0mself\u001b[0m\u001b[0;34m,\u001b[0m \u001b[0mkey\u001b[0m\u001b[0;34m,\u001b[0m \u001b[0mvalue\u001b[0m\u001b[0;34m)\u001b[0m\u001b[0;34m:\u001b[0m\u001b[0;34m\u001b[0m\u001b[0;34m\u001b[0m\u001b[0m\n",
      "\u001b[0;32m~/.venvs/notebook/lib/python3.7/site-packages/pandas/core/frame.py\u001b[0m in \u001b[0;36m_set_item\u001b[0;34m(self, key, value)\u001b[0m\n\u001b[1;32m   3443\u001b[0m \u001b[0;34m\u001b[0m\u001b[0m\n\u001b[1;32m   3444\u001b[0m         \u001b[0mself\u001b[0m\u001b[0;34m.\u001b[0m\u001b[0m_ensure_valid_index\u001b[0m\u001b[0;34m(\u001b[0m\u001b[0mvalue\u001b[0m\u001b[0;34m)\u001b[0m\u001b[0;34m\u001b[0m\u001b[0;34m\u001b[0m\u001b[0m\n\u001b[0;32m-> 3445\u001b[0;31m         \u001b[0mvalue\u001b[0m \u001b[0;34m=\u001b[0m \u001b[0mself\u001b[0m\u001b[0;34m.\u001b[0m\u001b[0m_sanitize_column\u001b[0m\u001b[0;34m(\u001b[0m\u001b[0mkey\u001b[0m\u001b[0;34m,\u001b[0m \u001b[0mvalue\u001b[0m\u001b[0;34m)\u001b[0m\u001b[0;34m\u001b[0m\u001b[0;34m\u001b[0m\u001b[0m\n\u001b[0m\u001b[1;32m   3446\u001b[0m         \u001b[0mNDFrame\u001b[0m\u001b[0;34m.\u001b[0m\u001b[0m_set_item\u001b[0m\u001b[0;34m(\u001b[0m\u001b[0mself\u001b[0m\u001b[0;34m,\u001b[0m \u001b[0mkey\u001b[0m\u001b[0;34m,\u001b[0m \u001b[0mvalue\u001b[0m\u001b[0;34m)\u001b[0m\u001b[0;34m\u001b[0m\u001b[0;34m\u001b[0m\u001b[0m\n\u001b[1;32m   3447\u001b[0m \u001b[0;34m\u001b[0m\u001b[0m\n",
      "\u001b[0;32m~/.venvs/notebook/lib/python3.7/site-packages/pandas/core/frame.py\u001b[0m in \u001b[0;36m_sanitize_column\u001b[0;34m(self, key, value, broadcast)\u001b[0m\n\u001b[1;32m   3628\u001b[0m \u001b[0;34m\u001b[0m\u001b[0m\n\u001b[1;32m   3629\u001b[0m             \u001b[0;31m# turn me into an ndarray\u001b[0m\u001b[0;34m\u001b[0m\u001b[0;34m\u001b[0m\u001b[0;34m\u001b[0m\u001b[0m\n\u001b[0;32m-> 3630\u001b[0;31m             \u001b[0mvalue\u001b[0m \u001b[0;34m=\u001b[0m \u001b[0msanitize_index\u001b[0m\u001b[0;34m(\u001b[0m\u001b[0mvalue\u001b[0m\u001b[0;34m,\u001b[0m \u001b[0mself\u001b[0m\u001b[0;34m.\u001b[0m\u001b[0mindex\u001b[0m\u001b[0;34m,\u001b[0m \u001b[0mcopy\u001b[0m\u001b[0;34m=\u001b[0m\u001b[0;32mFalse\u001b[0m\u001b[0;34m)\u001b[0m\u001b[0;34m\u001b[0m\u001b[0;34m\u001b[0m\u001b[0m\n\u001b[0m\u001b[1;32m   3631\u001b[0m             \u001b[0;32mif\u001b[0m \u001b[0;32mnot\u001b[0m \u001b[0misinstance\u001b[0m\u001b[0;34m(\u001b[0m\u001b[0mvalue\u001b[0m\u001b[0;34m,\u001b[0m \u001b[0;34m(\u001b[0m\u001b[0mnp\u001b[0m\u001b[0;34m.\u001b[0m\u001b[0mndarray\u001b[0m\u001b[0;34m,\u001b[0m \u001b[0mIndex\u001b[0m\u001b[0;34m)\u001b[0m\u001b[0;34m)\u001b[0m\u001b[0;34m:\u001b[0m\u001b[0;34m\u001b[0m\u001b[0;34m\u001b[0m\u001b[0m\n\u001b[1;32m   3632\u001b[0m                 \u001b[0;32mif\u001b[0m \u001b[0misinstance\u001b[0m\u001b[0;34m(\u001b[0m\u001b[0mvalue\u001b[0m\u001b[0;34m,\u001b[0m \u001b[0mlist\u001b[0m\u001b[0;34m)\u001b[0m \u001b[0;32mand\u001b[0m \u001b[0mlen\u001b[0m\u001b[0;34m(\u001b[0m\u001b[0mvalue\u001b[0m\u001b[0;34m)\u001b[0m \u001b[0;34m>\u001b[0m \u001b[0;36m0\u001b[0m\u001b[0;34m:\u001b[0m\u001b[0;34m\u001b[0m\u001b[0;34m\u001b[0m\u001b[0m\n",
      "\u001b[0;32m~/.venvs/notebook/lib/python3.7/site-packages/pandas/core/internals/construction.py\u001b[0m in \u001b[0;36msanitize_index\u001b[0;34m(data, index, copy)\u001b[0m\n\u001b[1;32m    517\u001b[0m \u001b[0;34m\u001b[0m\u001b[0m\n\u001b[1;32m    518\u001b[0m     \u001b[0;32mif\u001b[0m \u001b[0mlen\u001b[0m\u001b[0;34m(\u001b[0m\u001b[0mdata\u001b[0m\u001b[0;34m)\u001b[0m \u001b[0;34m!=\u001b[0m \u001b[0mlen\u001b[0m\u001b[0;34m(\u001b[0m\u001b[0mindex\u001b[0m\u001b[0;34m)\u001b[0m\u001b[0;34m:\u001b[0m\u001b[0;34m\u001b[0m\u001b[0;34m\u001b[0m\u001b[0m\n\u001b[0;32m--> 519\u001b[0;31m         \u001b[0;32mraise\u001b[0m \u001b[0mValueError\u001b[0m\u001b[0;34m(\u001b[0m\u001b[0;34m'Length of values does not match length of index'\u001b[0m\u001b[0;34m)\u001b[0m\u001b[0;34m\u001b[0m\u001b[0;34m\u001b[0m\u001b[0m\n\u001b[0m\u001b[1;32m    520\u001b[0m \u001b[0;34m\u001b[0m\u001b[0m\n\u001b[1;32m    521\u001b[0m     \u001b[0;32mif\u001b[0m \u001b[0misinstance\u001b[0m\u001b[0;34m(\u001b[0m\u001b[0mdata\u001b[0m\u001b[0;34m,\u001b[0m \u001b[0mABCIndexClass\u001b[0m\u001b[0;34m)\u001b[0m \u001b[0;32mand\u001b[0m \u001b[0;32mnot\u001b[0m \u001b[0mcopy\u001b[0m\u001b[0;34m:\u001b[0m\u001b[0;34m\u001b[0m\u001b[0;34m\u001b[0m\u001b[0m\n",
      "\u001b[0;31mValueError\u001b[0m: Length of values does not match length of index"
     ]
    }
   ],
   "source": [
    "index = np.arange(len(cleaned_daily)).reshape(-1,1)\n",
    "TREND_REG = LinearRegression().fit(index, cleaned_daily)\n",
    "trend = TREND_REG.predict(index)\n",
    "\n",
    "\n",
    "daily_X_train[\"trend\"] = trend\n",
    "# daily_X_train[\"detrend\"] = cleaned_daily - trend\n",
    "daily_X_train.describe()"
   ]
  },
  {
   "cell_type": "code",
   "execution_count": null,
   "metadata": {},
   "outputs": [],
   "source": [
    "daily_X_train.plot(figsize=(15, 7))"
   ]
  },
  {
   "cell_type": "code",
   "execution_count": null,
   "metadata": {},
   "outputs": [],
   "source": [
    "# trend function for forecasts\n",
    "def forecast_trend(day1):\n",
    "    \"\"\" Return the trend part for the date day\n",
    "    \"\"\"\n",
    "    day0 = daily.index[0]\n",
    "    day0 = datetime(day0.year, day0.month, day0.day)\n",
    "    day1 = datetime(day1.year, day1.month, day1.day)\n",
    "    return TREND_REG.predict(np.array([(day1 - day0).days]).reshape(1, -1))[0]\n",
    "\n",
    "forecast_trend(datetime.now().date())"
   ]
  },
  {
   "cell_type": "markdown",
   "metadata": {},
   "source": [
    "seasonalities"
   ]
  },
  {
   "cell_type": "code",
   "execution_count": null,
   "metadata": {},
   "outputs": [],
   "source": [
    "seasons = seasonal_decompose(daily_X_train)\n",
    "seasonal, trend, residual = seasons.seasonal, seasons.trend, seasons.resid"
   ]
  },
  {
   "cell_type": "code",
   "execution_count": null,
   "metadata": {},
   "outputs": [],
   "source": [
    "daily_X_train[\"auto trend\"] = trend[\"Chiffre d'Affaires TTC\"]\n",
    "daily_X_train[\"auto seasonals\"] = seasonal[\"Chiffre d'Affaires TTC\"]\n",
    "daily_X_train[\"auto residuals\"] = residual[\"Chiffre d'Affaires TTC\"]\n",
    "daily_X_train.plot(figsize=(15, 7))"
   ]
  },
  {
   "cell_type": "markdown",
   "metadata": {},
   "source": [
    "As expected, there is a weekly seasonality."
   ]
  },
  {
   "cell_type": "code",
   "execution_count": null,
   "metadata": {},
   "outputs": [],
   "source": [
    "ws = daily_X_train.head(7).copy()\n",
    "ws[\"dow\"] = list(map(lambda x: x.weekday(), ws.index))\n",
    "WEEKLY_SEASON = dict(zip(ws[\"dow\"], ws[\"auto seasonals\"]))\n",
    "\n",
    "def forecast_seasonality(day):\n",
    "    \"\"\"Return the seasonality component\n",
    "    \"\"\"\n",
    "    return WEEKLY_SEASON[day.weekday()]\n",
    "\n",
    "forecast_seasonality(datetime.now())"
   ]
  },
  {
   "cell_type": "code",
   "execution_count": null,
   "metadata": {},
   "outputs": [],
   "source": [
    "trend_season = daily_X_train.copy().reset_index()[\"date\"].apply(\n",
    "    lambda x: forecast_trend(x) + forecast_seasonality(x)\n",
    ")\n",
    "\n",
    "daily_X_train[\"trend + seasonal\"] = list(trend_season)\n",
    "daily_X_train.loc[:, [\"Chiffre d'Affaires TTC\", \"trend + seasonal\"]].plot(figsize=(15,7))"
   ]
  },
  {
   "cell_type": "markdown",
   "metadata": {},
   "source": [
    "residuals"
   ]
  },
  {
   "cell_type": "code",
   "execution_count": null,
   "metadata": {},
   "outputs": [],
   "source": [
    "#daily_X_train[\"residual\"] = daily_X_train[\"Chiffre d'Affaires TTC\"] - daily_X_train[\"trend + seasonal\"]\n",
    "daily_X_train[\"Chiffre d'Affaires TTC\"] - daily_X_train[\"trend + seasonal\"]\n",
    "\n",
    "#daily_X_train[\"residual\"].plot(figsize=(15,7))\n"
   ]
  },
  {
   "cell_type": "code",
   "execution_count": null,
   "metadata": {},
   "outputs": [],
   "source": [
    "res={}\n",
    "cleaned_ar = AR(cleaned_daily)"
   ]
  },
  {
   "cell_type": "code",
   "execution_count": null,
   "metadata": {},
   "outputs": [],
   "source": [
    "res = cleaned_ar.fit()\n",
    "#errors = pd.DataFrame(res).describe()\n",
    "print(res)\n",
    "res.k_ar\n",
    "res.predict(res.params, start=datetime.now())\n",
    "daily_X_train.index[0], daily_X_train.index[-1]"
   ]
  },
  {
   "cell_type": "code",
   "execution_count": null,
   "metadata": {},
   "outputs": [],
   "source": [
    "order\n"
   ]
  },
  {
   "cell_type": "markdown",
   "metadata": {},
   "source": [
    "### spectacle-based"
   ]
  },
  {
   "cell_type": "code",
   "execution_count": null,
   "metadata": {},
   "outputs": [],
   "source": [
    "# TODO:\n",
    "## data organisation\n",
    "# each day:\n",
    "# * fetch ordered list of {spectacle, duration, start_date, type}\n",
    "# for each spectacle:\n",
    "# * \"chiffre d'affaire TTC\"\n",
    "# --------------------\n",
    "# for each spectacle predict \"chiffre d'affaire\""
   ]
  }
 ],
 "metadata": {
  "kernelspec": {
   "display_name": "Python 3",
   "language": "python",
   "name": "python3"
  },
  "language_info": {
   "codemirror_mode": {
    "name": "ipython",
    "version": 3
   },
   "file_extension": ".py",
   "mimetype": "text/x-python",
   "name": "python",
   "nbconvert_exporter": "python",
   "pygments_lexer": "ipython3",
   "version": "3.7.3"
  }
 },
 "nbformat": 4,
 "nbformat_minor": 2
}

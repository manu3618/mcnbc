{
 "cells": [
  {
   "cell_type": "markdown",
   "metadata": {},
   "source": [
    "# SIR model"
   ]
  },
  {
   "cell_type": "code",
   "execution_count": null,
   "metadata": {},
   "outputs": [],
   "source": [
    "import matplotlib\n",
    "import matplotlib.pyplot as plt\n",
    "import numpy as np\n",
    "import pandas as pd\n",
    "from scipy.integrate import odeint\n",
    "\n",
    "%matplotlib inline"
   ]
  },
  {
   "cell_type": "markdown",
   "metadata": {},
   "source": [
    "## Model"
   ]
  },
  {
   "cell_type": "markdown",
   "metadata": {},
   "source": [
    "This is a compartimental model as described in [C Witkowski and B Blais (2013), \"Bayesian analysis of epidemics-zombies, influenza, and other diseases\"](https://arxiv.org/abs/1311.6376)\n",
    "\n",
    "\n",
    "The categories are:\n",
    "\n",
    "* S: suceptibles\n",
    "* I: infected\n",
    "* R: recovered\n",
    "* Q: quarantined\n",
    "* D: dead\n",
    "* AC: asymptomatic carriers\n",
    "\n",
    "The transition diagram used is the following:\n",
    "\n",
    "![](transition.png)"
   ]
  },
  {
   "cell_type": "code",
   "execution_count": null,
   "metadata": {},
   "outputs": [],
   "source": [
    "def system_fun(y, t, alpha, beta, gamma, zeta, mu, nu, tau):\n",
    "    \"\"\"system function\n",
    "    \"\"\"\n",
    "    S, I, R, Q, D, AC = y\n",
    "\n",
    "    derivatives = [\n",
    "        -nu * S * I + alpha * R - beta * (I + AC) * S,  # S\n",
    "        beta * (I + AC) * S - (zeta + gamma * (S + AC + R) + mu) * I,  # I\n",
    "        zeta * (I + Q) + tau * AC - alpha * R,  # R\n",
    "        gamma * (S + AC + R) * I - (mu + zeta) * Q,  # Q\n",
    "        mu * (I + Q),  # D\n",
    "        nu * S * I - tau * AC,  # AC\n",
    "    ]\n",
    "\n",
    "    return derivatives"
   ]
  },
  {
   "cell_type": "code",
   "execution_count": null,
   "metadata": {},
   "outputs": [],
   "source": [
    "PARAMS = {\"alpha\": 0, \"beta\": 1, \"gamma\": 0, \"zeta\": 0.2, \"mu\": 0.01, \"nu\": 0, \"tau\": 0}\n",
    "INIT_VALUES = {\"S\": 0.99, \"I\": 0.01, \"R\": 0, \"Q\": 0, \"D\": 0, \"AC\": 0}\n",
    "\n",
    "\n",
    "def solve(init_values=INIT_VALUES, model_params=PARAMS):\n",
    "    \"\"\"Return simulation result\n",
    "    \"\"\"\n",
    "    y0 = [init_values[key] for key in (\"S\", \"I\", \"R\", \"Q\", \"D\", \"AC\")]\n",
    "    t = np.linspace(0, 100, 10000)\n",
    "    fun = lambda y, t: system_fun(y, t, **model_params)\n",
    "    soln = odeint(fun, y0, t)\n",
    "\n",
    "    return soln"
   ]
  },
  {
   "cell_type": "code",
   "execution_count": null,
   "metadata": {},
   "outputs": [],
   "source": [
    "def zombie_plot(init_values=INIT_VALUES, model_params=PARAMS):\n",
    "    \"\"\"Plot simulation\n",
    "    \"\"\"\n",
    "    soln = solve(init_values, model_params)\n",
    "    df = pd.DataFrame(\n",
    "        soln,\n",
    "        columns=(\n",
    "            \"Susceptibles\",\n",
    "            \"Infected\",\n",
    "            \"Recovered\",\n",
    "            \"Quarantined\",\n",
    "            \"Dead\",\n",
    "            \"Asymptomatic carriers\",\n",
    "        ),\n",
    "    )\n",
    "    df.plot(figsize=(12, 7))"
   ]
  },
  {
   "cell_type": "markdown",
   "metadata": {},
   "source": [
    "## SIR with low death rate"
   ]
  },
  {
   "cell_type": "code",
   "execution_count": null,
   "metadata": {},
   "outputs": [],
   "source": [
    "zombie_plot()"
   ]
  },
  {
   "cell_type": "markdown",
   "metadata": {},
   "source": [
    "almost everyone is infected and recover"
   ]
  },
  {
   "cell_type": "markdown",
   "metadata": {},
   "source": [
    "## Low recovery rate"
   ]
  },
  {
   "cell_type": "code",
   "execution_count": null,
   "metadata": {},
   "outputs": [],
   "source": [
    "params = PARAMS.copy()\n",
    "params[\"zeta\"] = 0.01\n",
    "zombie_plot(model_params=params)"
   ]
  },
  {
   "cell_type": "markdown",
   "metadata": {},
   "source": [
    "More dead people than recovered."
   ]
  },
  {
   "cell_type": "markdown",
   "metadata": {},
   "source": [
    "## with asymptomatic carriers"
   ]
  },
  {
   "cell_type": "code",
   "execution_count": null,
   "metadata": {},
   "outputs": [],
   "source": [
    "params = PARAMS.copy()\n",
    "params.update({\"nu\": 0.5})\n",
    "zombie_plot(model_params=params)"
   ]
  },
  {
   "cell_type": "markdown",
   "metadata": {},
   "source": [
    "## with quarantine"
   ]
  },
  {
   "cell_type": "code",
   "execution_count": null,
   "metadata": {},
   "outputs": [],
   "source": [
    "params = PARAMS.copy()\n",
    "params.update({\"gamma\": 0.3})\n",
    "zombie_plot(model_params=params)"
   ]
  },
  {
   "cell_type": "markdown",
   "metadata": {},
   "source": [
    "infected are now divided into 2 waves"
   ]
  },
  {
   "cell_type": "markdown",
   "metadata": {},
   "source": [
    "## with everything"
   ]
  },
  {
   "cell_type": "code",
   "execution_count": null,
   "metadata": {},
   "outputs": [],
   "source": [
    "params = {\n",
    "    \"alpha\": 0.01,\n",
    "    \"beta\": 1,\n",
    "    \"gamma\": 0,\n",
    "    \"zeta\": 0.5,\n",
    "    \"mu\": 0.01,\n",
    "    \"nu\": 0.01,\n",
    "    \"tau\": 0.03,\n",
    "}\n",
    "zombie_plot(model_params=params)"
   ]
  },
  {
   "cell_type": "code",
   "execution_count": null,
   "metadata": {},
   "outputs": [],
   "source": [
    "params = {\n",
    "    \"alpha\": 0.01,\n",
    "    \"beta\": 1,\n",
    "    \"gamma\": 0,\n",
    "    \"zeta\": 0.5,\n",
    "    \"mu\": 0.01,\n",
    "    \"nu\": 0.01,\n",
    "    \"tau\": 0.05,\n",
    "}\n",
    "zombie_plot(model_params=params)"
   ]
  },
  {
   "cell_type": "markdown",
   "metadata": {},
   "source": [
    "even if the number of AC is small, the outcome is sensible to there immune capacity."
   ]
  },
  {
   "cell_type": "code",
   "execution_count": null,
   "metadata": {},
   "outputs": [],
   "source": []
  }
 ],
 "metadata": {
  "kernelspec": {
   "display_name": "notebooks",
   "language": "python",
   "name": "notebooks"
  },
  "language_info": {
   "codemirror_mode": {
    "name": "ipython",
    "version": 3
   },
   "file_extension": ".py",
   "mimetype": "text/x-python",
   "name": "python",
   "nbconvert_exporter": "python",
   "pygments_lexer": "ipython3",
   "version": "3.8.2"
  }
 },
 "nbformat": 4,
 "nbformat_minor": 4
}
